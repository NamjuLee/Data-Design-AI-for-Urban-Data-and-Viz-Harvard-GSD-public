{
 "cells": [
  {
   "cell_type": "markdown",
   "metadata": {},
   "source": []
  },
  {
   "cell_type": "markdown",
   "metadata": {},
   "source": [
    "-----\n",
    "##### Author: NJ Namju Lee / nj.namju@gmail.com  \n",
    "###### * Linkedin - https://www.linkedin.com/in/nj-namju-lee-926b3252/    * Git - https://github.com/NamjuLee  \n",
    "\n",
    "###### * Web - http://www.njstudio.co.kr                                  * Lab - http://www.njslab.com/NJSLabCore/  \n",
    "\n",
    "###### * Video(English) - https://www.youtube.com/c/njnamjulee            * Writing(English) - https://medium.com/@nj-namju  \n",
    "\n",
    "###### * Video(Korean) - https://www.youtube.com/c/CodeforDesign          * Writing(Korean) - https://brunch.co.kr/@njnamju  \n",
    "-----"
   ]
  },
  {
   "cell_type": "code",
   "execution_count": null,
   "metadata": {},
   "outputs": [],
   "source": []
  },
  {
   "cell_type": "code",
   "execution_count": 136,
   "metadata": {},
   "outputs": [
    {
     "data": {
      "text/plain": [
       "'2.5.2'"
      ]
     },
     "execution_count": 136,
     "metadata": {},
     "output_type": "execute_result"
    }
   ],
   "source": [
    "import numpy as np\n",
    "import tensorflow as tf\n",
    "# tf.logging.set_verbosity(tf.logging.ERROR)\n",
    "tf.__version__"
   ]
  },
  {
   "cell_type": "code",
   "execution_count": 137,
   "metadata": {},
   "outputs": [
    {
     "data": {
      "text/plain": [
       "'2.5.2'"
      ]
     },
     "execution_count": 137,
     "metadata": {},
     "output_type": "execute_result"
    }
   ],
   "source": [
    "import numpy as np\n",
    "import tensorflow as tf\n",
    "import tensorflow.keras as keras\n",
    "tf.version.VERSION"
   ]
  },
  {
   "cell_type": "code",
   "execution_count": 138,
   "metadata": {},
   "outputs": [
    {
     "name": "stdout",
     "output_type": "stream",
     "text": [
      "-40.0 degree Celsius = -40.0 degree Fahrenhet\n",
      "-10.0 degree Celsius = 14.0 degree Fahrenhet\n",
      "0.0 degree Celsius = 32.0 degree Fahrenhet\n",
      "8.0 degree Celsius = 46.4 degree Fahrenhet\n",
      "15.0 degree Celsius = 59.0 degree Fahrenhet\n",
      "22.0 degree Celsius = 71.6 degree Fahrenhet\n",
      "38.0 degree Celsius = 100.4 degree Fahrenhet\n"
     ]
    }
   ],
   "source": [
    "cTem = np.array([-40 , -10, 0, 8, 15, 22, 38], dtype = float)\n",
    "fTem = np.array([-40 , 14, 32, 46.4, 59, 71.6, 100.4], dtype = float)\n",
    "\n",
    "for i, c in enumerate(cTem):\n",
    "    print(\"{} degree Celsius = {} degree Fahrenhet\".format(c, fTem[i]))"
   ]
  },
  {
   "cell_type": "code",
   "execution_count": 139,
   "metadata": {},
   "outputs": [
    {
     "data": {
      "image/png": "[encoded data removed]",
      "text/plain": [
       "<Figure size 432x288 with 1 Axes>"
      ]
     },
     "metadata": {
      "needs_background": "light"
     },
     "output_type": "display_data"
    }
   ],
   "source": [
    "import matplotlib.pyplot as plt\n",
    "\n",
    "x = range(1, len(cTem) + 1)\n",
    "plt.plot(x, fTem, 'bo', label='Fahrenheit ')\n",
    "plt.plot(x, cTem, 'r^', label='Celsius ')\n",
    "plt.xlabel('Epochs')\n",
    "plt.ylabel('Val loss')\n",
    "plt.legend()\n",
    "plt.grid()\n",
    "plt.show()\n"
   ]
  },
  {
   "cell_type": "code",
   "execution_count": 140,
   "metadata": {},
   "outputs": [
    {
     "name": "stdout",
     "output_type": "stream",
     "text": [
      "fahrenheit: 100.4\n"
     ]
    }
   ],
   "source": [
    "# (0°C × 9/5) + 32 = 32\n",
    "celsius = 38\n",
    "fahrenheit = (celsius * 9 /5 ) + 32\n",
    "\n",
    "print('fahrenheit:', fahrenheit)\n"
   ]
  },
  {
   "cell_type": "code",
   "execution_count": 141,
   "metadata": {},
   "outputs": [
    {
     "name": "stdout",
     "output_type": "stream",
     "text": [
      "fahrenheit: 100.4\n",
      "fahrenheit: 38.0\n"
     ]
    }
   ],
   "source": [
    "# (0°C × 9/5) + 32 = 32\n",
    "def celsius2fahrenheit(celsius=32):\n",
    "    return (celsius * 9 /5 ) + 32\n",
    "\n",
    "# (32°F − 32) × 5/9 \n",
    "def fahrenheit2celsius(fahrenheit=32):\n",
    "    return (fahrenheit - 32) * 5 / 9 \n",
    "\n",
    "print('fahrenheit:', celsius2fahrenheit(38))\n",
    "print('fahrenheit:', fahrenheit2celsius(100.4))"
   ]
  },
  {
   "cell_type": "code",
   "execution_count": 142,
   "metadata": {},
   "outputs": [],
   "source": [
    "l0 = keras.layers.Dense(units=1, input_shape=[1])\n",
    "model = keras.Sequential([l0])\n",
    "\n",
    "# model = tf.keras.Sequential([\n",
    "#     tf.keras.layers.Dense(units=1, input_shape=[1])\n",
    "# ])"
   ]
  },
  {
   "cell_type": "code",
   "execution_count": 143,
   "metadata": {},
   "outputs": [],
   "source": [
    "model.compile(loss='mean_squared_error', optimizer=tf.keras.optimizers.Adam(0.1))"
   ]
  },
  {
   "cell_type": "code",
   "execution_count": 144,
   "metadata": {},
   "outputs": [
    {
     "name": "stdout",
     "output_type": "stream",
     "text": [
      "done\n"
     ]
    }
   ],
   "source": [
    "history = model.fit(\n",
    "    cTem, fTem, \n",
    "    epochs=50, \n",
    "    verbose=False\n",
    "    )\n",
    "print('done')"
   ]
  },
  {
   "cell_type": "code",
   "execution_count": 145,
   "metadata": {},
   "outputs": [
    {
     "data": {
      "text/plain": [
       "[<matplotlib.lines.Line2D at 0x178703b26a0>]"
      ]
     },
     "execution_count": 145,
     "metadata": {},
     "output_type": "execute_result"
    },
    {
     "data": {
      "image/png": "[encoded data removed]",
      "text/plain": [
       "<Figure size 432x288 with 1 Axes>"
      ]
     },
     "metadata": {
      "needs_background": "light"
     },
     "output_type": "display_data"
    }
   ],
   "source": [
    "import matplotlib.pyplot as plt\n",
    "plt.xlabel('epoch num')\n",
    "plt.ylabel('loss, magnitude')\n",
    "plt.plot(history.history['loss'])"
   ]
  },
  {
   "cell_type": "code",
   "execution_count": 146,
   "metadata": {},
   "outputs": [
    {
     "name": "stdout",
     "output_type": "stream",
     "text": [
      "[[-17.814016]\n",
      " [ 27.012934]\n",
      " [228.7342  ]]\n"
     ]
    }
   ],
   "source": [
    "print(model.predict([-10, 10, 100.0]))"
   ]
  },
  {
   "cell_type": "code",
   "execution_count": 147,
   "metadata": {},
   "outputs": [
    {
     "name": "stdout",
     "output_type": "stream",
     "text": [
      "these are the layer variable: [array([[2.2413476]], dtype=float32), array([4.599458], dtype=float32)]\n"
     ]
    }
   ],
   "source": [
    "print(\"these are the layer variable: {}\".format(l0.get_weights()) )"
   ]
  },
  {
   "cell_type": "code",
   "execution_count": 148,
   "metadata": {},
   "outputs": [
    {
     "name": "stdout",
     "output_type": "stream",
     "text": [
      "True:  -40.0 , prediction:  -85.05444 , difference:  -45.054443359375\n",
      "True:  14.0 , prediction:  -17.814016 , difference:  -31.814016342163086\n",
      "True:  32.0 , prediction:  4.599458 , difference:  -27.40054178237915\n",
      "True:  46.4 , prediction:  22.53024 , difference:  -23.86976089477539\n",
      "True:  59.0 , prediction:  38.21967 , difference:  -20.780330657958984\n",
      "True:  71.6 , prediction:  53.909103 , difference:  -17.690896606445307\n",
      "True:  100.4 , prediction:  89.77066 , difference:  -10.62933959960938\n"
     ]
    }
   ],
   "source": [
    "predY = model.predict(cTem)\n",
    "\n",
    "for i in range(len(predY)):\n",
    "    print ('True: ', fTem[i], ', prediction: ', predY[i][0], ', difference: ', predY[i][0] - fTem[i] )"
   ]
  },
  {
   "cell_type": "code",
   "execution_count": 149,
   "metadata": {},
   "outputs": [
    {
     "data": {
      "image/png": "[encoded data removed]",
      "text/plain": [
       "<Figure size 432x288 with 1 Axes>"
      ]
     },
     "metadata": {
      "needs_background": "light"
     },
     "output_type": "display_data"
    }
   ],
   "source": [
    "x = range(1, len(predY) + 1)\n",
    "plt.plot(x, fTem, 'bo', label='Celsius ')\n",
    "plt.plot(x, predY, 'r+', label='Fahrenheit ')\n",
    "plt.xlabel('Epochs')\n",
    "plt.ylabel('Val loss')\n",
    "plt.legend()\n",
    "plt.grid()\n",
    "plt.show()"
   ]
  },
  {
   "cell_type": "code",
   "execution_count": null,
   "metadata": {},
   "outputs": [],
   "source": []
  },
  {
   "cell_type": "code",
   "execution_count": 150,
   "metadata": {},
   "outputs": [
    {
     "name": "stdout",
     "output_type": "stream",
     "text": [
      "True:  -40.0 , prediction:  -85.05444 , difference:  -45.054443359375\n",
      "True:  14.0 , prediction:  -17.814016 , difference:  -31.814016342163086\n",
      "True:  32.0 , prediction:  4.599458 , difference:  -27.40054178237915\n",
      "True:  46.4 , prediction:  22.53024 , difference:  -23.86976089477539\n",
      "True:  59.0 , prediction:  38.21967 , difference:  -20.780330657958984\n",
      "True:  71.6 , prediction:  53.909103 , difference:  -17.690896606445307\n",
      "True:  100.4 , prediction:  89.77066 , difference:  -10.62933959960938\n",
      "745.7660718145822\n"
     ]
    }
   ],
   "source": [
    "predY = model.predict(cTem)\n",
    "\n",
    "sum = 0\n",
    "for i in range(len(predY)):\n",
    "    sum += (predY[i][0] - fTem[i]) * (predY[i][0] - fTem[i])\n",
    "    print ('True: ', fTem[i], ', prediction: ', predY[i][0], ', difference: ', predY[i][0] - fTem[i] )\n",
    "\n",
    "print( sum / len(predY))"
   ]
  },
  {
   "cell_type": "code",
   "execution_count": 151,
   "metadata": {},
   "outputs": [
    {
     "data": {
      "text/plain": [
       "745.7660718145822"
      ]
     },
     "execution_count": 151,
     "metadata": {},
     "output_type": "execute_result"
    }
   ],
   "source": [
    "from sklearn import metrics\n",
    "result = metrics.mean_squared_error(fTem, predY)\n",
    "result"
   ]
  },
  {
   "cell_type": "code",
   "execution_count": null,
   "metadata": {},
   "outputs": [],
   "source": []
  },
  {
   "cell_type": "code",
   "execution_count": null,
   "metadata": {},
   "outputs": [],
   "source": []
  },
  {
   "cell_type": "code",
   "execution_count": null,
   "metadata": {},
   "outputs": [],
   "source": []
  },
  {
   "cell_type": "code",
   "execution_count": 152,
   "metadata": {},
   "outputs": [],
   "source": [
    "## more "
   ]
  },
  {
   "cell_type": "code",
   "execution_count": 153,
   "metadata": {},
   "outputs": [
    {
     "data": {
      "text/plain": [
       "<tensorflow.python.keras.callbacks.History at 0x1787072ff40>"
      ]
     },
     "execution_count": 153,
     "metadata": {},
     "output_type": "execute_result"
    }
   ],
   "source": [
    "\n",
    "modelSecond = tf.keras.Sequential([\n",
    "    tf.keras.layers.Dense(units=4, input_shape=[1]),\n",
    "    tf.keras.layers.Dense(units=4),\n",
    "    tf.keras.layers.Dense(units=1),\n",
    "])\n",
    "modelSecond.compile(loss='mean_squared_error', optimizer=tf.keras.optimizers.Adam(0.1))\n",
    "modelSecond.fit(cTem, fTem, epochs=100, verbose=False)"
   ]
  },
  {
   "cell_type": "code",
   "execution_count": 154,
   "metadata": {},
   "outputs": [
    {
     "name": "stdout",
     "output_type": "stream",
     "text": [
      "[[100.347115]]\n",
      "[[89.77066]]\n"
     ]
    }
   ],
   "source": [
    "print(modelSecond.predict([38.0]))\n",
    "print(model.predict([38.0]))"
   ]
  },
  {
   "cell_type": "code",
   "execution_count": 155,
   "metadata": {},
   "outputs": [
    {
     "name": "stdout",
     "output_type": "stream",
     "text": [
      "weight l0 [array([[2.2413476]], dtype=float32), array([4.599458], dtype=float32)]\n",
      "weight l1 [array([[-0.6526019 , -0.29504278,  0.18355547, -0.67677015],\n",
      "       [ 0.16668808,  0.6201212 , -0.8475037 ,  1.3062905 ],\n",
      "       [-0.3331575 ,  0.6011031 ,  0.3956751 ,  0.2742094 ],\n",
      "       [ 0.6549148 ,  1.3474215 , -0.18603535,  0.6620404 ]],\n",
      "      dtype=float32), array([ 0.20331497, -3.9182138 , -1.7482332 , -3.9604974 ], dtype=float32)]\n",
      "weight l2 [array([[ 0.00134371],\n",
      "       [-1.2499856 ],\n",
      "       [-0.07936848],\n",
      "       [-1.0392642 ]], dtype=float32), array([3.5277538], dtype=float32)]\n"
     ]
    }
   ],
   "source": [
    "print('weight l0' , l0.get_weights() )\n",
    "print('weight l1' , l1.get_weights() )\n",
    "print('weight l2' , l2.get_weights() )"
   ]
  },
  {
   "cell_type": "code",
   "execution_count": null,
   "metadata": {},
   "outputs": [],
   "source": []
  },
  {
   "cell_type": "code",
   "execution_count": 157,
   "metadata": {},
   "outputs": [
    {
     "data": {
      "text/plain": [
       "0.03133274602928803"
      ]
     },
     "execution_count": 157,
     "metadata": {},
     "output_type": "execute_result"
    }
   ],
   "source": [
    "predY = modelSecond.predict(cTem)\n",
    "result = metrics.mean_squared_error(fTem, predY)\n",
    "result"
   ]
  },
  {
   "cell_type": "code",
   "execution_count": null,
   "metadata": {},
   "outputs": [],
   "source": []
  }
 ],
 "metadata": {
  "kernelspec": {
   "display_name": "Python 3.9.9 ('tf-gpu-2021')",
   "language": "python",
   "name": "python3"
  },
  "language_info": {
   "codemirror_mode": {
    "name": "ipython",
    "version": 3
   },
   "file_extension": ".py",
   "mimetype": "text/x-python",
   "name": "python",
   "nbconvert_exporter": "python",
   "pygments_lexer": "ipython3",
   "version": "3.9.9"
  },
  "vscode": {
   "interpreter": {
    "hash": "013cb43bc82c93deec78737468eebf90940d36d7ac13c74e2434686121b8a692"
   }
  }
 },
 "nbformat": 4,
 "nbformat_minor": 2
}
