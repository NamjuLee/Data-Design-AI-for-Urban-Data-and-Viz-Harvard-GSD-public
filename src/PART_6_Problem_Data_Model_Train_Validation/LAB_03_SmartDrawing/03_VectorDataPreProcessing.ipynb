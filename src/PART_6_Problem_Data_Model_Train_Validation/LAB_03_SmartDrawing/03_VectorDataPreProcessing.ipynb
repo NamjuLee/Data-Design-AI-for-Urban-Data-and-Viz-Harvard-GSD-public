{
 "cells": [
  {
   "cell_type": "code",
   "execution_count": null,
   "metadata": {},
   "outputs": [],
   "source": []
  },
  {
   "cell_type": "code",
   "execution_count": 11,
   "metadata": {},
   "outputs": [],
   "source": [
    "import json\n",
    "import numpy as np"
   ]
  },
  {
   "cell_type": "code",
   "execution_count": 12,
   "metadata": {},
   "outputs": [],
   "source": [
    "def OpenJson(path): \n",
    "    json_file = open(path , 'r')\n",
    "    json_str = json_file.read()\n",
    "    json_data = json.loads(json_str)\n",
    "    return json_data"
   ]
  },
  {
   "cell_type": "code",
   "execution_count": 13,
   "metadata": {},
   "outputs": [],
   "source": [
    "# import sys\n",
    "# sys.path.append('../../[NJSCore]/')\n",
    "# import NIO\n",
    "# import NDataUtility\n",
    "\n",
    "# import numpy as np\n",
    "# import pandas as pd\n",
    "# import cv2\n",
    "\n",
    "# print('----------------------------')\n",
    "# # print 'NIO' , NIO.__version__\n",
    "# print('numpy:', np.__version__)\n",
    "# print('pandas:', pd.__version__)\n",
    "\n",
    "# import tensorflow as tf\n",
    "# print('tensorflow', tf.__version__)\n",
    "# print('cv2' , cv2.__version__)\n",
    "# print('python', sys.version)\n",
    "# print('----------------------------')"
   ]
  },
  {
   "cell_type": "code",
   "execution_count": 14,
   "metadata": {},
   "outputs": [],
   "source": [
    "trainDataRaw = []\n",
    "trainDataRaw.append(OpenJson('./data/vector/TrainDataForCircle.json'))\n",
    "trainDataRaw.append(OpenJson('./data/vector/TrainDataForRect.json'))\n",
    "trainDataRaw.append(OpenJson('./data/vector/TrainDataForTri.json'))\n",
    "trainDataRaw.append(OpenJson('./data/vector/TrainDataHexgon.json'))\n",
    "trainDataRaw.append(OpenJson('./data/vector/TrainDataRandom.json'))"
   ]
  },
  {
   "cell_type": "code",
   "execution_count": 15,
   "metadata": {},
   "outputs": [],
   "source": [
    "def SplitData(d, classID):\n",
    "    outDot = []\n",
    "    outpos = []\n",
    "    index = 0\n",
    "    for i in d:\n",
    "        if(index % 2 == 0):\n",
    "            temp = [];\n",
    "            for j in d[i]:\n",
    "                temp.append(j)\n",
    "            temp.append(classID);\n",
    "            outDot.append(temp);\n",
    "        else:\n",
    "            temp = [];\n",
    "            for j in d[i]:\n",
    "                temp.append(j)\n",
    "            temp.append(classID);\n",
    "            outpos.append(temp);\n",
    "        index+=1\n",
    "    return outDot, outpos"
   ]
  },
  {
   "cell_type": "code",
   "execution_count": 16,
   "metadata": {},
   "outputs": [],
   "source": [
    "trainDataBeforeProcessing = []\n",
    "\n",
    "for i in range(len(trainDataRaw)):\n",
    "    outD, outPos= SplitData(trainDataRaw[i],i)\n",
    "    for j in outD:   \n",
    "        trainDataBeforeProcessing.append(j)\n"
   ]
  },
  {
   "cell_type": "code",
   "execution_count": 17,
   "metadata": {},
   "outputs": [],
   "source": [
    "def GetListByShuffle(d):\n",
    "    from random import shuffle\n",
    "    shuffle(d)\n",
    "    return d\n",
    "trainDataBeforeProcessing = GetListByShuffle(trainDataBeforeProcessing)\n",
    "npData = np.asarray(trainDataBeforeProcessing)"
   ]
  },
  {
   "cell_type": "code",
   "execution_count": 18,
   "metadata": {},
   "outputs": [
    {
     "data": {
      "text/plain": [
       "(225, 151)"
      ]
     },
     "execution_count": 18,
     "metadata": {},
     "output_type": "execute_result"
    }
   ],
   "source": [
    "npData.shape"
   ]
  },
  {
   "cell_type": "code",
   "execution_count": 19,
   "metadata": {},
   "outputs": [],
   "source": [
    "XMat = npData[:,range(npData.shape[1]-1)]\n",
    "yMat = npData[:,[npData.shape[1]-1]]\n"
   ]
  },
  {
   "cell_type": "code",
   "execution_count": 20,
   "metadata": {},
   "outputs": [],
   "source": [
    "XTrain = XMat[0:200]\n",
    "XTest = XMat[200:]\n",
    "\n",
    "yTrain = yMat[0:200]\n",
    "yTest = yMat[200:]"
   ]
  },
  {
   "cell_type": "code",
   "execution_count": null,
   "metadata": {},
   "outputs": [],
   "source": []
  },
  {
   "cell_type": "code",
   "execution_count": 21,
   "metadata": {},
   "outputs": [
    {
     "name": "stdout",
     "output_type": "stream",
     "text": [
      "done for save!\n"
     ]
    }
   ],
   "source": [
    "def SaveArrayNumpy(path, data):\n",
    "    npd = np.asarray(data)\n",
    "    np.savetxt(path, npd, delimiter=\",\")\n",
    "    print('done for save!')\n",
    "\n",
    "SaveArrayNumpy(\"./data/vector/dataTrain.csv\", trainDataBeforeProcessing)"
   ]
  },
  {
   "cell_type": "code",
   "execution_count": 22,
   "metadata": {},
   "outputs": [
    {
     "name": "stdout",
     "output_type": "stream",
     "text": [
      "done for save!\n",
      "done for save!\n",
      "done for save!\n",
      "done for save!\n",
      "done for save!\n"
     ]
    }
   ],
   "source": [
    "path = \"../../../../../namj9345/Desktop/dt-sandbox/public/fake-data/ngraphics/ML/SmartDrawing/\"\n",
    "NIO.SaveArrayViaNumpy(path + \"SmartDrawing.csv\", trainDataBeforeProcessing)\n",
    "NIO.SaveArrayViaNumpy(path + \"SmartDrawingXTrain.csv\", XTrain)\n",
    "NIO.SaveArrayViaNumpy(path + \"SmartDrawingYTrain.csv\", yTrain)\n",
    "NIO.SaveArrayViaNumpy(path + \"SmartDrawingXTest.csv\", XTest)\n",
    "NIO.SaveArrayViaNumpy(path + \"SmartDrawingYTest.csv\", yTest)"
   ]
  },
  {
   "cell_type": "code",
   "execution_count": null,
   "metadata": {},
   "outputs": [],
   "source": []
  },
  {
   "cell_type": "code",
   "execution_count": null,
   "metadata": {},
   "outputs": [],
   "source": []
  },
  {
   "cell_type": "code",
   "execution_count": null,
   "metadata": {},
   "outputs": [],
   "source": []
  },
  {
   "cell_type": "code",
   "execution_count": null,
   "metadata": {},
   "outputs": [],
   "source": []
  },
  {
   "cell_type": "code",
   "execution_count": null,
   "metadata": {},
   "outputs": [],
   "source": []
  },
  {
   "cell_type": "code",
   "execution_count": 23,
   "metadata": {},
   "outputs": [],
   "source": [
    "trainDataRaw = []\n",
    "trainDataRaw.append(NIO.OpenJson('./data/TrainDataForCircle.json'))\n",
    "trainDataRaw.append(NIO.OpenJson('./data/TrainDataForRect.json'))\n",
    "trainDataRaw.append(NIO.OpenJson('./data/TrainDataForTri.json'))\n",
    "trainDataRaw.append(NIO.OpenJson('./data/TrainDataHexgon.json'))"
   ]
  },
  {
   "cell_type": "code",
   "execution_count": 24,
   "metadata": {},
   "outputs": [],
   "source": [
    "trainDataBeforeProcessing = []\n",
    "\n",
    "for i in range(len(trainDataRaw)):\n",
    "    outD, outPos= SplitData(trainDataRaw[i],i)\n",
    "    for j in outD:   \n",
    "        trainDataBeforeProcessing.append(j)\n",
    "trainDataBeforeProcessing = NDataUtility.GetListByShuffle(trainDataBeforeProcessing)\n",
    "npData = np.asarray(trainDataBeforeProcessing)"
   ]
  },
  {
   "cell_type": "code",
   "execution_count": 25,
   "metadata": {},
   "outputs": [
    {
     "name": "stdout",
     "output_type": "stream",
     "text": [
      "done for save!\n"
     ]
    }
   ],
   "source": [
    "NIO.SaveArrayViaNumpy(\"./data/dataTrainOnly4Class.csv\", trainDataBeforeProcessing)"
   ]
  },
  {
   "cell_type": "code",
   "execution_count": null,
   "metadata": {},
   "outputs": [],
   "source": []
  },
  {
   "cell_type": "code",
   "execution_count": null,
   "metadata": {},
   "outputs": [],
   "source": []
  }
 ],
 "metadata": {
  "kernelspec": {
   "display_name": "Python 3.9.9 ('tf-gpu-2021')",
   "language": "python",
   "name": "python3"
  },
  "language_info": {
   "codemirror_mode": {
    "name": "ipython",
    "version": 3
   },
   "file_extension": ".py",
   "mimetype": "text/x-python",
   "name": "python",
   "nbconvert_exporter": "python",
   "pygments_lexer": "ipython3",
   "version": "3.9.9"
  },
  "vscode": {
   "interpreter": {
    "hash": "013cb43bc82c93deec78737468eebf90940d36d7ac13c74e2434686121b8a692"
   }
  }
 },
 "nbformat": 4,
 "nbformat_minor": 2
}
