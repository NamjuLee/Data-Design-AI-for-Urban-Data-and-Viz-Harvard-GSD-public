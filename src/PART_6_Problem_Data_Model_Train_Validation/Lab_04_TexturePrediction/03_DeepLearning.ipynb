{
 "cells": [
  {
   "cell_type": "markdown",
   "metadata": {},
   "source": []
  },
  {
   "cell_type": "markdown",
   "metadata": {},
   "source": [
    "-----\n",
    "##### Author: NJ Namju Lee / nj.namju@gmail.com  \n",
    "###### * Linkedin - https://www.linkedin.com/in/nj-namju-lee-926b3252/    * Git - https://github.com/NamjuLee  \n",
    "\n",
    "###### * Web - http://www.njstudio.co.kr                                  * Lab - http://www.njslab.com/NJSLabCore/  \n",
    "\n",
    "###### * Video(English) - https://www.youtube.com/c/njnamjulee            * Writing(English) - https://medium.com/@nj-namju  \n",
    "\n",
    "###### * Video(Korean) - https://www.youtube.com/c/CodeforDesign          * Writing(Korean) - https://brunch.co.kr/@njnamju  \n",
    "-----"
   ]
  },
  {
   "cell_type": "code",
   "execution_count": null,
   "metadata": {},
   "outputs": [],
   "source": []
  },
  {
   "cell_type": "code",
   "execution_count": 5,
   "metadata": {},
   "outputs": [],
   "source": [
    "import glob\n",
    "import os\n",
    "import PIL\n",
    "import PIL.Image\n",
    "import cv2"
   ]
  },
  {
   "cell_type": "code",
   "execution_count": 6,
   "metadata": {},
   "outputs": [],
   "source": [
    "import tensorflow as tf\n",
    "import matplotlib.pyplot as plt\n",
    "import numpy as np\n",
    "import pandas as pd"
   ]
  },
  {
   "cell_type": "code",
   "execution_count": null,
   "metadata": {},
   "outputs": [],
   "source": []
  },
  {
   "cell_type": "code",
   "execution_count": 7,
   "metadata": {},
   "outputs": [
    {
     "name": "stdout",
     "output_type": "stream",
     "text": [
      "Model: \"sequential_12\"\n",
      "_________________________________________________________________\n",
      "Layer (type)                 Output Shape              Param #   \n",
      "=================================================================\n",
      "flatten_12 (Flatten)         (None, 30000)             0         \n",
      "_________________________________________________________________\n",
      "dense_64 (Dense)             (None, 128)               3840128   \n",
      "_________________________________________________________________\n",
      "dropout_12 (Dropout)         (None, 128)               0         \n",
      "_________________________________________________________________\n",
      "dense_65 (Dense)             (None, 64)                8256      \n",
      "_________________________________________________________________\n",
      "dropout_13 (Dropout)         (None, 64)                0         \n",
      "_________________________________________________________________\n",
      "dense_66 (Dense)             (None, 7)                 455       \n",
      "=================================================================\n",
      "Total params: 3,848,839\n",
      "Trainable params: 3,848,839\n",
      "Non-trainable params: 0\n",
      "_________________________________________________________________\n"
     ]
    }
   ],
   "source": [
    "from tensorflow.keras.models import load_model\n",
    "modelLoaded = load_model('checkPointCallBack.h5')\n",
    "modelLoaded.summary()"
   ]
  },
  {
   "cell_type": "code",
   "execution_count": null,
   "metadata": {},
   "outputs": [],
   "source": []
  },
  {
   "cell_type": "code",
   "execution_count": 45,
   "metadata": {},
   "outputs": [
    {
     "name": "stdout",
     "output_type": "stream",
     "text": [
      "['brick', 'concrete', 'floor', 'grass', 'roop', 'sidewalk', 'wall']\n"
     ]
    }
   ],
   "source": [
    "PATH_SAVED = \"dataProcessed\"\n",
    "files = glob.glob(PATH_SAVED + \"/*.*\")\n",
    "classList = []\n",
    "\n",
    "for f in files:\n",
    "    type = f.split('\\\\')[-1].split('_')[0]\n",
    "    if type not in classList:\n",
    "        classList.append(type)\n",
    "print(classList)\n",
    "\n",
    "np.random.seed(22)\n",
    "np.random.shuffle(files)\n",
    "\n",
    "data = []\n",
    "target = []\n",
    "for f in files:\n",
    "    type = f.split('\\\\')[-1].split('_')[0]\n",
    "    if (type in classList):\n",
    "        id = classList.index(type)\n",
    "        target.append(id)\n",
    "\n",
    "        im = cv2.imread (f, cv2.IMREAD_COLOR)\n",
    "        im = cv2.cvtColor(im, cv2.COLOR_BGR2RGB)\n",
    "        array = tf.keras.preprocessing.image.img_to_array(im)\n",
    "        # array.resize(DIM[0]))\n",
    "        data.append(array)\n",
    "        # plt.imshow(array/255)\n",
    "        # break\n",
    "    # print(data[0])\n",
    "\n",
    "dataArray = np.array(data)\n",
    "# dataArray = tf.expand_dims(dataArray, axis=-1)"
   ]
  },
  {
   "cell_type": "code",
   "execution_count": 46,
   "metadata": {},
   "outputs": [
    {
     "data": {
      "text/plain": [
       "7"
      ]
     },
     "execution_count": 46,
     "metadata": {},
     "output_type": "execute_result"
    }
   ],
   "source": [
    "from tensorflow.keras.utils import to_categorical\n",
    "targetOnehot = to_categorical(target)\n",
    "len(targetOnehot[0])"
   ]
  },
  {
   "cell_type": "code",
   "execution_count": 47,
   "metadata": {},
   "outputs": [
    {
     "name": "stdout",
     "output_type": "stream",
     "text": [
      "sample total num: 427\n",
      "sample val num: 85\n",
      "sample test num: 42\n"
     ]
    }
   ],
   "source": [
    "print('sample total num: {}'.format(dataArray.shape[0]))\n",
    "sampleNum = int(dataArray.shape[0] * 0.2)\n",
    "print('sample val num: {}'.format(sampleNum))\n",
    "\n",
    "sampleNumTest = int(sampleNum * 0.5)\n",
    "print('sample test num: {}'.format(sampleNumTest))"
   ]
  },
  {
   "cell_type": "code",
   "execution_count": 48,
   "metadata": {},
   "outputs": [],
   "source": [
    "trainX = dataArray[:-sampleNum]\n",
    "val_test_X = dataArray[-sampleNum:]\n",
    "testX = val_test_X[-sampleNumTest:]\n",
    "valX = val_test_X[ :- sampleNumTest]\n",
    "\n",
    "\n",
    "trainY = targetOnehot[:-sampleNum]\n",
    "val_test_Y = targetOnehot[-sampleNum:]\n",
    "testY = val_test_Y[ -sampleNumTest:]\n",
    "valY = val_test_Y[ sampleNumTest:]\n",
    "\n",
    "NUM_CLASS = len(targetOnehot[0])\n"
   ]
  },
  {
   "cell_type": "code",
   "execution_count": 49,
   "metadata": {},
   "outputs": [
    {
     "name": "stdout",
     "output_type": "stream",
     "text": [
      "Total num data:           (427, 100, 100, 3)\n",
      "num data for train:       (342, 100, 100, 3)\n",
      "num data for validation:  (43, 100, 100, 3)\n",
      "num data for test:        (42, 100, 100, 3)\n"
     ]
    }
   ],
   "source": [
    "print('Total num data:          ', dataArray.shape)\n",
    "print('num data for train:      ', trainX.shape)\n",
    "print('num data for validation: ', valX.shape)\n",
    "print('num data for test:       ',  testX.shape)"
   ]
  },
  {
   "cell_type": "code",
   "execution_count": 50,
   "metadata": {},
   "outputs": [
    {
     "name": "stdout",
     "output_type": "stream",
     "text": [
      "Total num data:           (427, 100, 100, 3)\n",
      "num data for train:       (342, 7)\n",
      "num data for validation:  (43, 7)\n",
      "num data for test:        (42, 7)\n"
     ]
    }
   ],
   "source": [
    "print('Total num data:          ', dataArray.shape)\n",
    "print('num data for train:      ', trainY.shape)\n",
    "print('num data for validation: ', valY.shape)\n",
    "print('num data for test:       ',  testY.shape)"
   ]
  },
  {
   "cell_type": "code",
   "execution_count": null,
   "metadata": {},
   "outputs": [],
   "source": []
  },
  {
   "cell_type": "code",
   "execution_count": null,
   "metadata": {},
   "outputs": [],
   "source": []
  },
  {
   "cell_type": "code",
   "execution_count": 51,
   "metadata": {},
   "outputs": [
    {
     "name": "stdout",
     "output_type": "stream",
     "text": [
      "[[0.0000000e+00 2.2991613e-26 0.0000000e+00 ... 0.0000000e+00\n",
      "  0.0000000e+00 1.0000000e+00]\n",
      " [0.0000000e+00 0.0000000e+00 0.0000000e+00 ... 0.0000000e+00\n",
      "  1.0000000e+00 0.0000000e+00]\n",
      " [0.0000000e+00 0.0000000e+00 0.0000000e+00 ... 0.0000000e+00\n",
      "  0.0000000e+00 1.0000000e+00]\n",
      " ...\n",
      " [0.0000000e+00 0.0000000e+00 1.0000000e+00 ... 0.0000000e+00\n",
      "  0.0000000e+00 0.0000000e+00]\n",
      " [0.0000000e+00 1.0000000e+00 0.0000000e+00 ... 0.0000000e+00\n",
      "  0.0000000e+00 0.0000000e+00]\n",
      " [0.0000000e+00 0.0000000e+00 0.0000000e+00 ... 0.0000000e+00\n",
      "  0.0000000e+00 1.0000000e+00]]\n"
     ]
    }
   ],
   "source": [
    "predY = modelLoaded.predict(trainX)\n",
    "print(predY)"
   ]
  },
  {
   "cell_type": "code",
   "execution_count": 52,
   "metadata": {},
   "outputs": [
    {
     "data": {
      "image/png": "[encoded data removed]",
      "text/plain": [
       "<Figure size 864x864 with 2 Axes>"
      ]
     },
     "metadata": {},
     "output_type": "display_data"
    }
   ],
   "source": [
    "#  https://stackoverflow.com/questions/47435526/what-is-the-meaning-of-axis-1-in-keras-argmax\n",
    "from sklearn.metrics import confusion_matrix\n",
    "from tensorflow.keras.utils import to_categorical\n",
    "\n",
    "import seaborn as sns\n",
    "sns.set(style='dark')\n",
    "\n",
    "yTestYOnehot = trainY\n",
    "\n",
    "plt.figure(figsize=(12,12))\n",
    "conMat = confusion_matrix(np.argmax(yTestYOnehot, axis=1), np.argmax(predY, axis=1))\n",
    "sns.heatmap(conMat, annot=True, cmap='Reds', fmt='d')\n",
    "plt.xlabel('Pred')\n",
    "plt.ylabel('Ground Truth')\n",
    "plt.show()"
   ]
  },
  {
   "cell_type": "code",
   "execution_count": null,
   "metadata": {},
   "outputs": [],
   "source": []
  },
  {
   "cell_type": "code",
   "execution_count": 53,
   "metadata": {},
   "outputs": [],
   "source": [
    "from tensorflow.keras.models import Sequential\n",
    "from tensorflow.keras.layers import Conv2D, MaxPool2D, MaxPooling2D, Dropout, Flatten, Dense, Input"
   ]
  },
  {
   "cell_type": "code",
   "execution_count": 54,
   "metadata": {},
   "outputs": [
    {
     "name": "stdout",
     "output_type": "stream",
     "text": [
      "WARNING:tensorflow:Please add `keras.layers.InputLayer` instead of `keras.Input` to Sequential model. `keras.Input` is intended to be used by Functional model.\n",
      "Model: \"sequential_8\"\n",
      "_________________________________________________________________\n",
      "Layer (type)                 Output Shape              Param #   \n",
      "=================================================================\n",
      "conv2d_16 (Conv2D)           (None, 98, 98, 32)        896       \n",
      "_________________________________________________________________\n",
      "max_pooling2d_13 (MaxPooling (None, 49, 49, 32)        0         \n",
      "_________________________________________________________________\n",
      "conv2d_17 (Conv2D)           (None, 47, 47, 64)        18496     \n",
      "_________________________________________________________________\n",
      "max_pooling2d_14 (MaxPooling (None, 23, 23, 64)        0         \n",
      "_________________________________________________________________\n",
      "flatten_8 (Flatten)          (None, 33856)             0         \n",
      "_________________________________________________________________\n",
      "dropout_1 (Dropout)          (None, 33856)             0         \n",
      "_________________________________________________________________\n",
      "dense_11 (Dense)             (None, 7)                 236999    \n",
      "=================================================================\n",
      "Total params: 256,391\n",
      "Trainable params: 256,391\n",
      "Non-trainable params: 0\n",
      "_________________________________________________________________\n",
      "Epoch 1/100\n",
      "11/11 [==============================] - 1s 29ms/step - loss: 92.3686 - accuracy: 0.2047 - val_loss: 10.6349 - val_accuracy: 0.5000\n",
      "Epoch 2/100\n",
      "11/11 [==============================] - 0s 11ms/step - loss: 3.2387 - accuracy: 0.4094 - val_loss: 1.5151 - val_accuracy: 0.5000\n",
      "Epoch 3/100\n",
      "11/11 [==============================] - 0s 12ms/step - loss: 1.3310 - accuracy: 0.6023 - val_loss: 1.5700 - val_accuracy: 0.6190\n",
      "Epoch 4/100\n",
      "11/11 [==============================] - 0s 11ms/step - loss: 1.0261 - accuracy: 0.7047 - val_loss: 1.3055 - val_accuracy: 0.5476\n",
      "Epoch 5/100\n",
      "11/11 [==============================] - 0s 10ms/step - loss: 0.8777 - accuracy: 0.7719 - val_loss: 1.2099 - val_accuracy: 0.6667\n",
      "Epoch 6/100\n",
      "11/11 [==============================] - 0s 10ms/step - loss: 0.7546 - accuracy: 0.8158 - val_loss: 1.4716 - val_accuracy: 0.7619\n",
      "Epoch 7/100\n",
      "11/11 [==============================] - 0s 10ms/step - loss: 0.6152 - accuracy: 0.8216 - val_loss: 1.1111 - val_accuracy: 0.7143\n",
      "Epoch 8/100\n",
      "11/11 [==============================] - 0s 9ms/step - loss: 0.7035 - accuracy: 0.7690 - val_loss: 2.0845 - val_accuracy: 0.5714\n",
      "Epoch 9/100\n",
      "11/11 [==============================] - 0s 9ms/step - loss: 0.5192 - accuracy: 0.8246 - val_loss: 1.4732 - val_accuracy: 0.5952\n",
      "Epoch 10/100\n",
      "11/11 [==============================] - 0s 10ms/step - loss: 0.4834 - accuracy: 0.8596 - val_loss: 2.1180 - val_accuracy: 0.6667\n",
      "Epoch 11/100\n",
      "11/11 [==============================] - 0s 10ms/step - loss: 0.4107 - accuracy: 0.8947 - val_loss: 1.8088 - val_accuracy: 0.5714\n",
      "Epoch 12/100\n",
      "11/11 [==============================] - 0s 10ms/step - loss: 0.3374 - accuracy: 0.9123 - val_loss: 2.2491 - val_accuracy: 0.7143\n",
      "Epoch 13/100\n",
      "11/11 [==============================] - 0s 9ms/step - loss: 0.2714 - accuracy: 0.9327 - val_loss: 2.0437 - val_accuracy: 0.6429\n",
      "Epoch 14/100\n",
      "11/11 [==============================] - 0s 9ms/step - loss: 0.2032 - accuracy: 0.9532 - val_loss: 2.3932 - val_accuracy: 0.6667\n",
      "Epoch 15/100\n",
      "11/11 [==============================] - 0s 10ms/step - loss: 0.2130 - accuracy: 0.9532 - val_loss: 2.3787 - val_accuracy: 0.6667\n",
      "Epoch 16/100\n",
      "11/11 [==============================] - 0s 9ms/step - loss: 0.1665 - accuracy: 0.9415 - val_loss: 2.0756 - val_accuracy: 0.7143\n",
      "Epoch 17/100\n",
      "11/11 [==============================] - 0s 10ms/step - loss: 0.2058 - accuracy: 0.9620 - val_loss: 1.7747 - val_accuracy: 0.6905\n",
      "Epoch 18/100\n",
      "11/11 [==============================] - 0s 10ms/step - loss: 0.1871 - accuracy: 0.9649 - val_loss: 2.8426 - val_accuracy: 0.7143\n",
      "Epoch 19/100\n",
      "11/11 [==============================] - 0s 10ms/step - loss: 0.0872 - accuracy: 0.9795 - val_loss: 2.7964 - val_accuracy: 0.7619\n",
      "Epoch 20/100\n",
      "11/11 [==============================] - 0s 10ms/step - loss: 0.1789 - accuracy: 0.9678 - val_loss: 2.1831 - val_accuracy: 0.7619\n",
      "Epoch 21/100\n",
      "11/11 [==============================] - 0s 10ms/step - loss: 0.2163 - accuracy: 0.9503 - val_loss: 2.3666 - val_accuracy: 0.6905\n",
      "Epoch 22/100\n",
      "11/11 [==============================] - 0s 10ms/step - loss: 0.2462 - accuracy: 0.9649 - val_loss: 2.2956 - val_accuracy: 0.6905\n",
      "Epoch 23/100\n",
      "11/11 [==============================] - 0s 9ms/step - loss: 0.1237 - accuracy: 0.9532 - val_loss: 2.2499 - val_accuracy: 0.7143\n",
      "Epoch 24/100\n",
      "11/11 [==============================] - 0s 9ms/step - loss: 0.0982 - accuracy: 0.9854 - val_loss: 2.2355 - val_accuracy: 0.6667\n",
      "Epoch 25/100\n",
      "11/11 [==============================] - 0s 9ms/step - loss: 0.0710 - accuracy: 0.9854 - val_loss: 2.7095 - val_accuracy: 0.6667\n",
      "Epoch 26/100\n",
      "11/11 [==============================] - 0s 9ms/step - loss: 0.0475 - accuracy: 0.9825 - val_loss: 3.0635 - val_accuracy: 0.6429\n",
      "Epoch 27/100\n",
      "11/11 [==============================] - 0s 10ms/step - loss: 0.0342 - accuracy: 0.9912 - val_loss: 3.4868 - val_accuracy: 0.6905\n",
      "Epoch 28/100\n",
      "11/11 [==============================] - 0s 10ms/step - loss: 0.0839 - accuracy: 0.9678 - val_loss: 2.1859 - val_accuracy: 0.6905\n",
      "Epoch 29/100\n",
      "11/11 [==============================] - 0s 10ms/step - loss: 0.1086 - accuracy: 0.9678 - val_loss: 3.1010 - val_accuracy: 0.6429\n",
      "Epoch 30/100\n",
      "11/11 [==============================] - 0s 10ms/step - loss: 0.2030 - accuracy: 0.9561 - val_loss: 2.7469 - val_accuracy: 0.6429\n",
      "Epoch 31/100\n",
      "11/11 [==============================] - 0s 9ms/step - loss: 0.1081 - accuracy: 0.9737 - val_loss: 2.6201 - val_accuracy: 0.6905\n",
      "Epoch 32/100\n",
      "11/11 [==============================] - 0s 9ms/step - loss: 0.0990 - accuracy: 0.9766 - val_loss: 3.7949 - val_accuracy: 0.6667\n",
      "Epoch 33/100\n",
      "11/11 [==============================] - 0s 9ms/step - loss: 0.0550 - accuracy: 0.9854 - val_loss: 2.5089 - val_accuracy: 0.7143\n",
      "Epoch 34/100\n",
      "11/11 [==============================] - 0s 9ms/step - loss: 0.0302 - accuracy: 0.9912 - val_loss: 2.7845 - val_accuracy: 0.7381\n",
      "Epoch 35/100\n",
      "11/11 [==============================] - 0s 9ms/step - loss: 0.0450 - accuracy: 0.9912 - val_loss: 2.8568 - val_accuracy: 0.7381\n",
      "Epoch 36/100\n",
      "11/11 [==============================] - 0s 9ms/step - loss: 0.0545 - accuracy: 0.9971 - val_loss: 3.5676 - val_accuracy: 0.6667\n",
      "Epoch 37/100\n",
      "11/11 [==============================] - 0s 10ms/step - loss: 0.0570 - accuracy: 0.9854 - val_loss: 5.0993 - val_accuracy: 0.5952\n",
      "Epoch 38/100\n",
      "11/11 [==============================] - 0s 9ms/step - loss: 0.1300 - accuracy: 0.9795 - val_loss: 2.5459 - val_accuracy: 0.6905\n",
      "Epoch 39/100\n",
      "11/11 [==============================] - 0s 11ms/step - loss: 0.1558 - accuracy: 0.9444 - val_loss: 2.3276 - val_accuracy: 0.6429\n",
      "Epoch 40/100\n",
      "11/11 [==============================] - 0s 10ms/step - loss: 0.1411 - accuracy: 0.9620 - val_loss: 2.6482 - val_accuracy: 0.6905\n",
      "Epoch 41/100\n",
      "11/11 [==============================] - 0s 9ms/step - loss: 0.1378 - accuracy: 0.9620 - val_loss: 3.7358 - val_accuracy: 0.6667\n",
      "Epoch 42/100\n",
      "11/11 [==============================] - 0s 9ms/step - loss: 0.2148 - accuracy: 0.9503 - val_loss: 2.9195 - val_accuracy: 0.7143\n",
      "Epoch 43/100\n",
      "11/11 [==============================] - 0s 9ms/step - loss: 0.1296 - accuracy: 0.9649 - val_loss: 2.9516 - val_accuracy: 0.6905\n",
      "Epoch 44/100\n",
      "11/11 [==============================] - 0s 9ms/step - loss: 0.1300 - accuracy: 0.9678 - val_loss: 3.6475 - val_accuracy: 0.7143\n",
      "Epoch 45/100\n",
      "11/11 [==============================] - 0s 9ms/step - loss: 0.1287 - accuracy: 0.9825 - val_loss: 3.6347 - val_accuracy: 0.6429\n",
      "Epoch 46/100\n",
      "11/11 [==============================] - 0s 10ms/step - loss: 0.1852 - accuracy: 0.9766 - val_loss: 2.6371 - val_accuracy: 0.7143\n",
      "Epoch 47/100\n",
      "11/11 [==============================] - 0s 10ms/step - loss: 0.0953 - accuracy: 0.9795 - val_loss: 3.7432 - val_accuracy: 0.7143\n",
      "Epoch 48/100\n",
      "11/11 [==============================] - 0s 10ms/step - loss: 0.0561 - accuracy: 0.9971 - val_loss: 5.2940 - val_accuracy: 0.6429\n",
      "Epoch 49/100\n",
      "11/11 [==============================] - 0s 10ms/step - loss: 0.0182 - accuracy: 0.9912 - val_loss: 5.4104 - val_accuracy: 0.6905\n",
      "Epoch 50/100\n",
      "11/11 [==============================] - 0s 10ms/step - loss: 0.0076 - accuracy: 1.0000 - val_loss: 5.2458 - val_accuracy: 0.7381\n",
      "Epoch 51/100\n",
      "11/11 [==============================] - 0s 10ms/step - loss: 0.0102 - accuracy: 0.9971 - val_loss: 4.4566 - val_accuracy: 0.6905\n",
      "Epoch 52/100\n",
      "11/11 [==============================] - 0s 10ms/step - loss: 0.0098 - accuracy: 0.9971 - val_loss: 4.5046 - val_accuracy: 0.7143\n",
      "Epoch 53/100\n",
      "11/11 [==============================] - 0s 9ms/step - loss: 0.0269 - accuracy: 0.9942 - val_loss: 4.1565 - val_accuracy: 0.6667\n",
      "Epoch 54/100\n",
      "11/11 [==============================] - 0s 9ms/step - loss: 0.0114 - accuracy: 1.0000 - val_loss: 4.0883 - val_accuracy: 0.6429\n",
      "Epoch 55/100\n",
      "11/11 [==============================] - 0s 9ms/step - loss: 0.0067 - accuracy: 1.0000 - val_loss: 4.0298 - val_accuracy: 0.6905\n",
      "Epoch 56/100\n",
      "11/11 [==============================] - 0s 9ms/step - loss: 9.6655e-04 - accuracy: 1.0000 - val_loss: 4.0197 - val_accuracy: 0.6905\n",
      "Epoch 57/100\n",
      "11/11 [==============================] - 0s 10ms/step - loss: 5.6879e-04 - accuracy: 1.0000 - val_loss: 3.9091 - val_accuracy: 0.7143\n",
      "Epoch 58/100\n",
      "11/11 [==============================] - 0s 9ms/step - loss: 0.0027 - accuracy: 1.0000 - val_loss: 4.3952 - val_accuracy: 0.7619\n",
      "Epoch 59/100\n",
      "11/11 [==============================] - 0s 10ms/step - loss: 0.0066 - accuracy: 0.9971 - val_loss: 4.9028 - val_accuracy: 0.7381\n",
      "Epoch 60/100\n",
      "11/11 [==============================] - 0s 11ms/step - loss: 0.0039 - accuracy: 1.0000 - val_loss: 4.9309 - val_accuracy: 0.7381\n",
      "Epoch 61/100\n",
      "11/11 [==============================] - 0s 10ms/step - loss: 0.0011 - accuracy: 1.0000 - val_loss: 4.6234 - val_accuracy: 0.7619\n",
      "Epoch 62/100\n",
      "11/11 [==============================] - 0s 9ms/step - loss: 0.0010 - accuracy: 1.0000 - val_loss: 4.9558 - val_accuracy: 0.7619\n",
      "Epoch 63/100\n",
      "11/11 [==============================] - 0s 9ms/step - loss: 0.0025 - accuracy: 1.0000 - val_loss: 4.8341 - val_accuracy: 0.7143\n",
      "Epoch 64/100\n",
      "11/11 [==============================] - 0s 9ms/step - loss: 0.0171 - accuracy: 0.9942 - val_loss: 4.3960 - val_accuracy: 0.7143\n",
      "Epoch 65/100\n",
      "11/11 [==============================] - 0s 9ms/step - loss: 0.0076 - accuracy: 1.0000 - val_loss: 5.3346 - val_accuracy: 0.7619\n",
      "Epoch 66/100\n",
      "11/11 [==============================] - 0s 9ms/step - loss: 0.0026 - accuracy: 1.0000 - val_loss: 4.7244 - val_accuracy: 0.7381\n",
      "Epoch 67/100\n",
      "11/11 [==============================] - 0s 10ms/step - loss: 9.8063e-04 - accuracy: 1.0000 - val_loss: 4.7631 - val_accuracy: 0.7619\n",
      "Epoch 68/100\n",
      "11/11 [==============================] - 0s 10ms/step - loss: 0.0011 - accuracy: 1.0000 - val_loss: 4.5186 - val_accuracy: 0.7619\n",
      "Epoch 69/100\n",
      "11/11 [==============================] - 0s 10ms/step - loss: 0.0014 - accuracy: 1.0000 - val_loss: 4.5533 - val_accuracy: 0.7619\n",
      "Epoch 70/100\n",
      "11/11 [==============================] - 0s 10ms/step - loss: 5.5169e-04 - accuracy: 1.0000 - val_loss: 4.6082 - val_accuracy: 0.7619\n",
      "Epoch 71/100\n",
      "11/11 [==============================] - 0s 10ms/step - loss: 6.5201e-04 - accuracy: 1.0000 - val_loss: 4.6032 - val_accuracy: 0.7381\n",
      "Epoch 72/100\n",
      "11/11 [==============================] - 0s 10ms/step - loss: 0.0014 - accuracy: 1.0000 - val_loss: 4.5092 - val_accuracy: 0.7619\n",
      "Epoch 73/100\n",
      "11/11 [==============================] - 0s 9ms/step - loss: 5.5975e-04 - accuracy: 1.0000 - val_loss: 4.4948 - val_accuracy: 0.7381\n",
      "Epoch 74/100\n",
      "11/11 [==============================] - 0s 9ms/step - loss: 4.4962e-04 - accuracy: 1.0000 - val_loss: 4.4999 - val_accuracy: 0.7381\n",
      "Epoch 75/100\n",
      "11/11 [==============================] - 0s 9ms/step - loss: 3.3199e-04 - accuracy: 1.0000 - val_loss: 4.5053 - val_accuracy: 0.7381\n",
      "Epoch 76/100\n",
      "11/11 [==============================] - 0s 11ms/step - loss: 3.5525e-04 - accuracy: 1.0000 - val_loss: 4.5183 - val_accuracy: 0.7381\n",
      "Epoch 77/100\n",
      "11/11 [==============================] - 0s 10ms/step - loss: 4.7091e-04 - accuracy: 1.0000 - val_loss: 4.7303 - val_accuracy: 0.7619\n",
      "Epoch 78/100\n",
      "11/11 [==============================] - 0s 10ms/step - loss: 6.1458e-04 - accuracy: 1.0000 - val_loss: 4.8723 - val_accuracy: 0.7619\n",
      "Epoch 79/100\n",
      "11/11 [==============================] - 0s 10ms/step - loss: 2.5490e-04 - accuracy: 1.0000 - val_loss: 4.8656 - val_accuracy: 0.7619\n",
      "Epoch 80/100\n",
      "11/11 [==============================] - 0s 10ms/step - loss: 3.3114e-04 - accuracy: 1.0000 - val_loss: 4.8353 - val_accuracy: 0.7619\n",
      "Epoch 81/100\n",
      "11/11 [==============================] - 0s 9ms/step - loss: 3.5641e-04 - accuracy: 1.0000 - val_loss: 4.7736 - val_accuracy: 0.7619\n",
      "Epoch 82/100\n",
      "11/11 [==============================] - 0s 9ms/step - loss: 4.4681e-04 - accuracy: 1.0000 - val_loss: 4.7427 - val_accuracy: 0.7619\n",
      "Epoch 83/100\n",
      "11/11 [==============================] - 0s 9ms/step - loss: 0.0035 - accuracy: 0.9971 - val_loss: 3.4135 - val_accuracy: 0.7143\n",
      "Epoch 84/100\n",
      "11/11 [==============================] - 0s 9ms/step - loss: 0.0047 - accuracy: 1.0000 - val_loss: 3.2395 - val_accuracy: 0.7143\n",
      "Epoch 85/100\n",
      "11/11 [==============================] - 0s 9ms/step - loss: 0.0024 - accuracy: 1.0000 - val_loss: 3.8864 - val_accuracy: 0.7381\n",
      "Epoch 86/100\n",
      "11/11 [==============================] - 0s 9ms/step - loss: 0.0021 - accuracy: 1.0000 - val_loss: 4.2251 - val_accuracy: 0.7381\n",
      "Epoch 87/100\n",
      "11/11 [==============================] - 0s 10ms/step - loss: 9.1613e-04 - accuracy: 1.0000 - val_loss: 4.2936 - val_accuracy: 0.7619\n",
      "Epoch 88/100\n",
      "11/11 [==============================] - 0s 10ms/step - loss: 8.8590e-04 - accuracy: 1.0000 - val_loss: 4.2375 - val_accuracy: 0.7381\n",
      "Epoch 89/100\n",
      "11/11 [==============================] - 0s 10ms/step - loss: 8.1873e-04 - accuracy: 1.0000 - val_loss: 3.9122 - val_accuracy: 0.7381\n",
      "Epoch 90/100\n",
      "11/11 [==============================] - 0s 10ms/step - loss: 2.9651e-04 - accuracy: 1.0000 - val_loss: 3.8620 - val_accuracy: 0.7381\n",
      "Epoch 91/100\n",
      "11/11 [==============================] - 0s 9ms/step - loss: 2.9716e-04 - accuracy: 1.0000 - val_loss: 3.8667 - val_accuracy: 0.7381\n",
      "Epoch 92/100\n",
      "11/11 [==============================] - 0s 9ms/step - loss: 3.1869e-04 - accuracy: 1.0000 - val_loss: 3.8543 - val_accuracy: 0.7381\n",
      "Epoch 93/100\n",
      "11/11 [==============================] - 0s 9ms/step - loss: 3.8567e-04 - accuracy: 1.0000 - val_loss: 3.8606 - val_accuracy: 0.7381\n",
      "Epoch 94/100\n",
      "11/11 [==============================] - 0s 10ms/step - loss: 6.9153e-04 - accuracy: 1.0000 - val_loss: 3.8217 - val_accuracy: 0.7381\n",
      "Epoch 95/100\n",
      "11/11 [==============================] - 0s 10ms/step - loss: 4.1266e-04 - accuracy: 1.0000 - val_loss: 3.7978 - val_accuracy: 0.7381\n",
      "Epoch 96/100\n",
      "11/11 [==============================] - 0s 9ms/step - loss: 1.8097e-04 - accuracy: 1.0000 - val_loss: 3.7738 - val_accuracy: 0.7381\n",
      "Epoch 97/100\n",
      "11/11 [==============================] - 0s 10ms/step - loss: 2.0840e-04 - accuracy: 1.0000 - val_loss: 3.7558 - val_accuracy: 0.7381\n",
      "Epoch 98/100\n",
      "11/11 [==============================] - 0s 10ms/step - loss: 6.0016e-04 - accuracy: 1.0000 - val_loss: 4.0845 - val_accuracy: 0.7143\n",
      "Epoch 99/100\n",
      "11/11 [==============================] - 0s 9ms/step - loss: 5.1704e-04 - accuracy: 1.0000 - val_loss: 5.0151 - val_accuracy: 0.7381\n",
      "Epoch 100/100\n",
      "11/11 [==============================] - 0s 9ms/step - loss: 2.7152e-04 - accuracy: 1.0000 - val_loss: 4.3061 - val_accuracy: 0.7857\n",
      "11/11 [==============================] - 0s 3ms/step - loss: 1.6350e-04 - accuracy: 1.0000\n",
      "2/2 [==============================] - 0s 4ms/step - loss: 4.3061 - accuracy: 0.7857\n",
      "2/2 [==============================] - 0s 3ms/step - loss: 22.3902 - accuracy: 0.1860\n"
     ]
    },
    {
     "data": {
      "image/png": "[encoded data removed]",
      "text/plain": [
       "<Figure size 432x288 with 1 Axes>"
      ]
     },
     "metadata": {},
     "output_type": "display_data"
    }
   ],
   "source": [
    "modelSecond = Sequential(\n",
    "    [\n",
    "        Input(shape=(100,100,3)),\n",
    "        Conv2D(32, kernel_size=(3, 3), activation=\"relu\"),\n",
    "        MaxPooling2D(pool_size=(2, 2)),\n",
    "        Conv2D(64, kernel_size=(3, 3), activation=\"relu\"),\n",
    "        MaxPooling2D(pool_size=(2, 2)),\n",
    "        Flatten(),\n",
    "        Dropout(0.2),\n",
    "        Dense(NUM_CLASS, activation=\"softmax\"),\n",
    "    ]\n",
    ")\n",
    "\n",
    "modelSecond.summary()\n",
    "modelSecond.compile(loss='categorical_crossentropy', \n",
    "              optimizer='adam', \n",
    "              metrics=['accuracy'])\n",
    "              \n",
    "histSecond = modelSecond.fit(\n",
    "    trainX, trainY, \n",
    "    epochs=100, batch_size=32,\n",
    "    # verbose=0,\n",
    "    validation_data=(testX, testY)\n",
    "    )\n",
    "modelSecond.evaluate(trainX, trainY)\n",
    "modelSecond.evaluate(testX, testY)\n",
    "modelSecond.evaluate(valX, valY)\n",
    "plt.plot(histSecond.history['accuracy'])\n",
    "plt.plot(histSecond.history['val_accuracy'])\n",
    "plt.title('model accuracy')\n",
    "plt.ylabel('accuracy')\n",
    "plt.xlabel('epoch')\n",
    "plt.legend(['train', 'val'], loc='upper left')\n",
    "plt.show()"
   ]
  },
  {
   "cell_type": "code",
   "execution_count": 55,
   "metadata": {},
   "outputs": [
    {
     "name": "stdout",
     "output_type": "stream",
     "text": [
      "11/11 [==============================] - 0s 4ms/step - loss: 1.6350e-04 - accuracy: 1.0000\n",
      "2/2 [==============================] - 0s 3ms/step - loss: 4.3061 - accuracy: 0.7857\n",
      "2/2 [==============================] - 0s 3ms/step - loss: 22.3902 - accuracy: 0.1860\n"
     ]
    },
    {
     "data": {
      "text/plain": [
       "[22.390172958374023, 0.1860465109348297]"
      ]
     },
     "execution_count": 55,
     "metadata": {},
     "output_type": "execute_result"
    }
   ],
   "source": [
    "modelSecond.evaluate(trainX, trainY)\n",
    "modelSecond.evaluate(testX, testY)\n",
    "modelSecond.evaluate(valX, valY)"
   ]
  },
  {
   "cell_type": "code",
   "execution_count": null,
   "metadata": {},
   "outputs": [],
   "source": []
  },
  {
   "cell_type": "code",
   "execution_count": 56,
   "metadata": {},
   "outputs": [],
   "source": [
    "# modelSecond = Sequential()\n",
    "# modelSecond.add(Conv2D(128, kernel_size=(5,5), \n",
    "#                  input_shape=(100,100,3), \n",
    "#                  padding='valid', \n",
    "#                  activation='relu'))\n",
    "# modelSecond.add(MaxPooling2D(\n",
    "#                 pool_size=(2,2))\n",
    "#                 )\n",
    "# # modelSecond.add(Dropout(0.15))\n",
    "# modelSecond.add(Conv2D(64, kernel_size=(3,3), \n",
    "#                  padding='valid', \n",
    "#                  activation='relu'))\n",
    "# modelSecond.add(MaxPooling2D(\n",
    "#                 pool_size=(2,2))\n",
    "#                 )\n",
    "# # modelSecond.add(Dropout(0.5))\n",
    "# modelSecond.add(Flatten())\n",
    "# modelSecond.add(Dense(32, activation='relu'))\n",
    "# # modelSecond.add(Dropout(0.15))\n",
    "# modelSecond.add(Dense(NUM_CLASS, activation='softmax'))\n",
    "# print(modelSecond.summary())\n",
    "\n",
    "\n",
    "\n"
   ]
  },
  {
   "cell_type": "code",
   "execution_count": 57,
   "metadata": {},
   "outputs": [
    {
     "name": "stdout",
     "output_type": "stream",
     "text": [
      "Model: \"sequential_9\"\n",
      "_________________________________________________________________\n",
      "Layer (type)                 Output Shape              Param #   \n",
      "=================================================================\n",
      "conv2d_18 (Conv2D)           (None, 98, 98, 32)        896       \n",
      "_________________________________________________________________\n",
      "conv2d_19 (Conv2D)           (None, 96, 96, 64)        18496     \n",
      "_________________________________________________________________\n",
      "max_pooling2d_15 (MaxPooling (None, 48, 48, 64)        0         \n",
      "_________________________________________________________________\n",
      "flatten_9 (Flatten)          (None, 147456)            0         \n",
      "_________________________________________________________________\n",
      "dense_12 (Dense)             (None, 128)               18874496  \n",
      "_________________________________________________________________\n",
      "dense_13 (Dense)             (None, 7)                 903       \n",
      "=================================================================\n",
      "Total params: 18,894,791\n",
      "Trainable params: 18,894,791\n",
      "Non-trainable params: 0\n",
      "_________________________________________________________________\n",
      "11/11 [==============================] - 0s 5ms/step - loss: 0.2363 - accuracy: 0.9327\n",
      "2/2 [==============================] - 0s 4ms/step - loss: 16.8421 - accuracy: 0.5952\n",
      "2/2 [==============================] - 0s 4ms/step - loss: 29.0064 - accuracy: 0.1860\n"
     ]
    },
    {
     "data": {
      "image/png": "[encoded data removed]",
      "text/plain": [
       "<Figure size 432x288 with 1 Axes>"
      ]
     },
     "metadata": {},
     "output_type": "display_data"
    }
   ],
   "source": [
    "##model building\n",
    "modelSecond = Sequential()\n",
    "#convolutional layer with rectified linear unit activation\n",
    "modelSecond.add(Conv2D(32, kernel_size=(3, 3),\n",
    "                 activation='relu',\n",
    "                 input_shape=(100,100,3)))\n",
    "#32 convolution filters used each of size 3x3\n",
    "#again\n",
    "modelSecond.add(Conv2D(64, (3, 3), activation='relu'))\n",
    "#64 convolution filters used each of size 3x3\n",
    "#choose the best features via pooling\n",
    "modelSecond.add(MaxPooling2D(pool_size=(2, 2)))\n",
    "#randomly turn neurons on and off to improve convergence\n",
    "# modelSecond.add(Dropout(0.25))\n",
    "#flatten since too many dimensions, we only want a classification output\n",
    "modelSecond.add(Flatten())\n",
    "#fully connected to get all relevant data\n",
    "modelSecond.add(Dense(128, activation='relu'))\n",
    "#one more dropout for convergence' sake :) \n",
    "# modelSecond.add(Dropout(0.5))\n",
    "#output a softmax to squash the matrix into output probabilities\n",
    "modelSecond.add(Dense(NUM_CLASS, activation='softmax'))\n",
    "\n",
    "modelSecond.summary()\n",
    "modelSecond.compile(loss='categorical_crossentropy', \n",
    "              optimizer='adam', \n",
    "              metrics=['accuracy'])\n",
    "              \n",
    "histSecond = modelSecond.fit(\n",
    "    trainX, trainY, \n",
    "    epochs=50, batch_size=32,\n",
    "    verbose=0,\n",
    "    validation_data=(testX, testY)\n",
    "    )\n",
    "modelSecond.evaluate(trainX, trainY)\n",
    "modelSecond.evaluate(testX, testY)\n",
    "modelSecond.evaluate(valX, valY)\n",
    "plt.plot(histSecond.history['accuracy'])\n",
    "plt.plot(histSecond.history['val_accuracy'])\n",
    "plt.title('model accuracy')\n",
    "plt.ylabel('accuracy')\n",
    "plt.xlabel('epoch')\n",
    "plt.legend(['train', 'val'], loc='upper left')\n",
    "plt.show()"
   ]
  },
  {
   "cell_type": "code",
   "execution_count": null,
   "metadata": {},
   "outputs": [],
   "source": []
  },
  {
   "cell_type": "code",
   "execution_count": 58,
   "metadata": {},
   "outputs": [
    {
     "name": "stdout",
     "output_type": "stream",
     "text": [
      "11/11 [==============================] - 0s 6ms/step - loss: 0.2363 - accuracy: 0.9327\n",
      "2/2 [==============================] - 0s 5ms/step - loss: 16.8421 - accuracy: 0.5952\n",
      "2/2 [==============================] - 0s 4ms/step - loss: 29.0064 - accuracy: 0.1860\n"
     ]
    },
    {
     "data": {
      "text/plain": [
       "[29.00639533996582, 0.1860465109348297]"
      ]
     },
     "execution_count": 58,
     "metadata": {},
     "output_type": "execute_result"
    }
   ],
   "source": [
    "modelSecond.evaluate(trainX, trainY)\n",
    "modelSecond.evaluate(testX, testY)\n",
    "modelSecond.evaluate(valX, valY)"
   ]
  },
  {
   "cell_type": "code",
   "execution_count": 59,
   "metadata": {},
   "outputs": [
    {
     "data": {
      "image/png": "[encoded data removed]",
      "text/plain": [
       "<Figure size 432x288 with 1 Axes>"
      ]
     },
     "metadata": {},
     "output_type": "display_data"
    }
   ],
   "source": [
    "plt.plot(histSecond.history['accuracy'])\n",
    "plt.plot(histSecond.history['val_accuracy'])\n",
    "plt.title('model accuracy')\n",
    "plt.ylabel('accuracy')\n",
    "plt.xlabel('epoch')\n",
    "plt.legend(['train', 'val'], loc='upper left')\n",
    "plt.show()"
   ]
  },
  {
   "cell_type": "code",
   "execution_count": null,
   "metadata": {},
   "outputs": [],
   "source": []
  },
  {
   "cell_type": "code",
   "execution_count": null,
   "metadata": {},
   "outputs": [],
   "source": []
  }
 ],
 "metadata": {
  "interpreter": {
   "hash": "013cb43bc82c93deec78737468eebf90940d36d7ac13c74e2434686121b8a692"
  },
  "kernelspec": {
   "display_name": "Python 3.9.9 ('tf-gpu-2021')",
   "language": "python",
   "name": "python3"
  },
  "language_info": {
   "codemirror_mode": {
    "name": "ipython",
    "version": 3
   },
   "file_extension": ".py",
   "mimetype": "text/x-python",
   "name": "python",
   "nbconvert_exporter": "python",
   "pygments_lexer": "ipython3",
   "version": "3.9.9"
  },
  "orig_nbformat": 4
 },
 "nbformat": 4,
 "nbformat_minor": 2
}
