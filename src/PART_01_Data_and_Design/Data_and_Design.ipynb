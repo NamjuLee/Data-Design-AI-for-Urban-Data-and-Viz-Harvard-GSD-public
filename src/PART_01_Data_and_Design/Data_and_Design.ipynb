{
 "cells": [
  {
   "cell_type": "markdown",
   "metadata": {},
   "source": [
    "# **Data in Design, AI for Urban Data and Visualization**\n",
    "\n",
    "#### Data, Design Computation, Artificial Intelligence, Visualization, Harvard GSD J Term 2023\n",
    "\n",
    "\n",
    "**KEYWORD:**\n",
    "Vector, Raster, Urban Data, GIS, Data Processing, Data Mining, Machine Learning, Artificial Intelligence, Visualization, Mapping, Design Decision-Making ..."
   ]
  },
  {
   "cell_type": "markdown",
   "metadata": {},
   "source": [
    "**SHORT DESCRIPTION:**\n",
    "This course contains several lectures and hands-on workshops for those who want to use data as design materials in the development of the design process. This course was basically designed for one semester. However, for six days, we will gently visit the critical concepts and implementations of the topics: Code, Data and processing, Geometry data, Vector, Raster, Regression, Classification, Pattern, Data Representation, Dimensionality Reduction, Machine Learning, Deep Learning, Implementation, Mapping, and Visualization Methodologies. From the designer's perspective, we will better understand and implement the use of data and tools, finally, gain the holistic high-level concepts to expand that knowledge and technology further. The concepts and contents you will learn in this course would become a map for those who want to learn how to use data and digital medium in design."
   ]
  },
  {
   "cell_type": "markdown",
   "metadata": {},
   "source": [
    "-----\n",
    "#### Instructor : NJ Namju Lee / nj.namju@gmail.com  \n",
    "###### * Linkedin - https://www.linkedin.com/in/nj-namju-lee-926b3252/    * Git - https://github.com/NamjuLee  \n",
    "\n",
    "###### * Web - http://www.njstudio.co.kr                                  * Lab - http://www.njslab.com/NJSLabCore/  \n",
    "\n",
    "###### * Video(English) - https://www.youtube.com/c/njnamjulee            * Writing(English) - https://medium.com/@nj-namju  \n",
    "\n",
    "###### * Video(Korean) - https://www.youtube.com/c/CodeforDesign          * Writing(Korean) - https://brunch.co.kr/@njnamju  \n",
    "-----"
   ]
  },
  {
   "cell_type": "markdown",
   "metadata": {},
   "source": [
    "# PART 1 - Data in Design & Code for Design\n",
    "\n",
    "<iframe width=\"921\" height=\"518\" src=\"https://www.youtube.com/embed/VC-cLerlm4s\" title=\"[#ComputationalDesign 00] [Eng] Lecture, Design & Data / Computational Design, English Version\" frameborder=\"0\" allow=\"accelerometer; autoplay; clipboard-write; encrypted-media; gyroscope; picture-in-picture\" allowfullscreen></iframe>\n"
   ]
  },
  {
   "cell_type": "code",
   "execution_count": null,
   "metadata": {},
   "outputs": [],
   "source": []
  },
  {
   "cell_type": "markdown",
   "metadata": {},
   "source": [
    "This class is for the designers who want to use data as design materials."
   ]
  },
  {
   "cell_type": "code",
   "execution_count": null,
   "metadata": {},
   "outputs": [],
   "source": []
  }
 ],
 "metadata": {
  "kernelspec": {
   "display_name": "Python 3.8.5 ('base')",
   "language": "python",
   "name": "python3"
  },
  "language_info": {
   "name": "python",
   "version": "3.8.5 (default, Aug  5 2020, 09:44:06) [MSC v.1916 64 bit (AMD64)]"
  },
  "orig_nbformat": 4,
  "vscode": {
   "interpreter": {
    "hash": "e9c0f3da733cde1f70c3d6246ae4170957201c72a917eaa50d2c341786a12aa2"
   }
  }
 },
 "nbformat": 4,
 "nbformat_minor": 2
}
