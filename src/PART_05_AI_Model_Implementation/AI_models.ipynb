{
 "cells": [
  {
   "attachments": {},
   "cell_type": "markdown",
   "metadata": {},
   "source": [
    "# **Data in Design, AI for Urban Data and Visualization**\n",
    "\n",
    "#### Data, Design Computation, Artificial Intelligence, Visualization, Harvard GSD\n",
    "\n",
    "\n",
    "**KEYWORD:**\n",
    "Vector, Raster, Urban Data, GIS, Data Processing, Data Mining, Machine Learning, Artificial Intelligence, Visualization, Mapping, Design Decision-Making\n",
    "\n",
    "-----\n",
    "\n",
    "#### Instructor : NJ Namju Lee / nj.namju@gmail.com  \n",
    "###### * Linkedin - https://www.linkedin.com/in/nj-namju-lee-926b3252/    * Git - https://github.com/NamjuLee  \n",
    "\n",
    "###### * Web - http://www.njstudio.co.kr                                  * Lab - http://www.njslab.com/NJSLabCore/  \n",
    "\n",
    "###### * Video(English) - https://www.youtube.com/c/njnamjulee            * Writing(English) - https://medium.com/@nj-namju  \n",
    "\n",
    "###### * Video(Korean) - https://www.youtube.com/c/CodeforDesign          * Writing(Korean) - https://brunch.co.kr/@njnamju  \n",
    "-----"
   ]
  },
  {
   "attachments": {},
   "cell_type": "markdown",
   "metadata": {},
   "source": [
    "# AI for designers"
   ]
  },
  {
   "attachments": {},
   "cell_type": "markdown",
   "metadata": {},
   "source": [
    "link: https://computationaldesign.tistory.com/55"
   ]
  },
  {
   "attachments": {},
   "cell_type": "markdown",
   "metadata": {},
   "source": [
    "<iframe\n",
    "  src=\"https://computationaldesign.tistory.com/55\"\n",
    "  style=\"width:100%; height:800px; background:#fff\"\n",
    "></iframe>"
   ]
  },
  {
   "attachments": {},
   "cell_type": "markdown",
   "metadata": {},
   "source": [
    "### LINKS:\n",
    "Kaggle - https://www.kaggle.com/\n",
    "\n",
    "Paper with code - https://paperswithcode.com/\n",
    "\n",
    "-----\n",
    "\n",
    "Tensroflow - https://www.tensorflow.org/ \n",
    "\n",
    "https://www.tensorflow.org/tutorials\n",
    "\n",
    "TensorflowJS - https://www.tensorflow.org/js\n",
    "\n",
    "https://www.tensorflow.org/js/tutorials\n",
    "\n",
    "https://www.tensorflow.org/js/models\n",
    "\n",
    "-----\n",
    "\n",
    "Pytorch - https://pytorch.org/\n",
    "\n",
    "https://pytorch.org/tutorials/"
   ]
  }
 ],
 "metadata": {
  "kernelspec": {
   "display_name": "base",
   "language": "python",
   "name": "python3"
  },
  "language_info": {
   "name": "python",
   "version": "3.8.5 (default, Aug  5 2020, 09:44:06) [MSC v.1916 64 bit (AMD64)]"
  },
  "orig_nbformat": 4,
  "vscode": {
   "interpreter": {
    "hash": "e9c0f3da733cde1f70c3d6246ae4170957201c72a917eaa50d2c341786a12aa2"
   }
  }
 },
 "nbformat": 4,
 "nbformat_minor": 2
}
