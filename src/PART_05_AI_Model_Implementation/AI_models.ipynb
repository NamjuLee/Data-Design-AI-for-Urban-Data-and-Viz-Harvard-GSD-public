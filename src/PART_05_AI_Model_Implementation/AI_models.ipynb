{
 "cells": [
  {
   "cell_type": "markdown",
   "metadata": {},
   "source": [
    "# **Data in Design, AI for Urban Data and Visualization**\n",
    "\n",
    "#### Data, Design Computation, Artificial Intelligence, Visualization, Harvard GSD J Term 2023\n",
    "\n",
    "\n",
    "**KEYWORD:**\n",
    "Vector, Raster, Urban Data, GIS, Data Processing, Data Mining, Machine Learning, Artificial Intelligence, Visualization, Mapping, Design Decision-Making\n",
    "\n",
    "-----\n",
    "\n",
    "#### Instructor : NJ Namju Lee / nj.namju@gmail.com  \n",
    "###### * Linkedin - https://www.linkedin.com/in/nj-namju-lee-926b3252/    * Git - https://github.com/NamjuLee  \n",
    "\n",
    "###### * Web - http://www.njstudio.co.kr                                  * Lab - http://www.njslab.com/NJSLabCore/  \n",
    "\n",
    "###### * Video(English) - https://www.youtube.com/c/njnamjulee            * Writing(English) - https://medium.com/@nj-namju  \n",
    "\n",
    "###### * Video(Korean) - https://www.youtube.com/c/CodeforDesign          * Writing(Korean) - https://brunch.co.kr/@njnamju  \n",
    "-----"
   ]
  },
  {
   "cell_type": "markdown",
   "metadata": {},
   "source": [
    "# AI"
   ]
  },
  {
   "cell_type": "markdown",
   "metadata": {},
   "source": []
  }
 ],
 "metadata": {
  "language_info": {
   "name": "python"
  },
  "orig_nbformat": 4
 },
 "nbformat": 4,
 "nbformat_minor": 2
}
