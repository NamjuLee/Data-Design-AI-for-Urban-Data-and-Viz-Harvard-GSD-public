{
 "cells": [
  {
   "cell_type": "markdown",
   "metadata": {},
   "source": [
    "# **Data in Design, AI for Urban Data and Visualization**\n",
    "\n",
    "#### Data, Design Computation, Artificial Intelligence, Visualization, Harvard GSD J Term 2023\n",
    "\n",
    "\n",
    "**KEYWORD:**\n",
    "Vector, Raster, Urban Data, GIS, Data Processing, Data Mining, Machine Learning, Artificial Intelligence, Visualization, Mapping, Design Decision-Making ..."
   ]
  },
  {
   "cell_type": "markdown",
   "metadata": {},
   "source": [
    "**SHORT DESCRIPTION:**\n",
    "This course contains several lectures and hands-on workshops for those who want to use data as design materials in the development of the design process. This course was basically designed for one semester. However, for six days, we will gently visit the critical concepts and implementations of the topics: Code, Data and processing, Geometry data, Vector, Raster, Regression, Classification, Pattern, Data Representation, Dimensionality Reduction, Machine Learning, Deep Learning, Implementation, Mapping, and Visualization Methodologies. From the designer's perspective, we will better understand and implement the use of data and tools, finally, gain the holistic high-level concepts to expand that knowledge and technology further. The concepts and contents you will learn in this course would become a map for those who want to learn how to use data and digital medium in design."
   ]
  },
  {
   "cell_type": "markdown",
   "metadata": {},
   "source": [
    "-----\n",
    "#### Instructor : NJ Namju Lee / nj.namju@gmail.com  \n",
    "###### * Linkedin - https://www.linkedin.com/in/nj-namju-lee-926b3252/    * Git - https://github.com/NamjuLee  \n",
    "\n",
    "###### * Web - http://www.njstudio.co.kr                                  * Lab - http://www.njslab.com/NJSLabCore/  \n",
    "\n",
    "###### * Video(English) - https://www.youtube.com/c/njnamjulee            * Writing(English) - https://medium.com/@nj-namju  \n",
    "\n",
    "###### * Video(Korean) - https://www.youtube.com/c/CodeforDesign          * Writing(Korean) - https://brunch.co.kr/@njnamju  \n",
    "-----"
   ]
  },
  {
   "cell_type": "markdown",
   "metadata": {},
   "source": [
    "# PART 1 - Data in Design & Code for Design\n",
    "\n",
    "<iframe width=\"921\" height=\"518\" src=\"https://www.youtube.com/embed/VC-cLerlm4s\" title=\"[#ComputationalDesign 00] [Eng] Lecture, Design & Data / Computational Design, English Version\" frameborder=\"0\" allow=\"accelerometer; autoplay; clipboard-write; encrypted-media; gyroscope; picture-in-picture\" allowfullscreen></iframe>\n"
   ]
  },
  {
   "cell_type": "code",
   "execution_count": null,
   "metadata": {},
   "outputs": [],
   "source": []
  },
  {
   "cell_type": "markdown",
   "metadata": {},
   "source": [
    "This class is for the designers who want to use data as design materials."
   ]
  },
  {
   "cell_type": "code",
   "execution_count": null,
   "metadata": {},
   "outputs": [],
   "source": []
  },
  {
   "cell_type": "code",
   "execution_count": null,
   "metadata": {},
   "outputs": [],
   "source": []
  },
  {
   "cell_type": "markdown",
   "metadata": {},
   "source": [
    "# Anaconda  \n",
    "***\n",
    "Python is a manifold scripting language for data management and analysis, however managing a Python project environment can be nuanced and tricky. Anaconda is a platform built to complement Python by providing or producing customizable and easily accessible environments in which you can run Python scripts with diverse libraries. \n",
    "\n",
    "For references, the Anaconda homepage is found at the following address.\n",
    "\n",
    "https://www.continuum.io/why-anaconda\n",
    "\n",
    "For the course, Anaconda 4.2.0(Python 2.7 version[64 bit]) is needed. \n",
    "\n",
    "https://www.continuum.io/downloads\n",
    "***\n",
    "\n",
    "# Jupyter Notebook\n",
    "***\n",
    "The Jupyter Notebook is a web application that allows you to create and share documents that contain live code, equations, visualizations and explanatory text. Uses include: data cleaning and transformation, numerical simulation, statistical modeling, machine learning and much more.\n",
    "\n",
    "http://jupyter.org/\n",
    "\n",
    "This is our IDE(Integrated Development Environment) in this course. There are two ways to execute it, one is to use anaconda and other is to type \"jupyter notebook\" in the command window for Window or in terminal for Mac.\n",
    "\n",
    "\n",
    "***\n",
    "\n",
    "# Pandas\n",
    "\n",
    "***\n",
    "Pandas is an open source, BSD-licensed library providing high-performance, easy-to-use data structures and data analysis tools for the Python programming language. It gives a tons of useful functions for data manipulation and analysis in easy and quick ways.\n",
    "\n",
    "http://pandas.pydata.org/ \n",
    "\n",
    "Anaconda has the pandas library as a default, so that we try to take an advantage of the fantastic algolithm and the "
   ]
  },
  {
   "cell_type": "code",
   "execution_count": null,
   "metadata": {},
   "outputs": [],
   "source": []
  }
 ],
 "metadata": {
  "kernelspec": {
   "display_name": "Python 3.8.5 ('base')",
   "language": "python",
   "name": "python3"
  },
  "language_info": {
   "name": "python",
   "version": "3.8.5"
  },
  "orig_nbformat": 4,
  "vscode": {
   "interpreter": {
    "hash": "e9c0f3da733cde1f70c3d6246ae4170957201c72a917eaa50d2c341786a12aa2"
   }
  }
 },
 "nbformat": 4,
 "nbformat_minor": 2
}
