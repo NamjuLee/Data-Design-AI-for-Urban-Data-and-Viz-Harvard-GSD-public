{
 "cells": [
  {
   "attachments": {},
   "cell_type": "markdown",
   "metadata": {},
   "source": [
    "# **Data in Design, AI for Urban Data and Visualization**\n",
    "\n",
    "#### Data, Design Computation, Artificial Intelligence, Visualization, Harvard GSD\n",
    "\n",
    "\n",
    "**KEYWORD:**\n",
    "Vector, Raster, Urban Data, GIS, Data Processing, Data Mining, Machine Learning, Artificial Intelligence, Visualization, Mapping, Design Decision-Making\n",
    "\n",
    "-----\n",
    "\n",
    "#### Instructor : NJ Namju Lee / nj.namju@gmail.com  \n",
    "###### * Linkedin - https://www.linkedin.com/in/nj-namju-lee-926b3252/    * Git - https://github.com/NamjuLee  \n",
    "\n",
    "###### * Web - http://www.njstudio.co.kr                                  * Lab - http://www.njslab.com/NJSLabCore/  \n",
    "\n",
    "###### * Video(English) - https://www.youtube.com/c/njnamjulee            * Writing(English) - https://medium.com/@nj-namju  \n",
    "\n",
    "###### * Video(Korean) - https://www.youtube.com/c/CodeforDesign          * Writing(Korean) - https://brunch.co.kr/@njnamju  \n",
    "-----"
   ]
  },
  {
   "cell_type": "code",
   "execution_count": 28,
   "metadata": {},
   "outputs": [],
   "source": [
    "import numpy as np\n",
    "import pandas as pd\n",
    "import seaborn as sns\n",
    "import matplotlib.pyplot as plt"
   ]
  },
  {
   "cell_type": "code",
   "execution_count": 29,
   "metadata": {},
   "outputs": [],
   "source": [
    "from sklearn import datasets"
   ]
  },
  {
   "attachments": {},
   "cell_type": "markdown",
   "metadata": {},
   "source": [
    "### Vector (numeric)"
   ]
  },
  {
   "attachments": {},
   "cell_type": "markdown",
   "metadata": {},
   "source": [
    "---\n",
    "regression"
   ]
  },
  {
   "cell_type": "code",
   "execution_count": 30,
   "metadata": {},
   "outputs": [
    {
     "name": "stdout",
     "output_type": "stream",
     "text": [
      "      CRIM    ZN  INDUS  CHAS    NOX     RM   AGE     DIS  RAD    TAX  \\\n",
      "0  0.00632  18.0   2.31   0.0  0.538  6.575  65.2  4.0900  1.0  296.0   \n",
      "1  0.02731   0.0   7.07   0.0  0.469  6.421  78.9  4.9671  2.0  242.0   \n",
      "2  0.02729   0.0   7.07   0.0  0.469  7.185  61.1  4.9671  2.0  242.0   \n",
      "\n",
      "   PTRATIO       B  LSTAT  targets  \n",
      "0     15.3  396.90   4.98     24.0  \n",
      "1     17.8  396.90   9.14     21.6  \n",
      "2     17.8  392.83   4.03     34.7  \n",
      "        CRIM   ZN  INDUS  CHAS    NOX     RM   AGE     DIS  RAD    TAX  \\\n",
      "503  0.06076  0.0  11.93   0.0  0.573  6.976  91.0  2.1675  1.0  273.0   \n",
      "504  0.10959  0.0  11.93   0.0  0.573  6.794  89.3  2.3889  1.0  273.0   \n",
      "505  0.04741  0.0  11.93   0.0  0.573  6.030  80.8  2.5050  1.0  273.0   \n",
      "\n",
      "     PTRATIO       B  LSTAT  targets  \n",
      "503     21.0  396.90   5.64     23.9  \n",
      "504     21.0  393.45   6.48     22.0  \n",
      "505     21.0  396.90   7.88     11.9  \n"
     ]
    },
    {
     "name": "stderr",
     "output_type": "stream",
     "text": [
      "c:\\Users\\namju\\miniconda3\\envs\\tf-gpu-2022\\lib\\site-packages\\sklearn\\utils\\deprecation.py:87: FutureWarning: Function load_boston is deprecated; `load_boston` is deprecated in 1.0 and will be removed in 1.2.\n",
      "\n",
      "    The Boston housing prices dataset has an ethical problem. You can refer to\n",
      "    the documentation of this function for further details.\n",
      "\n",
      "    The scikit-learn maintainers therefore strongly discourage the use of this\n",
      "    dataset unless the purpose of the code is to study and educate about\n",
      "    ethical issues in data science and machine learning.\n",
      "\n",
      "    In this special case, you can fetch the dataset from the original\n",
      "    source::\n",
      "\n",
      "        import pandas as pd\n",
      "        import numpy as np\n",
      "\n",
      "\n",
      "        data_url = \"http://lib.stat.cmu.edu/datasets/boston\"\n",
      "        raw_df = pd.read_csv(data_url, sep=\"\\s+\", skiprows=22, header=None)\n",
      "        data = np.hstack([raw_df.values[::2, :], raw_df.values[1::2, :2]])\n",
      "        target = raw_df.values[1::2, 2]\n",
      "\n",
      "    Alternative datasets include the California housing dataset (i.e.\n",
      "    :func:`~sklearn.datasets.fetch_california_housing`) and the Ames housing\n",
      "    dataset. You can load the datasets as follows::\n",
      "\n",
      "        from sklearn.datasets import fetch_california_housing\n",
      "        housing = fetch_california_housing()\n",
      "\n",
      "    for the California housing dataset and::\n",
      "\n",
      "        from sklearn.datasets import fetch_openml\n",
      "        housing = fetch_openml(name=\"house_prices\", as_frame=True)\n",
      "\n",
      "    for the Ames housing dataset.\n",
      "    \n",
      "  warnings.warn(msg, category=FutureWarning)\n"
     ]
    }
   ],
   "source": [
    "# Load and return the boston house-prices dataset (regression).\n",
    "# https://scikit-learn.org/0.24/modules/generated/sklearn.datasets.load_boston.html\n",
    "# Samples total: 506\n",
    "# Dimensionality:\t13\n",
    "# Features:\treal, positive\n",
    "# Targets:\treal 5. - 50.\n",
    "\n",
    "def load_boston():\n",
    "    boston_raw_data = datasets.load_boston()\n",
    "    # print(boston_raw_data)\n",
    "    X_boston_data = pd.DataFrame(boston_raw_data.data)\n",
    "    y_boston_data = pd.DataFrame(boston_raw_data.target)\n",
    "    feature_boston_data = boston_raw_data.feature_names\n",
    "    feature_boston_data = np.concatenate([feature_boston_data, np.array(['targets'])])\n",
    "    df_boston = pd.concat([X_boston_data,y_boston_data], axis=1)\n",
    "    df_boston.columns = feature_boston_data\n",
    "    return df_boston\n",
    "\n",
    "df = load_boston()\n",
    "print(df.head(3))\n",
    "print(df.tail(3))"
   ]
  },
  {
   "cell_type": "code",
   "execution_count": 31,
   "metadata": {},
   "outputs": [
    {
     "name": "stdout",
     "output_type": "stream",
     "text": [
      "        age       sex       bmi        bp        s1        s2        s3  \\\n",
      "0  0.038076  0.050680  0.061696  0.021872 -0.044223 -0.034821 -0.043401   \n",
      "1 -0.001882 -0.044642 -0.051474 -0.026328 -0.008449 -0.019163  0.074412   \n",
      "2  0.085299  0.050680  0.044451 -0.005671 -0.045599 -0.034194 -0.032356   \n",
      "\n",
      "         s4        s5        s6  targets  \n",
      "0 -0.002592  0.019908 -0.017646    151.0  \n",
      "1 -0.039493 -0.068330 -0.092204     75.0  \n",
      "2 -0.002592  0.002864 -0.025930    141.0  \n",
      "          age       sex       bmi        bp        s1        s2        s3  \\\n",
      "439  0.041708  0.050680 -0.015906  0.017282 -0.037344 -0.013840 -0.024993   \n",
      "440 -0.045472 -0.044642  0.039062  0.001215  0.016318  0.015283 -0.028674   \n",
      "441 -0.045472 -0.044642 -0.073030 -0.081414  0.083740  0.027809  0.173816   \n",
      "\n",
      "           s4        s5        s6  targets  \n",
      "439 -0.011080 -0.046879  0.015491    132.0  \n",
      "440  0.026560  0.044528 -0.025930    220.0  \n",
      "441 -0.039493 -0.004220  0.003064     57.0  \n"
     ]
    }
   ],
   "source": [
    "# Load and return the diabetes dataset (regression).\n",
    "# https://scikit-learn.org/stable/modules/generated/sklearn.datasets.load_diabetes.html\n",
    "# Samples total: 442\n",
    "# Dimensionality: 10\n",
    "# Features: real, -.2 < x < .2\n",
    "# Targets: integer 25 - 346\n",
    "\n",
    "def load_diabetes():\n",
    "    raw_data = datasets.load_diabetes()\n",
    "    X_data = pd.DataFrame(raw_data.data)\n",
    "    y_data = pd.DataFrame(raw_data.target)\n",
    "    feature = raw_data.feature_names\n",
    "    feature = np.concatenate([feature, np.array(['targets'])])\n",
    "    df = pd.concat([X_data,y_data], axis=1)\n",
    "    df.columns = feature\n",
    "    return df\n",
    "\n",
    "df = load_diabetes()\n",
    "print(df.head(3))\n",
    "print(df.tail(3))"
   ]
  },
  {
   "attachments": {},
   "cell_type": "markdown",
   "metadata": {},
   "source": [
    "---\n",
    "classification"
   ]
  },
  {
   "cell_type": "code",
   "execution_count": 32,
   "metadata": {},
   "outputs": [
    {
     "name": "stdout",
     "output_type": "stream",
     "text": [
      "   mean radius  mean texture  mean perimeter  mean area  mean smoothness  \\\n",
      "0        17.99         10.38           122.8     1001.0          0.11840   \n",
      "1        20.57         17.77           132.9     1326.0          0.08474   \n",
      "2        19.69         21.25           130.0     1203.0          0.10960   \n",
      "\n",
      "   mean compactness  mean concavity  mean concave points  mean symmetry  \\\n",
      "0           0.27760          0.3001              0.14710         0.2419   \n",
      "1           0.07864          0.0869              0.07017         0.1812   \n",
      "2           0.15990          0.1974              0.12790         0.2069   \n",
      "\n",
      "   mean fractal dimension  ...  worst texture  worst perimeter  worst area  \\\n",
      "0                 0.07871  ...          17.33            184.6      2019.0   \n",
      "1                 0.05667  ...          23.41            158.8      1956.0   \n",
      "2                 0.05999  ...          25.53            152.5      1709.0   \n",
      "\n",
      "   worst smoothness  worst compactness  worst concavity  worst concave points  \\\n",
      "0            0.1622             0.6656           0.7119                0.2654   \n",
      "1            0.1238             0.1866           0.2416                0.1860   \n",
      "2            0.1444             0.4245           0.4504                0.2430   \n",
      "\n",
      "   worst symmetry  worst fractal dimension  targets  \n",
      "0          0.4601                  0.11890        0  \n",
      "1          0.2750                  0.08902        0  \n",
      "2          0.3613                  0.08758        0  \n",
      "\n",
      "[3 rows x 31 columns]\n",
      "     mean radius  mean texture  mean perimeter  mean area  mean smoothness  \\\n",
      "566        16.60         28.08          108.30      858.1          0.08455   \n",
      "567        20.60         29.33          140.10     1265.0          0.11780   \n",
      "568         7.76         24.54           47.92      181.0          0.05263   \n",
      "\n",
      "     mean compactness  mean concavity  mean concave points  mean symmetry  \\\n",
      "566           0.10230         0.09251              0.05302         0.1590   \n",
      "567           0.27700         0.35140              0.15200         0.2397   \n",
      "568           0.04362         0.00000              0.00000         0.1587   \n",
      "\n",
      "     mean fractal dimension  ...  worst texture  worst perimeter  worst area  \\\n",
      "566                 0.05648  ...          34.12           126.70      1124.0   \n",
      "567                 0.07016  ...          39.42           184.60      1821.0   \n",
      "568                 0.05884  ...          30.37            59.16       268.6   \n",
      "\n",
      "     worst smoothness  worst compactness  worst concavity  \\\n",
      "566           0.11390            0.30940           0.3403   \n",
      "567           0.16500            0.86810           0.9387   \n",
      "568           0.08996            0.06444           0.0000   \n",
      "\n",
      "     worst concave points  worst symmetry  worst fractal dimension  targets  \n",
      "566                0.1418          0.2218                  0.07820        0  \n",
      "567                0.2650          0.4087                  0.12400        0  \n",
      "568                0.0000          0.2871                  0.07039        1  \n",
      "\n",
      "[3 rows x 31 columns]\n"
     ]
    }
   ],
   "source": [
    "# Load and return the breast cancer wisconsin dataset (classification).\n",
    "# https://scikit-learn.org/stable/modules/generated/sklearn.datasets.load_breast_cancer.html\n",
    "# Classes: 2\n",
    "# Samples per class: 212(M),357(B)\n",
    "# Samples total: 569\n",
    "# Dimensionality: 30\n",
    "# Features: real, positive\n",
    "\n",
    "def load_breast_cancer():\n",
    "    raw_data = datasets.load_breast_cancer()\n",
    "    X_data = pd.DataFrame(raw_data.data)\n",
    "    y_data = pd.DataFrame(raw_data.target)\n",
    "    feature = raw_data.feature_names\n",
    "    feature = np.concatenate([feature, np.array(['targets'])])\n",
    "    df = pd.concat([X_data,y_data], axis=1)\n",
    "    df.columns = feature\n",
    "    return df\n",
    "\n",
    "df = load_breast_cancer()\n",
    "print(df.head(3))\n",
    "print(df.tail(3))"
   ]
  },
  {
   "cell_type": "code",
   "execution_count": 33,
   "metadata": {},
   "outputs": [],
   "source": [
    "# Load and return the iris dataset (classification).\n",
    "# https://scikit-learn.org/stable/modules/generated/sklearn.datasets.load_iris.html\n",
    "# Classes: 3\n",
    "# Samples per class: 50\n",
    "# Samples total: 150\n",
    "# Dimensionality: 4\n",
    "# Features: real, positive\n",
    "\n",
    "def load_iris():\n",
    "    raw_data = datasets.load_iris()\n",
    "    X_data = pd.DataFrame(raw_data.data)\n",
    "    y_data = pd.DataFrame(raw_data.target)\n",
    "    feature = raw_data.feature_names\n",
    "    feature = np.concatenate([feature, np.array(['targets'])])\n",
    "    df = pd.concat([X_data,y_data], axis=1)\n",
    "    df.columns = feature\n",
    "    return df\n"
   ]
  },
  {
   "cell_type": "code",
   "execution_count": 34,
   "metadata": {},
   "outputs": [
    {
     "name": "stdout",
     "output_type": "stream",
     "text": [
      "   sepal length (cm)  sepal width (cm)  petal length (cm)  petal width (cm)  \\\n",
      "0                5.1               3.5                1.4               0.2   \n",
      "1                4.9               3.0                1.4               0.2   \n",
      "2                4.7               3.2                1.3               0.2   \n",
      "\n",
      "   targets  \n",
      "0        0  \n",
      "1        0  \n",
      "2        0  \n",
      "     sepal length (cm)  sepal width (cm)  petal length (cm)  petal width (cm)  \\\n",
      "147                6.5               3.0                5.2               2.0   \n",
      "148                6.2               3.4                5.4               2.3   \n",
      "149                5.9               3.0                5.1               1.8   \n",
      "\n",
      "     targets  \n",
      "147        2  \n",
      "148        2  \n",
      "149        2  \n"
     ]
    }
   ],
   "source": [
    "df = load_iris()\n",
    "print(df.head(3))\n",
    "print(df.tail(3))"
   ]
  },
  {
   "cell_type": "code",
   "execution_count": 35,
   "metadata": {},
   "outputs": [
    {
     "name": "stdout",
     "output_type": "stream",
     "text": [
      "   alcohol  malic_acid   ash  alcalinity_of_ash  magnesium  total_phenols  \\\n",
      "0    14.23        1.71  2.43               15.6      127.0           2.80   \n",
      "1    13.20        1.78  2.14               11.2      100.0           2.65   \n",
      "2    13.16        2.36  2.67               18.6      101.0           2.80   \n",
      "\n",
      "   flavanoids  nonflavanoid_phenols  proanthocyanins  color_intensity   hue  \\\n",
      "0        3.06                  0.28             2.29             5.64  1.04   \n",
      "1        2.76                  0.26             1.28             4.38  1.05   \n",
      "2        3.24                  0.30             2.81             5.68  1.03   \n",
      "\n",
      "   od280/od315_of_diluted_wines  proline  targets  \n",
      "0                          3.92   1065.0        0  \n",
      "1                          3.40   1050.0        0  \n",
      "2                          3.17   1185.0        0  \n",
      "     alcohol  malic_acid   ash  alcalinity_of_ash  magnesium  total_phenols  \\\n",
      "175    13.27        4.28  2.26               20.0      120.0           1.59   \n",
      "176    13.17        2.59  2.37               20.0      120.0           1.65   \n",
      "177    14.13        4.10  2.74               24.5       96.0           2.05   \n",
      "\n",
      "     flavanoids  nonflavanoid_phenols  proanthocyanins  color_intensity   hue  \\\n",
      "175        0.69                  0.43             1.35             10.2  0.59   \n",
      "176        0.68                  0.53             1.46              9.3  0.60   \n",
      "177        0.76                  0.56             1.35              9.2  0.61   \n",
      "\n",
      "     od280/od315_of_diluted_wines  proline  targets  \n",
      "175                          1.56    835.0        2  \n",
      "176                          1.62    840.0        2  \n",
      "177                          1.60    560.0        2  \n"
     ]
    }
   ],
   "source": [
    "# Load and return the wine dataset (classification).\n",
    "# https://scikit-learn.org/stable/modules/generated/sklearn.datasets.load_wine.html\n",
    "# Classes: 3\n",
    "# Samples per class: [59,71,48]\n",
    "# Samples total: 178\n",
    "# Dimensionality: 13\n",
    "# Features:  real, positive\n",
    "\n",
    "def load_wine():\n",
    "    raw_data = datasets.load_wine()\n",
    "    X_data = pd.DataFrame(raw_data.data)\n",
    "    y_data = pd.DataFrame(raw_data.target)\n",
    "    feature = raw_data.feature_names\n",
    "    feature = np.concatenate([feature, np.array(['targets'])])\n",
    "    df = pd.concat([X_data,y_data], axis=1)\n",
    "    df.columns = feature\n",
    "    return df\n",
    "\n",
    "df = load_wine()\n",
    "print(df.head(3))\n",
    "print(df.tail(3))"
   ]
  },
  {
   "attachments": {},
   "cell_type": "markdown",
   "metadata": {},
   "source": [
    "<!-- https://keras.io/api/datasets/ -->"
   ]
  },
  {
   "attachments": {},
   "cell_type": "markdown",
   "metadata": {},
   "source": [
    "### Image (raster)"
   ]
  },
  {
   "cell_type": "code",
   "execution_count": 36,
   "metadata": {},
   "outputs": [
    {
     "name": "stdout",
     "output_type": "stream",
     "text": [
      "X_train:  (60000, 28, 28)\n",
      "Y_train:  (60000,)\n",
      "X_test:   (10000, 28, 28)\n",
      "Y_test:   (10000,)\n"
     ]
    }
   ],
   "source": [
    "# https://keras.io/api/datasets/mnist/\n",
    "from keras.datasets import mnist\n",
    "\n",
    "(X_train, y_train), (X_test, y_test) = mnist.load_data()\n",
    "print('X_train: ', X_train.shape)\n",
    "print('Y_train: ', y_train.shape)\n",
    "print('X_test:  ' , X_test.shape)\n",
    "print('Y_test:  ' , y_test.shape)"
   ]
  },
  {
   "cell_type": "code",
   "execution_count": 37,
   "metadata": {},
   "outputs": [
    {
     "data": {
      "image/png": "[encoded data removed]",
      "text/plain": [
       "<Figure size 432x288 with 1 Axes>"
      ]
     },
     "metadata": {
      "needs_background": "light"
     },
     "output_type": "display_data"
    },
    {
     "name": "stdout",
     "output_type": "stream",
     "text": [
      "5\n"
     ]
    },
    {
     "data": {
      "image/png": "[encoded data removed]",
      "text/plain": [
       "<Figure size 432x288 with 1 Axes>"
      ]
     },
     "metadata": {
      "needs_background": "light"
     },
     "output_type": "display_data"
    },
    {
     "name": "stdout",
     "output_type": "stream",
     "text": [
      "0\n"
     ]
    },
    {
     "data": {
      "image/png": "[encoded data removed]",
      "text/plain": [
       "<Figure size 432x288 with 1 Axes>"
      ]
     },
     "metadata": {
      "needs_background": "light"
     },
     "output_type": "display_data"
    },
    {
     "name": "stdout",
     "output_type": "stream",
     "text": [
      "4\n"
     ]
    }
   ],
   "source": [
    "from matplotlib import pyplot\n",
    "for i in range(3):  \n",
    "    pyplot.subplot(330 + 1 + i)\n",
    "    pyplot.imshow(X_train[i], cmap=pyplot.get_cmap('gray'))\n",
    "    pyplot.show()\n",
    "    print(y_train[i])"
   ]
  },
  {
   "cell_type": "code",
   "execution_count": 38,
   "metadata": {},
   "outputs": [
    {
     "name": "stdout",
     "output_type": "stream",
     "text": [
      "X_train:  (60000, 28, 28)\n",
      "Y_train:  (60000,)\n",
      "X_test:   (10000, 28, 28)\n",
      "Y_test:   (10000,)\n"
     ]
    }
   ],
   "source": [
    "# https://keras.io/api/datasets/fashion_mnist/\n",
    "from keras.datasets import fashion_mnist\n",
    "\n",
    "CLASS = {\n",
    "    0:\t\"T-shirt/top\",\n",
    "    1:\t\"Trouser\",\n",
    "    2:\t\"Pullover\",\n",
    "    3:\t\"Dress\",\n",
    "    4:\t\"Coat\",\n",
    "    5:\t\"Sandal\",\n",
    "    6:\t\"Shirt\",\n",
    "    7:\t\"Sneaker\",\n",
    "    8:\t\"Bag\",\n",
    "    9:\t\"Ankle boot\"\n",
    "}\n",
    "\n",
    "(X_train, y_train), (X_test, y_test) = fashion_mnist.load_data()\n",
    "print('X_train: ', X_train.shape)\n",
    "print('Y_train: ', y_train.shape)\n",
    "print('X_test:  ' , X_test.shape)\n",
    "print('Y_test:  ' , y_test.shape)"
   ]
  },
  {
   "cell_type": "code",
   "execution_count": 39,
   "metadata": {},
   "outputs": [
    {
     "data": {
      "image/png": "[encoded data removed]",
      "text/plain": [
       "<Figure size 432x288 with 1 Axes>"
      ]
     },
     "metadata": {
      "needs_background": "light"
     },
     "output_type": "display_data"
    },
    {
     "name": "stdout",
     "output_type": "stream",
     "text": [
      "Ankle boot\n"
     ]
    },
    {
     "data": {
      "image/png": "[encoded data removed]",
      "text/plain": [
       "<Figure size 432x288 with 1 Axes>"
      ]
     },
     "metadata": {
      "needs_background": "light"
     },
     "output_type": "display_data"
    },
    {
     "name": "stdout",
     "output_type": "stream",
     "text": [
      "T-shirt/top\n"
     ]
    },
    {
     "data": {
      "image/png": "[encoded data removed]",
      "text/plain": [
       "<Figure size 432x288 with 1 Axes>"
      ]
     },
     "metadata": {
      "needs_background": "light"
     },
     "output_type": "display_data"
    },
    {
     "name": "stdout",
     "output_type": "stream",
     "text": [
      "T-shirt/top\n"
     ]
    }
   ],
   "source": [
    "from matplotlib import pyplot\n",
    "for i in range(3):  \n",
    "    pyplot.subplot(330 + 1 + i)\n",
    "    pyplot.imshow(X_train[i], cmap=pyplot.get_cmap('gray'))\n",
    "    pyplot.show()\n",
    "    print(CLASS[y_train[i]])"
   ]
  },
  {
   "cell_type": "code",
   "execution_count": 40,
   "metadata": {},
   "outputs": [
    {
     "name": "stdout",
     "output_type": "stream",
     "text": [
      "X_train:  (50000, 32, 32, 3)\n",
      "Y_train:  (50000, 1)\n",
      "X_test:   (10000, 32, 32, 3)\n",
      "Y_test:   (10000, 1)\n"
     ]
    }
   ],
   "source": [
    "# https://keras.io/api/datasets/cifar10/\n",
    "from keras.datasets import cifar10\n",
    "\n",
    "CLASS = {\n",
    "    0: \"airplane\",\n",
    "    1:\t\"automobile\",\n",
    "    2:\t\"bird\",\n",
    "    3:\t\"cat\",\n",
    "    4:\t\"deer\",\n",
    "    5:\t\"dog\",\n",
    "    6:\t\"frog\",\n",
    "    7:\t\"horse\",\n",
    "    8:\t\"ship\",\n",
    "    9:\t\"truck\",\n",
    "}\n",
    "\n",
    "(X_train, y_train), (X_test, y_test) = cifar10.load_data()\n",
    "print('X_train: ', X_train.shape)\n",
    "print('Y_train: ', y_train.shape)\n",
    "print('X_test:  ' , X_test.shape)\n",
    "print('Y_test:  ' , y_test.shape)"
   ]
  },
  {
   "cell_type": "code",
   "execution_count": 41,
   "metadata": {},
   "outputs": [
    {
     "ename": "NameError",
     "evalue": "name 'train_X' is not defined",
     "output_type": "error",
     "traceback": [
      "\u001b[1;31m---------------------------------------------------------------------------\u001b[0m",
      "\u001b[1;31mNameError\u001b[0m                                 Traceback (most recent call last)",
      "\u001b[1;32mc:\\njz\\njsCore\\workshop\\Data-Design-AI-for-Urban-Data-and-Viz-Harvard-GSD-public\\src\\PART_06_Problem_Data_Model_Train_Validation\\LAB_06_DataReference_BasicModels\\01_data_reference.ipynb Cell 20\u001b[0m in \u001b[0;36m<cell line: 2>\u001b[1;34m()\u001b[0m\n\u001b[0;32m      <a href='vscode-notebook-cell:/c%3A/njz/njsCore/workshop/Data-Design-AI-for-Urban-Data-and-Viz-Harvard-GSD-public/src/PART_06_Problem_Data_Model_Train_Validation/LAB_06_DataReference_BasicModels/01_data_reference.ipynb#X25sZmlsZQ%3D%3D?line=1'>2</a>\u001b[0m \u001b[39mfor\u001b[39;00m i \u001b[39min\u001b[39;00m \u001b[39mrange\u001b[39m(\u001b[39m3\u001b[39m):  \n\u001b[0;32m      <a href='vscode-notebook-cell:/c%3A/njz/njsCore/workshop/Data-Design-AI-for-Urban-Data-and-Viz-Harvard-GSD-public/src/PART_06_Problem_Data_Model_Train_Validation/LAB_06_DataReference_BasicModels/01_data_reference.ipynb#X25sZmlsZQ%3D%3D?line=2'>3</a>\u001b[0m     pyplot\u001b[39m.\u001b[39msubplot(\u001b[39m330\u001b[39m \u001b[39m+\u001b[39m \u001b[39m1\u001b[39m \u001b[39m+\u001b[39m i)\n\u001b[1;32m----> <a href='vscode-notebook-cell:/c%3A/njz/njsCore/workshop/Data-Design-AI-for-Urban-Data-and-Viz-Harvard-GSD-public/src/PART_06_Problem_Data_Model_Train_Validation/LAB_06_DataReference_BasicModels/01_data_reference.ipynb#X25sZmlsZQ%3D%3D?line=3'>4</a>\u001b[0m     pyplot\u001b[39m.\u001b[39mimshow(train_X[i])\n\u001b[0;32m      <a href='vscode-notebook-cell:/c%3A/njz/njsCore/workshop/Data-Design-AI-for-Urban-Data-and-Viz-Harvard-GSD-public/src/PART_06_Problem_Data_Model_Train_Validation/LAB_06_DataReference_BasicModels/01_data_reference.ipynb#X25sZmlsZQ%3D%3D?line=4'>5</a>\u001b[0m     pyplot\u001b[39m.\u001b[39mshow()\n\u001b[0;32m      <a href='vscode-notebook-cell:/c%3A/njz/njsCore/workshop/Data-Design-AI-for-Urban-Data-and-Viz-Harvard-GSD-public/src/PART_06_Problem_Data_Model_Train_Validation/LAB_06_DataReference_BasicModels/01_data_reference.ipynb#X25sZmlsZQ%3D%3D?line=5'>6</a>\u001b[0m     \u001b[39mprint\u001b[39m(CLASS[train_y[i][\u001b[39m0\u001b[39m]])\n",
      "\u001b[1;31mNameError\u001b[0m: name 'train_X' is not defined"
     ]
    },
    {
     "data": {
      "image/png": "[encoded data removed]",
      "text/plain": [
       "<Figure size 432x288 with 1 Axes>"
      ]
     },
     "metadata": {
      "needs_background": "light"
     },
     "output_type": "display_data"
    }
   ],
   "source": [
    "from matplotlib import pyplot\n",
    "for i in range(3):  \n",
    "    pyplot.subplot(330 + 1 + i)\n",
    "    pyplot.imshow(train_X[i])\n",
    "    pyplot.show()\n",
    "    print(CLASS[train_y[i][0]])"
   ]
  },
  {
   "attachments": {},
   "cell_type": "markdown",
   "metadata": {},
   "source": [
    "### Text (Vector)"
   ]
  },
  {
   "cell_type": "code",
   "execution_count": null,
   "metadata": {},
   "outputs": [],
   "source": [
    "# https://keras.io/api/datasets/imdb/\n",
    "from keras.datasets import imdb\n",
    "(X_train, y_train), (X_test, y_test) = imdb.load_data(num_words=10000)\n",
    "print('X_train: ', X_train.shape)\n",
    "print('Y_train: ', y_train.shape)\n",
    "print('X_test:  ' , X_test.shape)\n",
    "print('Y_test:  ' , y_test.shape)"
   ]
  },
  {
   "cell_type": "code",
   "execution_count": null,
   "metadata": {},
   "outputs": [],
   "source": [
    "for i in range(3):\n",
    "    print(X_train[i][:20])\n",
    "    print(y_train[i])"
   ]
  },
  {
   "attachments": {},
   "cell_type": "markdown",
   "metadata": {},
   "source": [
    "Reference:\n",
    "\n",
    "https://www.kaggle.com/\n",
    "\n",
    "https://paperswithcode.com/"
   ]
  }
 ],
 "metadata": {
  "kernelspec": {
   "display_name": "tf-gpu-2022",
   "language": "python",
   "name": "python3"
  },
  "language_info": {
   "codemirror_mode": {
    "name": "ipython",
    "version": 3
   },
   "file_extension": ".py",
   "mimetype": "text/x-python",
   "name": "python",
   "nbconvert_exporter": "python",
   "pygments_lexer": "ipython3",
   "version": "3.9.12"
  },
  "orig_nbformat": 4,
  "vscode": {
   "interpreter": {
    "hash": "72bc0f943a863b7fcc9ff0d11405a78faecbd3bfafd8f122065908abfcb424a6"
   }
  }
 },
 "nbformat": 4,
 "nbformat_minor": 2
}
