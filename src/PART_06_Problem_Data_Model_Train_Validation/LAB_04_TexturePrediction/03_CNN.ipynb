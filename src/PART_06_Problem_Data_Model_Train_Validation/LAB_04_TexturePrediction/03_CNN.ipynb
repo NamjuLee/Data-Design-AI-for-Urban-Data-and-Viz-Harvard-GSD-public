{
 "cells": [
  {
   "attachments": {},
   "cell_type": "markdown",
   "metadata": {},
   "source": [
    "# **Data in Design, AI for Urban Data and Visualization**\n",
    "\n",
    "#### Data, Design Computation, Artificial Intelligence, Visualization, Harvard GSD\n",
    "\n",
    "\n",
    "**KEYWORD:**\n",
    "Vector, Raster, Urban Data, GIS, Data Processing, Data Mining, Machine Learning, Artificial Intelligence, Visualization, Mapping, Design Decision-Making\n",
    "\n",
    "-----\n",
    "\n",
    "#### Instructor : NJ Namju Lee / nj.namju@gmail.com  \n",
    "###### * Linkedin - https://www.linkedin.com/in/nj-namju-lee-926b3252/    * Git - https://github.com/NamjuLee  \n",
    "\n",
    "###### * Web - hhttps://namjulee.github.io/njs-lab-public/ \n",
    "\n",
    "###### * Video(English) - https://www.youtube.com/c/njnamjulee            * Writing(English) - https://medium.com/@nj-namju  \n",
    "\n",
    "###### * Video(Korean) - https://www.youtube.com/c/CodeforDesign          * Writing(Korean) - https://brunch.co.kr/@njnamju  \n",
    "-----"
   ]
  },
  {
   "attachments": {},
   "cell_type": "markdown",
   "metadata": {},
   "source": [
    "# Texture Prediction\n",
    "### STEP 13 CNN Models\n",
    "###### BY NJ Namju Lee / nj.namju@gmail.com / \n",
    "\n",
    "<h6> http://www.njstudio.co.kr </h6>\n",
    "<h6> http://www.njslab.com/NJSLabCore/ </h6>\n",
    "<h6> https://www.youtube.com/c/CodeforDesign </h6>\n",
    "<h6> https://medium.com/@nj-namju </h6>"
   ]
  },
  {
   "cell_type": "code",
   "execution_count": 72,
   "metadata": {},
   "outputs": [],
   "source": [
    "import glob\n",
    "import os\n",
    "import PIL\n",
    "import PIL.Image\n",
    "import cv2"
   ]
  },
  {
   "cell_type": "code",
   "execution_count": 73,
   "metadata": {},
   "outputs": [],
   "source": [
    "import tensorflow as tf\n",
    "import matplotlib.pyplot as plt\n",
    "import numpy as np\n",
    "import pandas as pd"
   ]
  },
  {
   "cell_type": "code",
   "execution_count": 74,
   "metadata": {},
   "outputs": [
    {
     "name": "stdout",
     "output_type": "stream",
     "text": [
      "Model: \"sequential_3\"\n",
      "_________________________________________________________________\n",
      "Layer (type)                 Output Shape              Param #   \n",
      "=================================================================\n",
      "flatten_3 (Flatten)          (None, 30000)             0         \n",
      "_________________________________________________________________\n",
      "dense_17 (Dense)             (None, 128)               3840128   \n",
      "_________________________________________________________________\n",
      "dropout_3 (Dropout)          (None, 128)               0         \n",
      "_________________________________________________________________\n",
      "dense_18 (Dense)             (None, 64)                8256      \n",
      "_________________________________________________________________\n",
      "dropout_4 (Dropout)          (None, 64)                0         \n",
      "_________________________________________________________________\n",
      "dense_19 (Dense)             (None, 7)                 455       \n",
      "=================================================================\n",
      "Total params: 3,848,839\n",
      "Trainable params: 3,848,839\n",
      "Non-trainable params: 0\n",
      "_________________________________________________________________\n"
     ]
    }
   ],
   "source": [
    "from tensorflow.keras.models import load_model\n",
    "modelLoaded = load_model('checkPointCallBack.h5')\n",
    "modelLoaded.summary()"
   ]
  },
  {
   "cell_type": "code",
   "execution_count": 99,
   "metadata": {},
   "outputs": [
    {
     "name": "stdout",
     "output_type": "stream",
     "text": [
      "['brick', 'concrete', 'floor', 'grass', 'roof', 'sidewalk', 'wall']\n"
     ]
    }
   ],
   "source": [
    "PATH_SAVED = \"dataProcessed\"\n",
    "files = glob.glob(PATH_SAVED + \"/*.*\")\n",
    "classList = []\n",
    "\n",
    "for f in files:\n",
    "    type = f.split('\\\\')[-1].split('_')[0]\n",
    "    if type not in classList:\n",
    "        classList.append(type)\n",
    "print(classList)\n",
    "\n",
    "np.random.seed(2222)\n",
    "np.random.shuffle(files)\n",
    "\n",
    "data = []\n",
    "target = []\n",
    "for f in files:\n",
    "    type = f.split('\\\\')[-1].split('_')[0]\n",
    "    if (type in classList):\n",
    "        id = classList.index(type)\n",
    "        target.append(id)\n",
    "\n",
    "        im = cv2.imread (f, cv2.IMREAD_COLOR)\n",
    "        im = cv2.cvtColor(im, cv2.COLOR_BGR2RGB)\n",
    "        array = tf.keras.preprocessing.image.img_to_array(im)\n",
    "        data.append(array)\n",
    "\n",
    "dataArray = np.array(data)"
   ]
  },
  {
   "cell_type": "code",
   "execution_count": 100,
   "metadata": {},
   "outputs": [
    {
     "data": {
      "text/plain": [
       "7"
      ]
     },
     "execution_count": 100,
     "metadata": {},
     "output_type": "execute_result"
    }
   ],
   "source": [
    "from tensorflow.keras.utils import to_categorical\n",
    "targetOnehot = to_categorical(target)\n",
    "len(targetOnehot[0])"
   ]
  },
  {
   "cell_type": "code",
   "execution_count": 101,
   "metadata": {},
   "outputs": [
    {
     "name": "stdout",
     "output_type": "stream",
     "text": [
      "sample total num: 427\n",
      "sample val num: 85\n",
      "sample test num: 42\n"
     ]
    }
   ],
   "source": [
    "print('sample total num: {}'.format(dataArray.shape[0]))\n",
    "sampleNum = int(dataArray.shape[0] * 0.2)\n",
    "print('sample val num: {}'.format(sampleNum))\n",
    "\n",
    "sampleNumTest = int(sampleNum * 0.5)\n",
    "print('sample test num: {}'.format(sampleNumTest))"
   ]
  },
  {
   "cell_type": "code",
   "execution_count": 102,
   "metadata": {},
   "outputs": [],
   "source": [
    "trainX = dataArray[:-sampleNum]\n",
    "val_test_X = dataArray[-sampleNum:]\n",
    "testX = val_test_X[-sampleNumTest:]\n",
    "valX = val_test_X[ :- sampleNumTest]\n",
    "\n",
    "\n",
    "trainY = targetOnehot[:-sampleNum]\n",
    "val_test_Y = targetOnehot[-sampleNum:]\n",
    "testY = val_test_Y[ -sampleNumTest:]\n",
    "valY = val_test_Y[ sampleNumTest:]\n",
    "\n",
    "NUM_CLASS = len(targetOnehot[0])\n"
   ]
  },
  {
   "cell_type": "code",
   "execution_count": 103,
   "metadata": {},
   "outputs": [
    {
     "name": "stdout",
     "output_type": "stream",
     "text": [
      "Total num data:           (427, 100, 100, 3)\n",
      "num data for train:       (342, 100, 100, 3)\n",
      "num data for validation:  (43, 100, 100, 3)\n",
      "num data for test:        (42, 100, 100, 3)\n"
     ]
    }
   ],
   "source": [
    "print('Total num data:          ', dataArray.shape)\n",
    "print('num data for train:      ', trainX.shape)\n",
    "print('num data for validation: ', valX.shape)\n",
    "print('num data for test:       ',  testX.shape)"
   ]
  },
  {
   "cell_type": "code",
   "execution_count": 104,
   "metadata": {},
   "outputs": [
    {
     "name": "stdout",
     "output_type": "stream",
     "text": [
      "Total num data:           (427, 100, 100, 3)\n",
      "num data for train:       (342, 7)\n",
      "num data for validation:  (43, 7)\n",
      "num data for test:        (42, 7)\n"
     ]
    }
   ],
   "source": [
    "print('Total num data:          ', dataArray.shape)\n",
    "print('num data for train:      ', trainY.shape)\n",
    "print('num data for validation: ', valY.shape)\n",
    "print('num data for test:       ',  testY.shape)"
   ]
  },
  {
   "cell_type": "code",
   "execution_count": 105,
   "metadata": {},
   "outputs": [
    {
     "name": "stdout",
     "output_type": "stream",
     "text": [
      "11/11 [==============================] - 0s 2ms/step - loss: 63.3473 - accuracy: 0.5585\n",
      "2/2 [==============================] - 0s 3ms/step - loss: 47.4178 - accuracy: 0.6190\n",
      "2/2 [==============================] - 0s 4ms/step - loss: 463.9566 - accuracy: 0.2558\n"
     ]
    },
    {
     "data": {
      "text/plain": [
       "[463.9565734863281, 0.25581395626068115]"
      ]
     },
     "execution_count": 105,
     "metadata": {},
     "output_type": "execute_result"
    }
   ],
   "source": [
    "modelLoaded.evaluate(trainX, trainY)\n",
    "modelLoaded.evaluate(testX, testY)\n",
    "modelLoaded.evaluate(valX, valY)"
   ]
  },
  {
   "cell_type": "code",
   "execution_count": 106,
   "metadata": {},
   "outputs": [
    {
     "name": "stdout",
     "output_type": "stream",
     "text": [
      "[[0.0000000e+00 3.9218940e-20 3.5784362e-21 ... 4.3373125e-37\n",
      "  0.0000000e+00 1.0000000e+00]\n",
      " [0.0000000e+00 1.0000000e+00 0.0000000e+00 ... 0.0000000e+00\n",
      "  0.0000000e+00 2.0854637e-11]\n",
      " [2.1747062e-02 0.0000000e+00 9.7825295e-01 ... 5.1302063e-34\n",
      "  1.0699735e-18 0.0000000e+00]\n",
      " ...\n",
      " [0.0000000e+00 0.0000000e+00 1.0000000e+00 ... 0.0000000e+00\n",
      "  0.0000000e+00 0.0000000e+00]\n",
      " [0.0000000e+00 0.0000000e+00 0.0000000e+00 ... 0.0000000e+00\n",
      "  0.0000000e+00 0.0000000e+00]\n",
      " [0.0000000e+00 0.0000000e+00 1.0000000e+00 ... 0.0000000e+00\n",
      "  0.0000000e+00 0.0000000e+00]]\n"
     ]
    }
   ],
   "source": [
    "predY = modelLoaded.predict(trainX)\n",
    "print(predY)"
   ]
  },
  {
   "cell_type": "code",
   "execution_count": 107,
   "metadata": {},
   "outputs": [
    {
     "data": {
      "image/png": "[encoded data removed]",
      "text/plain": [
       "<Figure size 864x864 with 2 Axes>"
      ]
     },
     "metadata": {},
     "output_type": "display_data"
    }
   ],
   "source": [
    "#  https://stackoverflow.com/questions/47435526/what-is-the-meaning-of-axis-1-in-keras-argmax\n",
    "from sklearn.metrics import confusion_matrix\n",
    "from tensorflow.keras.utils import to_categorical\n",
    "\n",
    "import seaborn as sns\n",
    "sns.set(style='dark')\n",
    "\n",
    "yTestYOnehot = trainY\n",
    "\n",
    "plt.figure(figsize=(12,12))\n",
    "conMat = confusion_matrix(np.argmax(yTestYOnehot, axis=1), np.argmax(predY, axis=1))\n",
    "sns.heatmap(conMat, annot=True, cmap='Reds', fmt='d')\n",
    "plt.xlabel('Pred')\n",
    "plt.ylabel('Ground Truth')\n",
    "plt.show()"
   ]
  },
  {
   "attachments": {},
   "cell_type": "markdown",
   "metadata": {},
   "source": [
    "Build CNN network model"
   ]
  },
  {
   "cell_type": "code",
   "execution_count": 108,
   "metadata": {},
   "outputs": [],
   "source": [
    "from tensorflow.keras.models import Sequential\n",
    "from tensorflow.keras.layers import Conv2D, MaxPool2D, MaxPooling2D, Dropout, Flatten, Dense, Input"
   ]
  },
  {
   "cell_type": "code",
   "execution_count": 109,
   "metadata": {},
   "outputs": [
    {
     "name": "stdout",
     "output_type": "stream",
     "text": [
      "Model: \"sequential_31\"\n",
      "_________________________________________________________________\n",
      "Layer (type)                 Output Shape              Param #   \n",
      "=================================================================\n",
      "conv2d_62 (Conv2D)           (None, 98, 98, 32)        896       \n",
      "_________________________________________________________________\n",
      "max_pooling2d_60 (MaxPooling (None, 49, 49, 32)        0         \n",
      "_________________________________________________________________\n",
      "conv2d_63 (Conv2D)           (None, 47, 47, 64)        18496     \n",
      "_________________________________________________________________\n",
      "max_pooling2d_61 (MaxPooling (None, 23, 23, 64)        0         \n",
      "_________________________________________________________________\n",
      "flatten_31 (Flatten)         (None, 33856)             0         \n",
      "_________________________________________________________________\n",
      "dropout_23 (Dropout)         (None, 33856)             0         \n",
      "_________________________________________________________________\n",
      "dense_34 (Dense)             (None, 7)                 236999    \n",
      "=================================================================\n",
      "Total params: 256,391\n",
      "Trainable params: 256,391\n",
      "Non-trainable params: 0\n",
      "_________________________________________________________________\n",
      "Epoch 1/100\n",
      "11/11 [==============================] - 1s 26ms/step - loss: 227.8346 - accuracy: 0.1988 - val_loss: 6.4898 - val_accuracy: 0.0476\n",
      "Epoch 2/100\n",
      "11/11 [==============================] - 0s 14ms/step - loss: 2.1117 - accuracy: 0.3538 - val_loss: 1.7145 - val_accuracy: 0.4762\n",
      "Epoch 3/100\n",
      "11/11 [==============================] - 0s 14ms/step - loss: 1.7279 - accuracy: 0.4064 - val_loss: 1.9344 - val_accuracy: 0.3810\n",
      "Epoch 4/100\n",
      "11/11 [==============================] - 0s 15ms/step - loss: 1.8153 - accuracy: 0.4649 - val_loss: 1.9238 - val_accuracy: 0.3095\n",
      "Epoch 5/100\n",
      "11/11 [==============================] - 0s 12ms/step - loss: 1.8181 - accuracy: 0.4386 - val_loss: 1.8088 - val_accuracy: 0.4524\n",
      "Epoch 6/100\n",
      "11/11 [==============================] - 0s 10ms/step - loss: 1.7182 - accuracy: 0.5292 - val_loss: 1.8630 - val_accuracy: 0.4762\n",
      "Epoch 7/100\n",
      "11/11 [==============================] - 0s 12ms/step - loss: 1.7377 - accuracy: 0.5468 - val_loss: 2.1143 - val_accuracy: 0.3810\n",
      "Epoch 8/100\n",
      "11/11 [==============================] - 0s 10ms/step - loss: 1.6563 - accuracy: 0.5175 - val_loss: 2.3841 - val_accuracy: 0.3810\n",
      "Epoch 9/100\n",
      "11/11 [==============================] - 0s 10ms/step - loss: 1.5350 - accuracy: 0.5497 - val_loss: 2.1825 - val_accuracy: 0.5238\n",
      "Epoch 10/100\n",
      "11/11 [==============================] - 0s 12ms/step - loss: 1.5500 - accuracy: 0.6170 - val_loss: 1.8676 - val_accuracy: 0.4048\n",
      "Epoch 11/100\n",
      "11/11 [==============================] - 0s 11ms/step - loss: 1.5422 - accuracy: 0.6053 - val_loss: 3.6268 - val_accuracy: 0.4286\n",
      "Epoch 12/100\n",
      "11/11 [==============================] - 0s 11ms/step - loss: 1.3651 - accuracy: 0.6871 - val_loss: 2.6986 - val_accuracy: 0.3810\n",
      "Epoch 13/100\n",
      "11/11 [==============================] - 0s 11ms/step - loss: 1.4151 - accuracy: 0.6082 - val_loss: 3.0931 - val_accuracy: 0.3810\n",
      "Epoch 14/100\n",
      "11/11 [==============================] - 0s 11ms/step - loss: 1.3477 - accuracy: 0.6433 - val_loss: 3.1699 - val_accuracy: 0.4286\n",
      "Epoch 15/100\n",
      "11/11 [==============================] - 0s 11ms/step - loss: 1.4238 - accuracy: 0.6667 - val_loss: 2.7024 - val_accuracy: 0.5238\n",
      "Epoch 16/100\n",
      "11/11 [==============================] - 0s 10ms/step - loss: 1.2478 - accuracy: 0.7105 - val_loss: 2.4218 - val_accuracy: 0.5000\n",
      "Epoch 17/100\n",
      "11/11 [==============================] - 0s 12ms/step - loss: 1.2607 - accuracy: 0.7164 - val_loss: 2.5616 - val_accuracy: 0.6190\n",
      "Epoch 18/100\n",
      "11/11 [==============================] - 0s 13ms/step - loss: 1.0122 - accuracy: 0.7982 - val_loss: 2.7210 - val_accuracy: 0.6429\n",
      "Epoch 19/100\n",
      "11/11 [==============================] - 0s 10ms/step - loss: 0.9002 - accuracy: 0.8333 - val_loss: 2.7984 - val_accuracy: 0.6190\n",
      "Epoch 20/100\n",
      "11/11 [==============================] - 0s 11ms/step - loss: 1.0567 - accuracy: 0.8070 - val_loss: 2.0447 - val_accuracy: 0.5238\n",
      "Epoch 21/100\n",
      "11/11 [==============================] - 0s 10ms/step - loss: 1.1887 - accuracy: 0.7865 - val_loss: 1.9882 - val_accuracy: 0.5238\n",
      "Epoch 22/100\n",
      "11/11 [==============================] - 0s 11ms/step - loss: 1.3023 - accuracy: 0.6901 - val_loss: 2.0933 - val_accuracy: 0.4762\n",
      "Epoch 23/100\n",
      "11/11 [==============================] - 0s 12ms/step - loss: 1.1980 - accuracy: 0.7135 - val_loss: 3.6702 - val_accuracy: 0.5714\n",
      "Epoch 24/100\n",
      "11/11 [==============================] - 0s 11ms/step - loss: 1.1562 - accuracy: 0.7368 - val_loss: 3.0956 - val_accuracy: 0.5714\n",
      "Epoch 25/100\n",
      "11/11 [==============================] - 0s 13ms/step - loss: 0.9892 - accuracy: 0.7895 - val_loss: 5.4411 - val_accuracy: 0.4762\n",
      "Epoch 26/100\n",
      "11/11 [==============================] - 0s 13ms/step - loss: 1.0271 - accuracy: 0.7632 - val_loss: 2.0489 - val_accuracy: 0.5238\n",
      "Epoch 27/100\n",
      "11/11 [==============================] - 0s 13ms/step - loss: 0.9816 - accuracy: 0.7865 - val_loss: 1.9124 - val_accuracy: 0.5238\n",
      "Epoch 28/100\n",
      "11/11 [==============================] - 0s 14ms/step - loss: 1.2105 - accuracy: 0.6754 - val_loss: 3.7327 - val_accuracy: 0.4524\n",
      "Epoch 29/100\n",
      "11/11 [==============================] - 0s 13ms/step - loss: 0.9837 - accuracy: 0.7836 - val_loss: 4.7063 - val_accuracy: 0.5714\n",
      "Epoch 30/100\n",
      "11/11 [==============================] - 0s 13ms/step - loss: 0.7937 - accuracy: 0.8392 - val_loss: 2.5848 - val_accuracy: 0.6190\n",
      "Epoch 31/100\n",
      "11/11 [==============================] - 0s 13ms/step - loss: 0.7511 - accuracy: 0.8246 - val_loss: 3.4333 - val_accuracy: 0.5000\n",
      "Epoch 32/100\n",
      "11/11 [==============================] - 0s 13ms/step - loss: 0.8738 - accuracy: 0.8187 - val_loss: 3.5251 - val_accuracy: 0.5476\n",
      "Epoch 33/100\n",
      "11/11 [==============================] - 0s 13ms/step - loss: 1.1554 - accuracy: 0.7807 - val_loss: 3.3801 - val_accuracy: 0.5714\n",
      "Epoch 34/100\n",
      "11/11 [==============================] - 0s 11ms/step - loss: 1.1962 - accuracy: 0.7368 - val_loss: 2.2743 - val_accuracy: 0.4286\n",
      "Epoch 35/100\n",
      "11/11 [==============================] - 0s 10ms/step - loss: 1.0933 - accuracy: 0.7281 - val_loss: 2.9704 - val_accuracy: 0.4524\n",
      "Epoch 36/100\n",
      "11/11 [==============================] - 0s 11ms/step - loss: 1.0011 - accuracy: 0.7602 - val_loss: 3.1498 - val_accuracy: 0.4762\n",
      "Epoch 37/100\n",
      "11/11 [==============================] - 0s 10ms/step - loss: 0.9362 - accuracy: 0.7661 - val_loss: 3.6461 - val_accuracy: 0.4762\n",
      "Epoch 38/100\n",
      "11/11 [==============================] - 0s 10ms/step - loss: 0.8833 - accuracy: 0.7982 - val_loss: 2.4855 - val_accuracy: 0.5476\n",
      "Epoch 39/100\n",
      "11/11 [==============================] - 0s 11ms/step - loss: 0.9332 - accuracy: 0.7953 - val_loss: 5.1200 - val_accuracy: 0.5000\n",
      "Epoch 40/100\n",
      "11/11 [==============================] - 0s 11ms/step - loss: 0.9865 - accuracy: 0.7924 - val_loss: 2.8331 - val_accuracy: 0.4762\n",
      "Epoch 41/100\n",
      "11/11 [==============================] - 0s 10ms/step - loss: 1.0402 - accuracy: 0.8041 - val_loss: 1.7641 - val_accuracy: 0.4762\n",
      "Epoch 42/100\n",
      "11/11 [==============================] - 0s 10ms/step - loss: 0.9888 - accuracy: 0.7836 - val_loss: 4.3793 - val_accuracy: 0.4762\n",
      "Epoch 43/100\n",
      "11/11 [==============================] - 0s 11ms/step - loss: 1.0296 - accuracy: 0.7573 - val_loss: 5.1957 - val_accuracy: 0.5476\n",
      "Epoch 44/100\n",
      "11/11 [==============================] - 0s 11ms/step - loss: 0.9811 - accuracy: 0.7749 - val_loss: 2.0292 - val_accuracy: 0.4524\n",
      "Epoch 45/100\n",
      "11/11 [==============================] - 0s 10ms/step - loss: 0.8924 - accuracy: 0.8041 - val_loss: 2.4252 - val_accuracy: 0.4762\n",
      "Epoch 46/100\n",
      "11/11 [==============================] - 0s 10ms/step - loss: 0.8664 - accuracy: 0.8012 - val_loss: 4.2376 - val_accuracy: 0.5238\n",
      "Epoch 47/100\n",
      "11/11 [==============================] - 0s 10ms/step - loss: 0.7644 - accuracy: 0.8333 - val_loss: 4.2598 - val_accuracy: 0.5714\n",
      "Epoch 48/100\n",
      "11/11 [==============================] - 0s 10ms/step - loss: 0.7306 - accuracy: 0.8450 - val_loss: 4.1884 - val_accuracy: 0.5476\n",
      "Epoch 49/100\n",
      "11/11 [==============================] - 0s 11ms/step - loss: 0.6680 - accuracy: 0.8626 - val_loss: 4.3569 - val_accuracy: 0.5476\n",
      "Epoch 50/100\n",
      "11/11 [==============================] - 0s 11ms/step - loss: 0.7412 - accuracy: 0.8450 - val_loss: 3.9190 - val_accuracy: 0.5714\n",
      "Epoch 51/100\n",
      "11/11 [==============================] - 0s 10ms/step - loss: 0.7271 - accuracy: 0.8450 - val_loss: 4.8392 - val_accuracy: 0.5714\n",
      "Epoch 52/100\n",
      "11/11 [==============================] - 0s 11ms/step - loss: 0.7374 - accuracy: 0.8304 - val_loss: 3.7757 - val_accuracy: 0.4524\n",
      "Epoch 53/100\n",
      "11/11 [==============================] - 0s 10ms/step - loss: 1.3976 - accuracy: 0.5556 - val_loss: 2.6019 - val_accuracy: 0.4286\n",
      "Epoch 54/100\n",
      "11/11 [==============================] - 0s 10ms/step - loss: 1.4867 - accuracy: 0.5497 - val_loss: 2.7594 - val_accuracy: 0.4286\n",
      "Epoch 55/100\n",
      "11/11 [==============================] - 0s 10ms/step - loss: 1.2484 - accuracy: 0.6345 - val_loss: 2.9692 - val_accuracy: 0.4286\n",
      "Epoch 56/100\n",
      "11/11 [==============================] - 0s 11ms/step - loss: 0.9637 - accuracy: 0.7836 - val_loss: 3.4245 - val_accuracy: 0.5238\n",
      "Epoch 57/100\n",
      "11/11 [==============================] - 0s 10ms/step - loss: 0.7822 - accuracy: 0.8246 - val_loss: 5.0574 - val_accuracy: 0.5000\n",
      "Epoch 58/100\n",
      "11/11 [==============================] - 0s 11ms/step - loss: 0.7723 - accuracy: 0.8509 - val_loss: 4.8568 - val_accuracy: 0.5000\n",
      "Epoch 59/100\n",
      "11/11 [==============================] - 0s 10ms/step - loss: 0.7091 - accuracy: 0.8480 - val_loss: 5.8971 - val_accuracy: 0.5476\n",
      "Epoch 60/100\n",
      "11/11 [==============================] - 0s 11ms/step - loss: 1.0110 - accuracy: 0.8158 - val_loss: 4.1001 - val_accuracy: 0.5000\n",
      "Epoch 61/100\n",
      "11/11 [==============================] - 0s 10ms/step - loss: 0.7315 - accuracy: 0.8421 - val_loss: 4.4408 - val_accuracy: 0.5952\n",
      "Epoch 62/100\n",
      "11/11 [==============================] - 0s 10ms/step - loss: 0.6697 - accuracy: 0.8626 - val_loss: 3.7876 - val_accuracy: 0.5476\n",
      "Epoch 63/100\n",
      "11/11 [==============================] - 0s 11ms/step - loss: 0.6635 - accuracy: 0.8626 - val_loss: 4.9051 - val_accuracy: 0.6190\n",
      "Epoch 64/100\n",
      "11/11 [==============================] - 0s 11ms/step - loss: 0.6933 - accuracy: 0.8450 - val_loss: 4.0547 - val_accuracy: 0.5476\n",
      "Epoch 65/100\n",
      "11/11 [==============================] - 0s 12ms/step - loss: 0.6634 - accuracy: 0.8596 - val_loss: 5.4311 - val_accuracy: 0.5714\n",
      "Epoch 66/100\n",
      "11/11 [==============================] - 0s 10ms/step - loss: 0.6547 - accuracy: 0.8596 - val_loss: 4.7249 - val_accuracy: 0.5952\n",
      "Epoch 67/100\n",
      "11/11 [==============================] - 0s 10ms/step - loss: 0.5893 - accuracy: 0.8626 - val_loss: 5.5023 - val_accuracy: 0.5476\n",
      "Epoch 68/100\n",
      "11/11 [==============================] - 0s 12ms/step - loss: 0.5850 - accuracy: 0.8918 - val_loss: 4.5366 - val_accuracy: 0.6190\n",
      "Epoch 69/100\n",
      "11/11 [==============================] - 0s 11ms/step - loss: 0.5482 - accuracy: 0.8860 - val_loss: 5.0405 - val_accuracy: 0.5238\n",
      "Epoch 70/100\n",
      "11/11 [==============================] - 0s 10ms/step - loss: 0.4988 - accuracy: 0.9035 - val_loss: 5.2723 - val_accuracy: 0.5238\n",
      "Epoch 71/100\n",
      "11/11 [==============================] - 0s 11ms/step - loss: 0.5079 - accuracy: 0.8977 - val_loss: 4.8557 - val_accuracy: 0.5238\n",
      "Epoch 72/100\n",
      "11/11 [==============================] - 0s 11ms/step - loss: 0.5194 - accuracy: 0.8947 - val_loss: 4.9617 - val_accuracy: 0.5476\n",
      "Epoch 73/100\n",
      "11/11 [==============================] - 0s 11ms/step - loss: 0.5558 - accuracy: 0.8918 - val_loss: 4.6993 - val_accuracy: 0.5238\n",
      "Epoch 74/100\n",
      "11/11 [==============================] - 0s 11ms/step - loss: 0.5351 - accuracy: 0.8860 - val_loss: 4.4313 - val_accuracy: 0.5476\n",
      "Epoch 75/100\n",
      "11/11 [==============================] - 0s 10ms/step - loss: 0.5305 - accuracy: 0.9006 - val_loss: 5.5115 - val_accuracy: 0.5238\n",
      "Epoch 76/100\n",
      "11/11 [==============================] - 0s 10ms/step - loss: 0.4932 - accuracy: 0.8947 - val_loss: 5.5914 - val_accuracy: 0.5714\n",
      "Epoch 77/100\n",
      "11/11 [==============================] - 0s 11ms/step - loss: 0.4828 - accuracy: 0.8918 - val_loss: 6.2407 - val_accuracy: 0.5238\n",
      "Epoch 78/100\n",
      "11/11 [==============================] - 0s 11ms/step - loss: 0.4101 - accuracy: 0.9240 - val_loss: 9.2100 - val_accuracy: 0.5714\n",
      "Epoch 79/100\n",
      "11/11 [==============================] - 0s 11ms/step - loss: 0.4713 - accuracy: 0.8977 - val_loss: 2.3562 - val_accuracy: 0.5714\n",
      "Epoch 80/100\n",
      "11/11 [==============================] - 0s 11ms/step - loss: 0.5765 - accuracy: 0.8713 - val_loss: 5.3584 - val_accuracy: 0.5000\n",
      "Epoch 81/100\n",
      "11/11 [==============================] - 0s 10ms/step - loss: 0.5636 - accuracy: 0.8860 - val_loss: 5.2027 - val_accuracy: 0.5238\n",
      "Epoch 82/100\n",
      "11/11 [==============================] - 0s 11ms/step - loss: 0.4684 - accuracy: 0.9035 - val_loss: 11.0999 - val_accuracy: 0.5476\n",
      "Epoch 83/100\n",
      "11/11 [==============================] - 0s 11ms/step - loss: 0.5391 - accuracy: 0.8947 - val_loss: 5.2449 - val_accuracy: 0.5476\n",
      "Epoch 84/100\n",
      "11/11 [==============================] - 0s 10ms/step - loss: 0.6267 - accuracy: 0.8655 - val_loss: 6.4714 - val_accuracy: 0.5714\n",
      "Epoch 85/100\n",
      "11/11 [==============================] - 0s 10ms/step - loss: 0.4468 - accuracy: 0.9123 - val_loss: 8.0560 - val_accuracy: 0.5952\n",
      "Epoch 86/100\n",
      "11/11 [==============================] - 0s 12ms/step - loss: 0.4525 - accuracy: 0.9152 - val_loss: 4.5540 - val_accuracy: 0.5238\n",
      "Epoch 87/100\n",
      "11/11 [==============================] - 0s 10ms/step - loss: 0.5418 - accuracy: 0.8889 - val_loss: 5.3877 - val_accuracy: 0.5476\n",
      "Epoch 88/100\n",
      "11/11 [==============================] - 0s 10ms/step - loss: 0.5364 - accuracy: 0.8977 - val_loss: 5.3088 - val_accuracy: 0.5952\n",
      "Epoch 89/100\n",
      "11/11 [==============================] - 0s 11ms/step - loss: 0.5532 - accuracy: 0.8830 - val_loss: 5.0533 - val_accuracy: 0.5476\n",
      "Epoch 90/100\n",
      "11/11 [==============================] - 0s 11ms/step - loss: 0.5349 - accuracy: 0.8918 - val_loss: 5.2840 - val_accuracy: 0.6190\n",
      "Epoch 91/100\n",
      "11/11 [==============================] - 0s 10ms/step - loss: 0.4803 - accuracy: 0.9006 - val_loss: 5.7036 - val_accuracy: 0.6190\n",
      "Epoch 92/100\n",
      "11/11 [==============================] - 0s 11ms/step - loss: 0.4974 - accuracy: 0.9064 - val_loss: 6.0177 - val_accuracy: 0.5476\n",
      "Epoch 93/100\n",
      "11/11 [==============================] - 0s 10ms/step - loss: 0.5184 - accuracy: 0.9035 - val_loss: 3.8665 - val_accuracy: 0.5952\n",
      "Epoch 94/100\n",
      "11/11 [==============================] - 0s 12ms/step - loss: 0.4439 - accuracy: 0.9181 - val_loss: 3.5392 - val_accuracy: 0.5714\n",
      "Epoch 95/100\n",
      "11/11 [==============================] - 0s 10ms/step - loss: 0.4398 - accuracy: 0.9152 - val_loss: 3.8747 - val_accuracy: 0.5714\n",
      "Epoch 96/100\n",
      "11/11 [==============================] - 0s 12ms/step - loss: 0.3947 - accuracy: 0.9211 - val_loss: 3.8044 - val_accuracy: 0.6190\n",
      "Epoch 97/100\n",
      "11/11 [==============================] - 0s 12ms/step - loss: 0.3953 - accuracy: 0.9152 - val_loss: 3.9808 - val_accuracy: 0.6190\n",
      "Epoch 98/100\n",
      "11/11 [==============================] - 0s 11ms/step - loss: 0.4218 - accuracy: 0.9064 - val_loss: 5.0472 - val_accuracy: 0.5714\n",
      "Epoch 99/100\n",
      "11/11 [==============================] - 0s 12ms/step - loss: 0.4113 - accuracy: 0.9240 - val_loss: 4.7581 - val_accuracy: 0.6190\n",
      "Epoch 100/100\n",
      "11/11 [==============================] - 0s 11ms/step - loss: 0.3734 - accuracy: 0.9269 - val_loss: 4.8844 - val_accuracy: 0.5476\n",
      "11/11 [==============================] - 0s 4ms/step - loss: 0.3228 - accuracy: 0.9357\n",
      "2/2 [==============================] - 0s 9ms/step - loss: 4.8844 - accuracy: 0.5476\n",
      "2/2 [==============================] - 0s 3ms/step - loss: 13.0003 - accuracy: 0.1395\n"
     ]
    },
    {
     "data": {
      "image/png": "[encoded data removed]",
      "text/plain": [
       "<Figure size 432x288 with 1 Axes>"
      ]
     },
     "metadata": {},
     "output_type": "display_data"
    }
   ],
   "source": [
    "modelSecond = Sequential(\n",
    "    [\n",
    "        Input(shape=(100,100,3)),\n",
    "        Conv2D(32, kernel_size=(3, 3), activation=\"relu\"),\n",
    "        MaxPooling2D(pool_size=(2, 2)),\n",
    "        Conv2D(64, kernel_size=(3, 3), activation=\"relu\"),\n",
    "        MaxPooling2D(pool_size=(2, 2)),\n",
    "        Flatten(),\n",
    "        Dropout(0.2),\n",
    "        Dense(NUM_CLASS, activation=\"softmax\"),\n",
    "    ]\n",
    ")\n",
    "\n",
    "modelSecond.summary()\n",
    "modelSecond.compile(loss='categorical_crossentropy', \n",
    "              optimizer='adam', \n",
    "              metrics=['accuracy'])\n",
    "              \n",
    "histSecond = modelSecond.fit(\n",
    "    trainX, trainY, \n",
    "    epochs=100, batch_size=32,\n",
    "    # verbose=0,\n",
    "    validation_data=(testX, testY)\n",
    "    )\n",
    "modelSecond.evaluate(trainX, trainY)\n",
    "modelSecond.evaluate(testX, testY)\n",
    "modelSecond.evaluate(valX, valY)\n",
    "plt.plot(histSecond.history['accuracy'])\n",
    "plt.plot(histSecond.history['val_accuracy'])\n",
    "plt.title('model accuracy')\n",
    "plt.ylabel('accuracy')\n",
    "plt.xlabel('epoch')\n",
    "plt.legend(['train', 'val'], loc='upper left')\n",
    "plt.show()"
   ]
  },
  {
   "cell_type": "code",
   "execution_count": 110,
   "metadata": {},
   "outputs": [
    {
     "name": "stdout",
     "output_type": "stream",
     "text": [
      "Model: \"sequential_32\"\n",
      "_________________________________________________________________\n",
      "Layer (type)                 Output Shape              Param #   \n",
      "=================================================================\n",
      "conv2d_64 (Conv2D)           (None, 96, 96, 64)        4864      \n",
      "_________________________________________________________________\n",
      "max_pooling2d_62 (MaxPooling (None, 48, 48, 64)        0         \n",
      "_________________________________________________________________\n",
      "conv2d_65 (Conv2D)           (None, 46, 46, 32)        18464     \n",
      "_________________________________________________________________\n",
      "max_pooling2d_63 (MaxPooling (None, 23, 23, 32)        0         \n",
      "_________________________________________________________________\n",
      "flatten_32 (Flatten)         (None, 16928)             0         \n",
      "_________________________________________________________________\n",
      "dense_35 (Dense)             (None, 7)                 118503    \n",
      "=================================================================\n",
      "Total params: 141,831\n",
      "Trainable params: 141,831\n",
      "Non-trainable params: 0\n",
      "_________________________________________________________________\n",
      "11/11 [==============================] - 0s 3ms/step - loss: 0.2700 - accuracy: 0.9444\n",
      "2/2 [==============================] - 0s 5ms/step - loss: 7.7428 - accuracy: 0.5476\n",
      "2/2 [==============================] - 0s 5ms/step - loss: 19.1712 - accuracy: 0.1860\n"
     ]
    },
    {
     "data": {
      "image/png": "[encoded data removed]",
      "text/plain": [
       "<Figure size 432x288 with 1 Axes>"
      ]
     },
     "metadata": {},
     "output_type": "display_data"
    }
   ],
   "source": [
    "modelSecond = Sequential()\n",
    "modelSecond.add(Conv2D(64, kernel_size=(5,5), input_shape=(100,100,3), padding='valid', activation='relu'))\n",
    "modelSecond.add(MaxPooling2D(pool_size=(2,2)))\n",
    "# modelSecond.add(Dropout(0.15))\n",
    "modelSecond.add(Conv2D(32, kernel_size=(3,3), padding='valid', activation='relu'))\n",
    "modelSecond.add(MaxPooling2D(pool_size=(2,2)))\n",
    "# modelSecond.add(Dropout(0.5))\n",
    "modelSecond.add(Flatten())\n",
    "modelSecond.add(Dense(NUM_CLASS, activation='softmax'))\n",
    "\n",
    "modelSecond.summary()\n",
    "modelSecond.compile(loss='categorical_crossentropy', \n",
    "              optimizer='adam', \n",
    "              metrics=['accuracy'])\n",
    "              \n",
    "histSecond = modelSecond.fit(\n",
    "    trainX, trainY, \n",
    "    epochs=50, batch_size=32,\n",
    "    verbose=0,\n",
    "    validation_data=(testX, testY)\n",
    "    )\n",
    "modelSecond.evaluate(trainX, trainY)\n",
    "modelSecond.evaluate(testX, testY)\n",
    "modelSecond.evaluate(valX, valY)\n",
    "plt.plot(histSecond.history['accuracy'])\n",
    "plt.plot(histSecond.history['val_accuracy'])\n",
    "plt.title('model accuracy')\n",
    "plt.ylabel('accuracy')\n",
    "plt.xlabel('epoch')\n",
    "plt.legend(['train', 'val'], loc='upper left')\n",
    "plt.show()\n"
   ]
  },
  {
   "cell_type": "code",
   "execution_count": 111,
   "metadata": {},
   "outputs": [
    {
     "name": "stdout",
     "output_type": "stream",
     "text": [
      "Model: \"sequential_33\"\n",
      "_________________________________________________________________\n",
      "Layer (type)                 Output Shape              Param #   \n",
      "=================================================================\n",
      "conv2d_66 (Conv2D)           (None, 96, 96, 32)        2432      \n",
      "_________________________________________________________________\n",
      "max_pooling2d_64 (MaxPooling (None, 48, 48, 32)        0         \n",
      "_________________________________________________________________\n",
      "dropout_24 (Dropout)         (None, 48, 48, 32)        0         \n",
      "_________________________________________________________________\n",
      "conv2d_67 (Conv2D)           (None, 46, 46, 16)        4624      \n",
      "_________________________________________________________________\n",
      "max_pooling2d_65 (MaxPooling (None, 23, 23, 16)        0         \n",
      "_________________________________________________________________\n",
      "dropout_25 (Dropout)         (None, 23, 23, 16)        0         \n",
      "_________________________________________________________________\n",
      "flatten_33 (Flatten)         (None, 8464)              0         \n",
      "_________________________________________________________________\n",
      "dense_36 (Dense)             (None, 7)                 59255     \n",
      "=================================================================\n",
      "Total params: 66,311\n",
      "Trainable params: 66,311\n",
      "Non-trainable params: 0\n",
      "_________________________________________________________________\n",
      "11/11 [==============================] - 0s 4ms/step - loss: 1.2425 - accuracy: 0.6374\n",
      "2/2 [==============================] - 0s 3ms/step - loss: 1.8590 - accuracy: 0.3571\n",
      "2/2 [==============================] - 0s 2ms/step - loss: 3.5067 - accuracy: 0.2791\n"
     ]
    },
    {
     "data": {
      "image/png": "[encoded data removed]",
      "text/plain": [
       "<Figure size 432x288 with 1 Axes>"
      ]
     },
     "metadata": {},
     "output_type": "display_data"
    }
   ],
   "source": [
    "modelSecond = Sequential()\n",
    "modelSecond.add(Conv2D(32, kernel_size=(5,5), input_shape=(100,100,3), padding='valid', activation='relu'))\n",
    "modelSecond.add(MaxPooling2D(pool_size=(2,2)))\n",
    "modelSecond.add(Dropout(0.15))\n",
    "modelSecond.add(Conv2D(16, kernel_size=(3,3),  padding='valid',  activation='relu'))\n",
    "modelSecond.add(MaxPooling2D(pool_size=(2,2)))\n",
    "modelSecond.add(Dropout(0.45))\n",
    "modelSecond.add(Flatten())\n",
    "modelSecond.add(Dense(NUM_CLASS, activation='softmax'))\n",
    "\n",
    "modelSecond.summary()\n",
    "modelSecond.compile(loss='categorical_crossentropy', \n",
    "              optimizer='adam', \n",
    "              metrics=['accuracy'])\n",
    "              \n",
    "histSecond = modelSecond.fit(\n",
    "    trainX, trainY, \n",
    "    epochs=50, batch_size=32,\n",
    "    verbose=0,\n",
    "    validation_data=(testX, testY)\n",
    "    )\n",
    "modelSecond.evaluate(trainX, trainY)\n",
    "modelSecond.evaluate(testX, testY)\n",
    "modelSecond.evaluate(valX, valY)\n",
    "plt.plot(histSecond.history['accuracy'])\n",
    "plt.plot(histSecond.history['val_accuracy'])\n",
    "plt.title('model accuracy')\n",
    "plt.ylabel('accuracy')\n",
    "plt.xlabel('epoch')\n",
    "plt.legend(['train', 'val'], loc='upper left')\n",
    "plt.show()\n"
   ]
  }
 ],
 "metadata": {
  "kernelspec": {
   "display_name": "tf-gpu-2022",
   "language": "python",
   "name": "python3"
  },
  "language_info": {
   "codemirror_mode": {
    "name": "ipython",
    "version": 3
   },
   "file_extension": ".py",
   "mimetype": "text/x-python",
   "name": "python",
   "nbconvert_exporter": "python",
   "pygments_lexer": "ipython3",
   "version": "3.9.12 (main, Apr  4 2022, 05:22:27) [MSC v.1916 64 bit (AMD64)]"
  },
  "orig_nbformat": 4,
  "vscode": {
   "interpreter": {
    "hash": "72bc0f943a863b7fcc9ff0d11405a78faecbd3bfafd8f122065908abfcb424a6"
   }
  }
 },
 "nbformat": 4,
 "nbformat_minor": 2
}
