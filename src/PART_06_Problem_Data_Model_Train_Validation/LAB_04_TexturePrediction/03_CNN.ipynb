{
 "cells": [
  {
   "cell_type": "markdown",
   "metadata": {},
   "source": [
    "# **Data in Design, AI for Urban Data and Visualization**\n",
    "\n",
    "#### Data, Design Computation, Artificial Intelligence, Visualization, Harvard GSD J Term 2023\n",
    "\n",
    "\n",
    "**KEYWORD:**\n",
    "Vector, Raster, Urban Data, GIS, Data Processing, Data Mining, Machine Learning, Artificial Intelligence, Visualization, Mapping, Design Decision-Making\n",
    "\n",
    "-----\n",
    "\n",
    "#### Instructor : NJ Namju Lee / nj.namju@gmail.com  \n",
    "###### * Linkedin - https://www.linkedin.com/in/nj-namju-lee-926b3252/    * Git - https://github.com/NamjuLee  \n",
    "\n",
    "###### * Web - http://www.njstudio.co.kr                                  * Lab - http://www.njslab.com/NJSLabCore/  \n",
    "\n",
    "###### * Video(English) - https://www.youtube.com/c/njnamjulee            * Writing(English) - https://medium.com/@nj-namju  \n",
    "\n",
    "###### * Video(Korean) - https://www.youtube.com/c/CodeforDesign          * Writing(Korean) - https://brunch.co.kr/@njnamju  \n",
    "-----"
   ]
  },
  {
   "cell_type": "code",
   "execution_count": null,
   "metadata": {},
   "outputs": [],
   "source": []
  },
  {
   "cell_type": "code",
   "execution_count": 1,
   "metadata": {},
   "outputs": [],
   "source": [
    "import glob\n",
    "import os\n",
    "import PIL\n",
    "import PIL.Image\n",
    "import cv2"
   ]
  },
  {
   "cell_type": "code",
   "execution_count": 2,
   "metadata": {},
   "outputs": [],
   "source": [
    "import tensorflow as tf\n",
    "import matplotlib.pyplot as plt\n",
    "import numpy as np\n",
    "import pandas as pd"
   ]
  },
  {
   "cell_type": "code",
   "execution_count": null,
   "metadata": {},
   "outputs": [],
   "source": []
  },
  {
   "cell_type": "code",
   "execution_count": 3,
   "metadata": {},
   "outputs": [
    {
     "name": "stdout",
     "output_type": "stream",
     "text": [
      "Model: \"sequential_3\"\n",
      "_________________________________________________________________\n",
      "Layer (type)                 Output Shape              Param #   \n",
      "=================================================================\n",
      "flatten_3 (Flatten)          (None, 30000)             0         \n",
      "_________________________________________________________________\n",
      "dense_17 (Dense)             (None, 128)               3840128   \n",
      "_________________________________________________________________\n",
      "dropout_3 (Dropout)          (None, 128)               0         \n",
      "_________________________________________________________________\n",
      "dense_18 (Dense)             (None, 64)                8256      \n",
      "_________________________________________________________________\n",
      "dropout_4 (Dropout)          (None, 64)                0         \n",
      "_________________________________________________________________\n",
      "dense_19 (Dense)             (None, 7)                 455       \n",
      "=================================================================\n",
      "Total params: 3,848,839\n",
      "Trainable params: 3,848,839\n",
      "Non-trainable params: 0\n",
      "_________________________________________________________________\n"
     ]
    }
   ],
   "source": [
    "from tensorflow.keras.models import load_model\n",
    "modelLoaded = load_model('checkPointCallBack.h5')\n",
    "modelLoaded.summary()"
   ]
  },
  {
   "cell_type": "code",
   "execution_count": null,
   "metadata": {},
   "outputs": [],
   "source": []
  },
  {
   "cell_type": "code",
   "execution_count": 4,
   "metadata": {},
   "outputs": [
    {
     "name": "stdout",
     "output_type": "stream",
     "text": [
      "['brick', 'concrete', 'floor', 'grass', 'roop', 'sidewalk', 'wall']\n"
     ]
    }
   ],
   "source": [
    "PATH_SAVED = \"dataProcessed\"\n",
    "files = glob.glob(PATH_SAVED + \"/*.*\")\n",
    "classList = []\n",
    "\n",
    "for f in files:\n",
    "    type = f.split('\\\\')[-1].split('_')[0]\n",
    "    if type not in classList:\n",
    "        classList.append(type)\n",
    "print(classList)\n",
    "\n",
    "np.random.seed(22)\n",
    "np.random.shuffle(files)\n",
    "\n",
    "data = []\n",
    "target = []\n",
    "for f in files:\n",
    "    type = f.split('\\\\')[-1].split('_')[0]\n",
    "    if (type in classList):\n",
    "        id = classList.index(type)\n",
    "        target.append(id)\n",
    "\n",
    "        im = cv2.imread (f, cv2.IMREAD_COLOR)\n",
    "        im = cv2.cvtColor(im, cv2.COLOR_BGR2RGB)\n",
    "        array = tf.keras.preprocessing.image.img_to_array(im)\n",
    "        # array.resize(DIM[0]))\n",
    "        data.append(array)\n",
    "        # plt.imshow(array/255)\n",
    "        # break\n",
    "    # print(data[0])\n",
    "\n",
    "dataArray = np.array(data)\n",
    "# dataArray = tf.expand_dims(dataArray, axis=-1)"
   ]
  },
  {
   "cell_type": "code",
   "execution_count": 5,
   "metadata": {},
   "outputs": [
    {
     "data": {
      "text/plain": [
       "7"
      ]
     },
     "execution_count": 5,
     "metadata": {},
     "output_type": "execute_result"
    }
   ],
   "source": [
    "from tensorflow.keras.utils import to_categorical\n",
    "targetOnehot = to_categorical(target)\n",
    "len(targetOnehot[0])"
   ]
  },
  {
   "cell_type": "code",
   "execution_count": 6,
   "metadata": {},
   "outputs": [
    {
     "name": "stdout",
     "output_type": "stream",
     "text": [
      "sample total num: 427\n",
      "sample val num: 85\n",
      "sample test num: 42\n"
     ]
    }
   ],
   "source": [
    "print('sample total num: {}'.format(dataArray.shape[0]))\n",
    "sampleNum = int(dataArray.shape[0] * 0.2)\n",
    "print('sample val num: {}'.format(sampleNum))\n",
    "\n",
    "sampleNumTest = int(sampleNum * 0.5)\n",
    "print('sample test num: {}'.format(sampleNumTest))"
   ]
  },
  {
   "cell_type": "code",
   "execution_count": 7,
   "metadata": {},
   "outputs": [],
   "source": [
    "trainX = dataArray[:-sampleNum]\n",
    "val_test_X = dataArray[-sampleNum:]\n",
    "testX = val_test_X[-sampleNumTest:]\n",
    "valX = val_test_X[ :- sampleNumTest]\n",
    "\n",
    "\n",
    "trainY = targetOnehot[:-sampleNum]\n",
    "val_test_Y = targetOnehot[-sampleNum:]\n",
    "testY = val_test_Y[ -sampleNumTest:]\n",
    "valY = val_test_Y[ sampleNumTest:]\n",
    "\n",
    "NUM_CLASS = len(targetOnehot[0])\n"
   ]
  },
  {
   "cell_type": "code",
   "execution_count": 8,
   "metadata": {},
   "outputs": [
    {
     "name": "stdout",
     "output_type": "stream",
     "text": [
      "Total num data:           (427, 100, 100, 3)\n",
      "num data for train:       (342, 100, 100, 3)\n",
      "num data for validation:  (43, 100, 100, 3)\n",
      "num data for test:        (42, 100, 100, 3)\n"
     ]
    }
   ],
   "source": [
    "print('Total num data:          ', dataArray.shape)\n",
    "print('num data for train:      ', trainX.shape)\n",
    "print('num data for validation: ', valX.shape)\n",
    "print('num data for test:       ',  testX.shape)"
   ]
  },
  {
   "cell_type": "code",
   "execution_count": 9,
   "metadata": {},
   "outputs": [
    {
     "name": "stdout",
     "output_type": "stream",
     "text": [
      "Total num data:           (427, 100, 100, 3)\n",
      "num data for train:       (342, 7)\n",
      "num data for validation:  (43, 7)\n",
      "num data for test:        (42, 7)\n"
     ]
    }
   ],
   "source": [
    "print('Total num data:          ', dataArray.shape)\n",
    "print('num data for train:      ', trainY.shape)\n",
    "print('num data for validation: ', valY.shape)\n",
    "print('num data for test:       ',  testY.shape)"
   ]
  },
  {
   "cell_type": "code",
   "execution_count": null,
   "metadata": {},
   "outputs": [],
   "source": []
  },
  {
   "cell_type": "code",
   "execution_count": null,
   "metadata": {},
   "outputs": [],
   "source": []
  },
  {
   "cell_type": "code",
   "execution_count": 10,
   "metadata": {},
   "outputs": [
    {
     "name": "stdout",
     "output_type": "stream",
     "text": [
      "[[0.0000000e+00 0.0000000e+00 0.0000000e+00 ... 0.0000000e+00\n",
      "  0.0000000e+00 1.0000000e+00]\n",
      " [0.0000000e+00 0.0000000e+00 1.0000000e+00 ... 0.0000000e+00\n",
      "  0.0000000e+00 5.3588836e-32]\n",
      " [0.0000000e+00 0.0000000e+00 0.0000000e+00 ... 0.0000000e+00\n",
      "  0.0000000e+00 1.0000000e+00]\n",
      " ...\n",
      " [0.0000000e+00 0.0000000e+00 1.0000000e+00 ... 0.0000000e+00\n",
      "  0.0000000e+00 0.0000000e+00]\n",
      " [0.0000000e+00 1.8461488e-38 0.0000000e+00 ... 0.0000000e+00\n",
      "  0.0000000e+00 1.0000000e+00]\n",
      " [0.0000000e+00 0.0000000e+00 0.0000000e+00 ... 0.0000000e+00\n",
      "  0.0000000e+00 1.0000000e+00]]\n"
     ]
    }
   ],
   "source": [
    "predY = modelLoaded.predict(trainX)\n",
    "print(predY)"
   ]
  },
  {
   "cell_type": "code",
   "execution_count": 11,
   "metadata": {},
   "outputs": [
    {
     "data": {
      "image/png": "[encoded data removed]",
      "text/plain": [
       "<Figure size 864x864 with 2 Axes>"
      ]
     },
     "metadata": {
      "needs_background": "light"
     },
     "output_type": "display_data"
    }
   ],
   "source": [
    "#  https://stackoverflow.com/questions/47435526/what-is-the-meaning-of-axis-1-in-keras-argmax\n",
    "from sklearn.metrics import confusion_matrix\n",
    "from tensorflow.keras.utils import to_categorical\n",
    "\n",
    "import seaborn as sns\n",
    "sns.set(style='dark')\n",
    "\n",
    "yTestYOnehot = trainY\n",
    "\n",
    "plt.figure(figsize=(12,12))\n",
    "conMat = confusion_matrix(np.argmax(yTestYOnehot, axis=1), np.argmax(predY, axis=1))\n",
    "sns.heatmap(conMat, annot=True, cmap='Reds', fmt='d')\n",
    "plt.xlabel('Pred')\n",
    "plt.ylabel('Ground Truth')\n",
    "plt.show()"
   ]
  },
  {
   "cell_type": "code",
   "execution_count": null,
   "metadata": {},
   "outputs": [],
   "source": []
  },
  {
   "cell_type": "code",
   "execution_count": 12,
   "metadata": {},
   "outputs": [],
   "source": [
    "from tensorflow.keras.models import Sequential\n",
    "from tensorflow.keras.layers import Conv2D, MaxPool2D, MaxPooling2D, Dropout, Flatten, Dense, Input"
   ]
  },
  {
   "cell_type": "code",
   "execution_count": 13,
   "metadata": {},
   "outputs": [
    {
     "name": "stdout",
     "output_type": "stream",
     "text": [
      "WARNING:tensorflow:Please add `keras.layers.InputLayer` instead of `keras.Input` to Sequential model. `keras.Input` is intended to be used by Functional model.\n",
      "Model: \"sequential\"\n",
      "_________________________________________________________________\n",
      "Layer (type)                 Output Shape              Param #   \n",
      "=================================================================\n",
      "conv2d (Conv2D)              (None, 98, 98, 32)        896       \n",
      "_________________________________________________________________\n",
      "max_pooling2d (MaxPooling2D) (None, 49, 49, 32)        0         \n",
      "_________________________________________________________________\n",
      "conv2d_1 (Conv2D)            (None, 47, 47, 64)        18496     \n",
      "_________________________________________________________________\n",
      "max_pooling2d_1 (MaxPooling2 (None, 23, 23, 64)        0         \n",
      "_________________________________________________________________\n",
      "flatten (Flatten)            (None, 33856)             0         \n",
      "_________________________________________________________________\n",
      "dropout (Dropout)            (None, 33856)             0         \n",
      "_________________________________________________________________\n",
      "dense (Dense)                (None, 7)                 236999    \n",
      "=================================================================\n",
      "Total params: 256,391\n",
      "Trainable params: 256,391\n",
      "Non-trainable params: 0\n",
      "_________________________________________________________________\n",
      "Epoch 1/100\n",
      "11/11 [==============================] - 7s 70ms/step - loss: 144.0758 - accuracy: 0.1959 - val_loss: 2.2425 - val_accuracy: 0.3571\n",
      "Epoch 2/100\n",
      "11/11 [==============================] - 0s 11ms/step - loss: 1.6961 - accuracy: 0.4649 - val_loss: 1.4802 - val_accuracy: 0.5238\n",
      "Epoch 3/100\n",
      "11/11 [==============================] - 0s 11ms/step - loss: 1.3737 - accuracy: 0.6462 - val_loss: 1.2776 - val_accuracy: 0.6190\n",
      "Epoch 4/100\n",
      "11/11 [==============================] - 0s 10ms/step - loss: 1.1667 - accuracy: 0.7427 - val_loss: 1.4512 - val_accuracy: 0.5714\n",
      "Epoch 5/100\n",
      "11/11 [==============================] - 0s 10ms/step - loss: 1.0623 - accuracy: 0.7515 - val_loss: 1.5576 - val_accuracy: 0.6667\n",
      "Epoch 6/100\n",
      "11/11 [==============================] - 0s 10ms/step - loss: 0.9108 - accuracy: 0.7924 - val_loss: 3.1013 - val_accuracy: 0.5476\n",
      "Epoch 7/100\n",
      "11/11 [==============================] - 0s 10ms/step - loss: 1.4640 - accuracy: 0.6930 - val_loss: 2.0622 - val_accuracy: 0.3810\n",
      "Epoch 8/100\n",
      "11/11 [==============================] - 0s 11ms/step - loss: 1.4392 - accuracy: 0.6345 - val_loss: 2.3151 - val_accuracy: 0.4524\n",
      "Epoch 9/100\n",
      "11/11 [==============================] - 0s 10ms/step - loss: 1.2778 - accuracy: 0.6754 - val_loss: 2.0069 - val_accuracy: 0.5714\n",
      "Epoch 10/100\n",
      "11/11 [==============================] - 0s 10ms/step - loss: 1.2526 - accuracy: 0.7164 - val_loss: 1.7959 - val_accuracy: 0.6429\n",
      "Epoch 11/100\n",
      "11/11 [==============================] - 0s 11ms/step - loss: 1.0068 - accuracy: 0.7661 - val_loss: 1.7308 - val_accuracy: 0.6667\n",
      "Epoch 12/100\n",
      "11/11 [==============================] - 0s 11ms/step - loss: 0.7780 - accuracy: 0.8099 - val_loss: 1.8996 - val_accuracy: 0.7619\n",
      "Epoch 13/100\n",
      "11/11 [==============================] - 0s 10ms/step - loss: 0.7724 - accuracy: 0.8070 - val_loss: 1.7049 - val_accuracy: 0.6905\n",
      "Epoch 14/100\n",
      "11/11 [==============================] - 0s 10ms/step - loss: 0.7254 - accuracy: 0.8246 - val_loss: 2.7621 - val_accuracy: 0.5714\n",
      "Epoch 15/100\n",
      "11/11 [==============================] - 0s 10ms/step - loss: 0.8861 - accuracy: 0.7895 - val_loss: 2.3500 - val_accuracy: 0.5714\n",
      "Epoch 16/100\n",
      "11/11 [==============================] - 0s 11ms/step - loss: 0.6447 - accuracy: 0.8596 - val_loss: 2.6253 - val_accuracy: 0.5952\n",
      "Epoch 17/100\n",
      "11/11 [==============================] - 0s 11ms/step - loss: 0.9982 - accuracy: 0.7982 - val_loss: 2.0195 - val_accuracy: 0.6190\n",
      "Epoch 18/100\n",
      "11/11 [==============================] - 0s 11ms/step - loss: 0.9729 - accuracy: 0.8129 - val_loss: 2.3678 - val_accuracy: 0.4048\n",
      "Epoch 19/100\n",
      "11/11 [==============================] - 0s 11ms/step - loss: 0.8656 - accuracy: 0.7602 - val_loss: 3.9845 - val_accuracy: 0.3571\n",
      "Epoch 20/100\n",
      "11/11 [==============================] - 0s 11ms/step - loss: 0.8282 - accuracy: 0.7807 - val_loss: 5.0441 - val_accuracy: 0.2619\n",
      "Epoch 21/100\n",
      "11/11 [==============================] - 0s 10ms/step - loss: 0.8582 - accuracy: 0.7924 - val_loss: 2.0432 - val_accuracy: 0.5952\n",
      "Epoch 22/100\n",
      "11/11 [==============================] - 0s 12ms/step - loss: 0.3517 - accuracy: 0.9298 - val_loss: 2.0053 - val_accuracy: 0.6905\n",
      "Epoch 23/100\n",
      "11/11 [==============================] - 0s 10ms/step - loss: 0.2848 - accuracy: 0.9386 - val_loss: 2.0836 - val_accuracy: 0.6905\n",
      "Epoch 24/100\n",
      "11/11 [==============================] - 0s 11ms/step - loss: 0.2367 - accuracy: 0.9474 - val_loss: 2.3103 - val_accuracy: 0.5952\n",
      "Epoch 25/100\n",
      "11/11 [==============================] - 0s 11ms/step - loss: 0.8311 - accuracy: 0.8596 - val_loss: 2.1302 - val_accuracy: 0.4524\n",
      "Epoch 26/100\n",
      "11/11 [==============================] - 0s 11ms/step - loss: 1.1779 - accuracy: 0.7661 - val_loss: 2.2128 - val_accuracy: 0.5238\n",
      "Epoch 27/100\n",
      "11/11 [==============================] - 0s 10ms/step - loss: 1.1555 - accuracy: 0.7368 - val_loss: 2.2885 - val_accuracy: 0.4286\n",
      "Epoch 28/100\n",
      "11/11 [==============================] - 0s 10ms/step - loss: 0.9999 - accuracy: 0.8129 - val_loss: 2.6570 - val_accuracy: 0.5476\n",
      "Epoch 29/100\n",
      "11/11 [==============================] - 0s 10ms/step - loss: 0.8748 - accuracy: 0.8275 - val_loss: 4.4264 - val_accuracy: 0.5000\n",
      "Epoch 30/100\n",
      "11/11 [==============================] - 0s 10ms/step - loss: 0.7145 - accuracy: 0.8421 - val_loss: 3.4656 - val_accuracy: 0.5238\n",
      "Epoch 31/100\n",
      "11/11 [==============================] - 0s 11ms/step - loss: 0.6333 - accuracy: 0.8655 - val_loss: 3.6805 - val_accuracy: 0.5000\n",
      "Epoch 32/100\n",
      "11/11 [==============================] - 0s 10ms/step - loss: 0.4466 - accuracy: 0.8772 - val_loss: 4.2052 - val_accuracy: 0.5476\n",
      "Epoch 33/100\n",
      "11/11 [==============================] - 0s 11ms/step - loss: 0.4106 - accuracy: 0.8918 - val_loss: 3.3140 - val_accuracy: 0.5714\n",
      "Epoch 34/100\n",
      "11/11 [==============================] - 0s 11ms/step - loss: 0.4438 - accuracy: 0.8860 - val_loss: 3.4609 - val_accuracy: 0.5476\n",
      "Epoch 35/100\n",
      "11/11 [==============================] - 0s 11ms/step - loss: 0.3987 - accuracy: 0.8860 - val_loss: 2.8516 - val_accuracy: 0.4762\n",
      "Epoch 36/100\n",
      "11/11 [==============================] - 0s 10ms/step - loss: 0.4424 - accuracy: 0.8860 - val_loss: 3.2396 - val_accuracy: 0.6190\n",
      "Epoch 37/100\n",
      "11/11 [==============================] - 0s 11ms/step - loss: 0.3599 - accuracy: 0.8977 - val_loss: 3.0997 - val_accuracy: 0.4762\n",
      "Epoch 38/100\n",
      "11/11 [==============================] - 0s 10ms/step - loss: 0.5773 - accuracy: 0.8363 - val_loss: 3.7413 - val_accuracy: 0.5000\n",
      "Epoch 39/100\n",
      "11/11 [==============================] - 0s 10ms/step - loss: 0.5731 - accuracy: 0.8392 - val_loss: 3.8004 - val_accuracy: 0.4762\n",
      "Epoch 40/100\n",
      "11/11 [==============================] - 0s 11ms/step - loss: 0.5465 - accuracy: 0.8421 - val_loss: 3.8239 - val_accuracy: 0.5714\n",
      "Epoch 41/100\n",
      "11/11 [==============================] - 0s 11ms/step - loss: 0.3775 - accuracy: 0.8860 - val_loss: 3.3542 - val_accuracy: 0.5000\n",
      "Epoch 42/100\n",
      "11/11 [==============================] - 0s 11ms/step - loss: 0.3705 - accuracy: 0.9006 - val_loss: 3.4322 - val_accuracy: 0.4762\n",
      "Epoch 43/100\n",
      "11/11 [==============================] - 0s 11ms/step - loss: 0.4274 - accuracy: 0.8772 - val_loss: 3.2253 - val_accuracy: 0.5476\n",
      "Epoch 44/100\n",
      "11/11 [==============================] - 0s 10ms/step - loss: 0.5574 - accuracy: 0.8743 - val_loss: 3.4533 - val_accuracy: 0.4762\n",
      "Epoch 45/100\n",
      "11/11 [==============================] - 0s 10ms/step - loss: 0.4017 - accuracy: 0.8860 - val_loss: 3.2096 - val_accuracy: 0.5000\n",
      "Epoch 46/100\n",
      "11/11 [==============================] - 0s 12ms/step - loss: 0.3484 - accuracy: 0.8918 - val_loss: 4.4260 - val_accuracy: 0.4524\n",
      "Epoch 47/100\n",
      "11/11 [==============================] - 0s 11ms/step - loss: 0.3430 - accuracy: 0.8977 - val_loss: 3.1358 - val_accuracy: 0.5238\n",
      "Epoch 48/100\n",
      "11/11 [==============================] - 0s 11ms/step - loss: 0.3288 - accuracy: 0.9006 - val_loss: 3.9258 - val_accuracy: 0.5000\n",
      "Epoch 49/100\n",
      "11/11 [==============================] - 0s 10ms/step - loss: 0.4414 - accuracy: 0.8772 - val_loss: 3.2596 - val_accuracy: 0.4762\n",
      "Epoch 50/100\n",
      "11/11 [==============================] - 0s 10ms/step - loss: 0.4077 - accuracy: 0.8743 - val_loss: 4.2581 - val_accuracy: 0.4762\n",
      "Epoch 51/100\n",
      "11/11 [==============================] - 0s 10ms/step - loss: 0.5045 - accuracy: 0.8918 - val_loss: 4.6892 - val_accuracy: 0.5000\n",
      "Epoch 52/100\n",
      "11/11 [==============================] - 0s 11ms/step - loss: 0.3712 - accuracy: 0.8918 - val_loss: 4.1675 - val_accuracy: 0.5238\n",
      "Epoch 53/100\n",
      "11/11 [==============================] - 0s 10ms/step - loss: 0.2614 - accuracy: 0.9269 - val_loss: 4.5912 - val_accuracy: 0.4762\n",
      "Epoch 54/100\n",
      "11/11 [==============================] - 0s 11ms/step - loss: 0.2381 - accuracy: 0.9211 - val_loss: 4.3712 - val_accuracy: 0.4762\n",
      "Epoch 55/100\n",
      "11/11 [==============================] - 0s 11ms/step - loss: 0.2725 - accuracy: 0.9211 - val_loss: 4.1878 - val_accuracy: 0.5000\n",
      "Epoch 56/100\n",
      "11/11 [==============================] - 0s 11ms/step - loss: 0.2379 - accuracy: 0.9532 - val_loss: 3.9049 - val_accuracy: 0.5238\n",
      "Epoch 57/100\n",
      "11/11 [==============================] - 0s 10ms/step - loss: 0.2640 - accuracy: 0.9532 - val_loss: 4.2483 - val_accuracy: 0.5238\n",
      "Epoch 58/100\n",
      "11/11 [==============================] - 0s 10ms/step - loss: 0.1747 - accuracy: 0.9766 - val_loss: 5.2256 - val_accuracy: 0.5000\n",
      "Epoch 59/100\n",
      "11/11 [==============================] - 0s 11ms/step - loss: 0.1908 - accuracy: 0.9591 - val_loss: 5.3178 - val_accuracy: 0.4286\n",
      "Epoch 60/100\n",
      "11/11 [==============================] - 0s 11ms/step - loss: 0.2436 - accuracy: 0.9649 - val_loss: 4.4233 - val_accuracy: 0.5238\n",
      "Epoch 61/100\n",
      "11/11 [==============================] - 0s 11ms/step - loss: 0.2629 - accuracy: 0.9503 - val_loss: 4.0676 - val_accuracy: 0.4762\n",
      "Epoch 62/100\n",
      "11/11 [==============================] - 0s 11ms/step - loss: 0.2158 - accuracy: 0.9649 - val_loss: 3.6973 - val_accuracy: 0.5238\n",
      "Epoch 63/100\n",
      "11/11 [==============================] - 0s 11ms/step - loss: 0.2230 - accuracy: 0.9737 - val_loss: 3.9542 - val_accuracy: 0.5000\n",
      "Epoch 64/100\n",
      "11/11 [==============================] - 0s 10ms/step - loss: 0.2108 - accuracy: 0.9620 - val_loss: 4.0284 - val_accuracy: 0.4762\n",
      "Epoch 65/100\n",
      "11/11 [==============================] - 0s 11ms/step - loss: 0.2544 - accuracy: 0.9503 - val_loss: 4.7943 - val_accuracy: 0.5000\n",
      "Epoch 66/100\n",
      "11/11 [==============================] - 0s 10ms/step - loss: 0.1491 - accuracy: 0.9737 - val_loss: 4.2242 - val_accuracy: 0.4524\n",
      "Epoch 67/100\n",
      "11/11 [==============================] - 0s 10ms/step - loss: 0.1944 - accuracy: 0.9591 - val_loss: 4.6460 - val_accuracy: 0.4286\n",
      "Epoch 68/100\n",
      "11/11 [==============================] - 0s 11ms/step - loss: 0.1923 - accuracy: 0.9649 - val_loss: 4.1825 - val_accuracy: 0.5238\n",
      "Epoch 69/100\n",
      "11/11 [==============================] - 0s 10ms/step - loss: 0.2214 - accuracy: 0.9591 - val_loss: 4.3065 - val_accuracy: 0.4762\n",
      "Epoch 70/100\n",
      "11/11 [==============================] - 0s 11ms/step - loss: 0.2179 - accuracy: 0.9649 - val_loss: 4.7067 - val_accuracy: 0.5476\n",
      "Epoch 71/100\n",
      "11/11 [==============================] - 0s 12ms/step - loss: 0.1925 - accuracy: 0.9620 - val_loss: 5.9401 - val_accuracy: 0.5476\n",
      "Epoch 72/100\n",
      "11/11 [==============================] - 0s 11ms/step - loss: 0.1520 - accuracy: 0.9678 - val_loss: 5.7268 - val_accuracy: 0.5000\n",
      "Epoch 73/100\n",
      "11/11 [==============================] - 0s 10ms/step - loss: 0.1237 - accuracy: 0.9825 - val_loss: 5.6984 - val_accuracy: 0.4762\n",
      "Epoch 74/100\n",
      "11/11 [==============================] - 0s 10ms/step - loss: 0.1513 - accuracy: 0.9825 - val_loss: 6.6037 - val_accuracy: 0.4762\n",
      "Epoch 75/100\n",
      "11/11 [==============================] - 0s 10ms/step - loss: 0.1657 - accuracy: 0.9766 - val_loss: 5.5648 - val_accuracy: 0.4762\n",
      "Epoch 76/100\n",
      "11/11 [==============================] - 0s 11ms/step - loss: 0.2001 - accuracy: 0.9649 - val_loss: 5.0373 - val_accuracy: 0.4762\n",
      "Epoch 77/100\n",
      "11/11 [==============================] - 0s 10ms/step - loss: 0.1566 - accuracy: 0.9708 - val_loss: 6.6647 - val_accuracy: 0.4762\n",
      "Epoch 78/100\n",
      "11/11 [==============================] - 0s 10ms/step - loss: 0.1743 - accuracy: 0.9737 - val_loss: 5.1393 - val_accuracy: 0.5238\n",
      "Epoch 79/100\n",
      "11/11 [==============================] - 0s 10ms/step - loss: 0.2173 - accuracy: 0.9532 - val_loss: 4.4389 - val_accuracy: 0.5238\n",
      "Epoch 80/100\n",
      "11/11 [==============================] - 0s 10ms/step - loss: 0.2151 - accuracy: 0.9503 - val_loss: 5.1052 - val_accuracy: 0.4286\n",
      "Epoch 81/100\n",
      "11/11 [==============================] - 0s 10ms/step - loss: 0.1990 - accuracy: 0.9708 - val_loss: 5.9166 - val_accuracy: 0.5000\n",
      "Epoch 82/100\n",
      "11/11 [==============================] - 0s 10ms/step - loss: 0.1558 - accuracy: 0.9825 - val_loss: 6.0905 - val_accuracy: 0.5000\n",
      "Epoch 83/100\n",
      "11/11 [==============================] - 0s 10ms/step - loss: 0.1533 - accuracy: 0.9708 - val_loss: 6.3253 - val_accuracy: 0.5000\n",
      "Epoch 84/100\n",
      "11/11 [==============================] - 0s 10ms/step - loss: 0.2058 - accuracy: 0.9678 - val_loss: 4.6821 - val_accuracy: 0.5476\n",
      "Epoch 85/100\n",
      "11/11 [==============================] - 0s 11ms/step - loss: 0.1935 - accuracy: 0.9620 - val_loss: 5.2031 - val_accuracy: 0.4762\n",
      "Epoch 86/100\n",
      "11/11 [==============================] - 0s 11ms/step - loss: 0.2664 - accuracy: 0.9561 - val_loss: 5.3516 - val_accuracy: 0.4286\n",
      "Epoch 87/100\n",
      "11/11 [==============================] - 0s 11ms/step - loss: 0.2089 - accuracy: 0.9620 - val_loss: 5.5156 - val_accuracy: 0.4762\n",
      "Epoch 88/100\n",
      "11/11 [==============================] - 0s 11ms/step - loss: 0.2445 - accuracy: 0.9532 - val_loss: 4.5054 - val_accuracy: 0.4524\n",
      "Epoch 89/100\n",
      "11/11 [==============================] - 0s 11ms/step - loss: 0.2552 - accuracy: 0.9503 - val_loss: 6.5915 - val_accuracy: 0.4524\n",
      "Epoch 90/100\n",
      "11/11 [==============================] - 0s 10ms/step - loss: 0.2123 - accuracy: 0.9766 - val_loss: 4.9553 - val_accuracy: 0.5714\n",
      "Epoch 91/100\n",
      "11/11 [==============================] - 0s 11ms/step - loss: 0.2433 - accuracy: 0.9444 - val_loss: 4.3409 - val_accuracy: 0.4286\n",
      "Epoch 92/100\n",
      "11/11 [==============================] - 0s 11ms/step - loss: 0.3459 - accuracy: 0.9240 - val_loss: 4.8709 - val_accuracy: 0.5000\n",
      "Epoch 93/100\n",
      "11/11 [==============================] - 0s 10ms/step - loss: 0.2959 - accuracy: 0.9415 - val_loss: 5.6606 - val_accuracy: 0.4524\n",
      "Epoch 94/100\n",
      "11/11 [==============================] - 0s 11ms/step - loss: 0.2605 - accuracy: 0.9503 - val_loss: 4.4742 - val_accuracy: 0.4286\n",
      "Epoch 95/100\n",
      "11/11 [==============================] - 0s 11ms/step - loss: 0.4464 - accuracy: 0.8655 - val_loss: 2.9967 - val_accuracy: 0.4286\n",
      "Epoch 96/100\n",
      "11/11 [==============================] - 0s 11ms/step - loss: 0.6951 - accuracy: 0.7251 - val_loss: 5.6833 - val_accuracy: 0.3810\n",
      "Epoch 97/100\n",
      "11/11 [==============================] - 0s 10ms/step - loss: 0.5743 - accuracy: 0.8246 - val_loss: 5.7348 - val_accuracy: 0.4286\n",
      "Epoch 98/100\n",
      "11/11 [==============================] - 0s 10ms/step - loss: 0.2534 - accuracy: 0.9327 - val_loss: 7.4670 - val_accuracy: 0.4524\n",
      "Epoch 99/100\n",
      "11/11 [==============================] - 0s 10ms/step - loss: 0.1918 - accuracy: 0.9474 - val_loss: 6.7355 - val_accuracy: 0.5238\n",
      "Epoch 100/100\n",
      "11/11 [==============================] - 0s 10ms/step - loss: 0.1553 - accuracy: 0.9883 - val_loss: 6.7487 - val_accuracy: 0.5476\n",
      "11/11 [==============================] - 0s 3ms/step - loss: 0.0732 - accuracy: 0.9942\n",
      "2/2 [==============================] - 0s 3ms/step - loss: 6.7487 - accuracy: 0.5476\n",
      "2/2 [==============================] - 0s 68ms/step - loss: 12.1396 - accuracy: 0.1628\n"
     ]
    },
    {
     "data": {
      "image/png": "[encoded data removed]",
      "text/plain": [
       "<Figure size 432x288 with 1 Axes>"
      ]
     },
     "metadata": {
      "needs_background": "light"
     },
     "output_type": "display_data"
    }
   ],
   "source": [
    "modelSecond = Sequential(\n",
    "    [\n",
    "        Input(shape=(100,100,3)),\n",
    "        Conv2D(32, kernel_size=(3, 3), activation=\"relu\"),\n",
    "        MaxPooling2D(pool_size=(2, 2)),\n",
    "        Conv2D(64, kernel_size=(3, 3), activation=\"relu\"),\n",
    "        MaxPooling2D(pool_size=(2, 2)),\n",
    "        Flatten(),\n",
    "        Dropout(0.2),\n",
    "        Dense(NUM_CLASS, activation=\"softmax\"),\n",
    "    ]\n",
    ")\n",
    "\n",
    "modelSecond.summary()\n",
    "modelSecond.compile(loss='categorical_crossentropy', \n",
    "              optimizer='adam', \n",
    "              metrics=['accuracy'])\n",
    "              \n",
    "histSecond = modelSecond.fit(\n",
    "    trainX, trainY, \n",
    "    epochs=100, batch_size=32,\n",
    "    # verbose=0,\n",
    "    validation_data=(testX, testY)\n",
    "    )\n",
    "modelSecond.evaluate(trainX, trainY)\n",
    "modelSecond.evaluate(testX, testY)\n",
    "modelSecond.evaluate(valX, valY)\n",
    "plt.plot(histSecond.history['accuracy'])\n",
    "plt.plot(histSecond.history['val_accuracy'])\n",
    "plt.title('model accuracy')\n",
    "plt.ylabel('accuracy')\n",
    "plt.xlabel('epoch')\n",
    "plt.legend(['train', 'val'], loc='upper left')\n",
    "plt.show()"
   ]
  },
  {
   "cell_type": "code",
   "execution_count": 14,
   "metadata": {},
   "outputs": [
    {
     "name": "stdout",
     "output_type": "stream",
     "text": [
      "11/11 [==============================] - 0s 7ms/step - loss: 0.0732 - accuracy: 0.9942\n",
      "2/2 [==============================] - 0s 3ms/step - loss: 6.7487 - accuracy: 0.5476\n",
      "2/2 [==============================] - 0s 3ms/step - loss: 12.1396 - accuracy: 0.1628\n"
     ]
    },
    {
     "data": {
      "text/plain": [
       "[12.139616966247559, 0.1627907007932663]"
      ]
     },
     "execution_count": 14,
     "metadata": {},
     "output_type": "execute_result"
    }
   ],
   "source": [
    "modelSecond.evaluate(trainX, trainY)\n",
    "modelSecond.evaluate(testX, testY)\n",
    "modelSecond.evaluate(valX, valY)"
   ]
  },
  {
   "cell_type": "code",
   "execution_count": null,
   "metadata": {},
   "outputs": [],
   "source": []
  },
  {
   "cell_type": "code",
   "execution_count": 15,
   "metadata": {},
   "outputs": [],
   "source": [
    "# modelSecond = Sequential()\n",
    "# modelSecond.add(Conv2D(128, kernel_size=(5,5), \n",
    "#                  input_shape=(100,100,3), \n",
    "#                  padding='valid', \n",
    "#                  activation='relu'))\n",
    "# modelSecond.add(MaxPooling2D(\n",
    "#                 pool_size=(2,2))\n",
    "#                 )\n",
    "# # modelSecond.add(Dropout(0.15))\n",
    "# modelSecond.add(Conv2D(64, kernel_size=(3,3), \n",
    "#                  padding='valid', \n",
    "#                  activation='relu'))\n",
    "# modelSecond.add(MaxPooling2D(\n",
    "#                 pool_size=(2,2))\n",
    "#                 )\n",
    "# # modelSecond.add(Dropout(0.5))\n",
    "# modelSecond.add(Flatten())\n",
    "# modelSecond.add(Dense(32, activation='relu'))\n",
    "# # modelSecond.add(Dropout(0.15))\n",
    "# modelSecond.add(Dense(NUM_CLASS, activation='softmax'))\n",
    "# print(modelSecond.summary())\n",
    "\n",
    "\n",
    "\n"
   ]
  },
  {
   "cell_type": "code",
   "execution_count": 16,
   "metadata": {},
   "outputs": [
    {
     "name": "stdout",
     "output_type": "stream",
     "text": [
      "Model: \"sequential_1\"\n",
      "_________________________________________________________________\n",
      "Layer (type)                 Output Shape              Param #   \n",
      "=================================================================\n",
      "conv2d_2 (Conv2D)            (None, 98, 98, 32)        896       \n",
      "_________________________________________________________________\n",
      "conv2d_3 (Conv2D)            (None, 96, 96, 64)        18496     \n",
      "_________________________________________________________________\n",
      "max_pooling2d_2 (MaxPooling2 (None, 48, 48, 64)        0         \n",
      "_________________________________________________________________\n",
      "flatten_1 (Flatten)          (None, 147456)            0         \n",
      "_________________________________________________________________\n",
      "dense_1 (Dense)              (None, 128)               18874496  \n",
      "_________________________________________________________________\n",
      "dense_2 (Dense)              (None, 7)                 903       \n",
      "=================================================================\n",
      "Total params: 18,894,791\n",
      "Trainable params: 18,894,791\n",
      "Non-trainable params: 0\n",
      "_________________________________________________________________\n",
      "11/11 [==============================] - 0s 20ms/step - loss: 0.0235 - accuracy: 1.0000 0s - loss: 0.0238 - accuracy: 1.00\n",
      "2/2 [==============================] - 0s 10ms/step - loss: 8.5345 - accuracy: 0.6667\n",
      "2/2 [==============================] - 0s 313ms/step - loss: 33.7476 - accuracy: 0.1628\n"
     ]
    },
    {
     "data": {
      "image/png": "[encoded data removed]",
      "text/plain": [
       "<Figure size 432x288 with 1 Axes>"
      ]
     },
     "metadata": {
      "needs_background": "light"
     },
     "output_type": "display_data"
    }
   ],
   "source": [
    "##model building\n",
    "modelSecond = Sequential()\n",
    "#convolutional layer with rectified linear unit activation\n",
    "modelSecond.add(Conv2D(32, kernel_size=(3, 3),\n",
    "                 activation='relu',\n",
    "                 input_shape=(100,100,3)))\n",
    "#32 convolution filters used each of size 3x3\n",
    "#again\n",
    "modelSecond.add(Conv2D(64, (3, 3), activation='relu'))\n",
    "#64 convolution filters used each of size 3x3\n",
    "#choose the best features via pooling\n",
    "modelSecond.add(MaxPooling2D(pool_size=(2, 2)))\n",
    "#randomly turn neurons on and off to improve convergence\n",
    "# modelSecond.add(Dropout(0.25))\n",
    "#flatten since too many dimensions, we only want a classification output\n",
    "modelSecond.add(Flatten())\n",
    "#fully connected to get all relevant data\n",
    "modelSecond.add(Dense(128, activation='relu'))\n",
    "#one more dropout for convergence' sake :) \n",
    "# modelSecond.add(Dropout(0.5))\n",
    "#output a softmax to squash the matrix into output probabilities\n",
    "modelSecond.add(Dense(NUM_CLASS, activation='softmax'))\n",
    "\n",
    "modelSecond.summary()\n",
    "modelSecond.compile(loss='categorical_crossentropy', \n",
    "              optimizer='adam', \n",
    "              metrics=['accuracy'])\n",
    "              \n",
    "histSecond = modelSecond.fit(\n",
    "    trainX, trainY, \n",
    "    epochs=50, batch_size=32,\n",
    "    verbose=0,\n",
    "    validation_data=(testX, testY)\n",
    "    )\n",
    "modelSecond.evaluate(trainX, trainY)\n",
    "modelSecond.evaluate(testX, testY)\n",
    "modelSecond.evaluate(valX, valY)\n",
    "plt.plot(histSecond.history['accuracy'])\n",
    "plt.plot(histSecond.history['val_accuracy'])\n",
    "plt.title('model accuracy')\n",
    "plt.ylabel('accuracy')\n",
    "plt.xlabel('epoch')\n",
    "plt.legend(['train', 'val'], loc='upper left')\n",
    "plt.show()"
   ]
  },
  {
   "cell_type": "code",
   "execution_count": null,
   "metadata": {},
   "outputs": [],
   "source": []
  },
  {
   "cell_type": "code",
   "execution_count": 17,
   "metadata": {},
   "outputs": [
    {
     "name": "stdout",
     "output_type": "stream",
     "text": [
      "11/11 [==============================] - 0s 21ms/step - loss: 0.0235 - accuracy: 1.0000\n",
      "2/2 [==============================] - 0s 11ms/step - loss: 8.5345 - accuracy: 0.6667\n",
      "2/2 [==============================] - 0s 11ms/step - loss: 33.7476 - accuracy: 0.1628\n"
     ]
    },
    {
     "data": {
      "text/plain": [
       "[33.747642517089844, 0.1627907007932663]"
      ]
     },
     "execution_count": 17,
     "metadata": {},
     "output_type": "execute_result"
    }
   ],
   "source": [
    "modelSecond.evaluate(trainX, trainY)\n",
    "modelSecond.evaluate(testX, testY)\n",
    "modelSecond.evaluate(valX, valY)"
   ]
  },
  {
   "cell_type": "code",
   "execution_count": 18,
   "metadata": {},
   "outputs": [
    {
     "data": {
      "image/png": "[encoded data removed]",
      "text/plain": [
       "<Figure size 432x288 with 1 Axes>"
      ]
     },
     "metadata": {
      "needs_background": "light"
     },
     "output_type": "display_data"
    }
   ],
   "source": [
    "plt.plot(histSecond.history['accuracy'])\n",
    "plt.plot(histSecond.history['val_accuracy'])\n",
    "plt.title('model accuracy')\n",
    "plt.ylabel('accuracy')\n",
    "plt.xlabel('epoch')\n",
    "plt.legend(['train', 'val'], loc='upper left')\n",
    "plt.show()"
   ]
  },
  {
   "cell_type": "code",
   "execution_count": null,
   "metadata": {},
   "outputs": [],
   "source": []
  },
  {
   "cell_type": "code",
   "execution_count": null,
   "metadata": {},
   "outputs": [],
   "source": []
  }
 ],
 "metadata": {
  "interpreter": {
   "hash": "013cb43bc82c93deec78737468eebf90940d36d7ac13c74e2434686121b8a692"
  },
  "kernelspec": {
   "display_name": "Python 3.9.9 ('tf-gpu-2021')",
   "language": "python",
   "name": "python3"
  },
  "language_info": {
   "codemirror_mode": {
    "name": "ipython",
    "version": 3
   },
   "file_extension": ".py",
   "mimetype": "text/x-python",
   "name": "python",
   "nbconvert_exporter": "python",
   "pygments_lexer": "ipython3",
   "version": "3.9.9"
  },
  "orig_nbformat": 4
 },
 "nbformat": 4,
 "nbformat_minor": 2
}
