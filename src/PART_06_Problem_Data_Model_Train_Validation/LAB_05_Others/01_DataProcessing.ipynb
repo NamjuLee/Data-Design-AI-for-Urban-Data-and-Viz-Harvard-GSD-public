{
 "cells": [
  {
   "attachments": {},
   "cell_type": "markdown",
   "metadata": {},
   "source": [
    "# **Data in Design, AI for Urban Data and Visualization**\n",
    "\n",
    "#### Data, Design Computation, Artificial Intelligence, Visualization, Harvard GSD\n",
    "\n",
    "\n",
    "**KEYWORD:**\n",
    "Vector, Raster, Urban Data, GIS, Data Processing, Data Mining, Machine Learning, Artificial Intelligence, Visualization, Mapping, Design Decision-Making\n",
    "\n",
    "-----\n",
    "\n",
    "#### Instructor : NJ Namju Lee / nj.namju@gmail.com  \n",
    "###### * Linkedin - https://www.linkedin.com/in/nj-namju-lee-926b3252/    * Git - https://github.com/NamjuLee  \n",
    "\n",
    "###### * Web - http://www.njstudio.co.kr                                  * Lab - http://www.njslab.com/NJSLabCore/  \n",
    "\n",
    "###### * Video(English) - https://www.youtube.com/c/njnamjulee            * Writing(English) - https://medium.com/@nj-namju  \n",
    "\n",
    "###### * Video(Korean) - https://www.youtube.com/c/CodeforDesign          * Writing(Korean) - https://brunch.co.kr/@njnamju  \n",
    "-----"
   ]
  },
  {
   "attachments": {},
   "cell_type": "markdown",
   "metadata": {},
   "source": [
    "##  Exhibition: Politics of Space and its Shadows \n",
    "http://www.njstudio.co.kr/main/project/2017_PoliticsofSpaceAndItsShadows/2017_PoliticsofSpaceAndItsShadows.html\n",
    "\n",
    "<img src=\"./img/ML_Seoullo.gif\" alt=\"drawing\" width=\"1000\"/>\n",
    "\n",
    "<iframe width=\"1000\" height=\"600\" src=\"https://www.youtube.com/embed/KA4Cm91ZWM0\" title=\"Politics of Space and its Shadows\" frameborder=\"0\" allow=\"accelerometer; autoplay; clipboard-write; encrypted-media; gyroscope; picture-in-picture\" allowfullscreen></iframe>\n"
   ]
  },
  {
   "attachments": {},
   "cell_type": "markdown",
   "metadata": {},
   "source": [
    "## Smart Map Tracer\n",
    "\n",
    "<img src=\"./img/ML_SmartMapTracer.gif\" alt=\"drawing\" width=\"1000\"/>\n",
    "\n",
    "<iframe width=\"1000\" height=\"600\" src=\"https://www.youtube.com/embed/cUsiCNE6mJA\" title=\"Smart Map Tracer, ESRI Storymaps Hackathon\" frameborder=\"0\" allow=\"accelerometer; autoplay; clipboard-write; encrypted-media; gyroscope; picture-in-picture\" allowfullscreen></iframe>"
   ]
  },
  {
   "attachments": {},
   "cell_type": "markdown",
   "metadata": {},
   "source": [
    "## Map Semantic Segmentation\n",
    "\n",
    "<img src=\"./img/ML_MapSemantic.gif\" alt=\"drawing\" width=\"1000\"/>"
   ]
  },
  {
   "attachments": {},
   "cell_type": "markdown",
   "metadata": {},
   "source": [
    "<img src=\"./img/img_01.jpg\" alt=\"drawing\" width=\"1000\"/>"
   ]
  },
  {
   "attachments": {},
   "cell_type": "markdown",
   "metadata": {},
   "source": [
    "## Remixing and Resampling Three Dimensional Objects \n",
    "\n",
    "### Use of Volumetric Representations And Machine Learning in Design\n",
    "\n",
    "#### Design Workflows Integrating Machine Learning and Voxel Representations\n",
    "\n",
    "http://www.njstudio.co.kr/main/project/2017_thesisVoxelHarvardGSD/public/\n",
    "\n",
    "<img src=\"./img/ML_Voxel.gif\" alt=\"drawing\" width=\"1000\"/>\n",
    "\n",
    "<iframe width=\"1000\" height=\"550\" src=\"https://www.youtube.com/embed/dOPXHhzRbhs\" title=\"#HarvardGSD Thesis, Volumetric Representations and Machine Learning\" frameborder=\"0\" allow=\"accelerometer; autoplay; clipboard-write; encrypted-media; gyroscope; picture-in-picture\" allowfullscreen></iframe>"
   ]
  },
  {
   "attachments": {},
   "cell_type": "markdown",
   "metadata": {},
   "source": [
    "### LINKS:\n",
    "Kaggle - https://www.kaggle.com/\n",
    "\n",
    "Paper with code - https://paperswithcode.com/"
   ]
  },
  {
   "attachments": {},
   "cell_type": "markdown",
   "metadata": {},
   "source": [
    "----------"
   ]
  },
  {
   "attachments": {},
   "cell_type": "markdown",
   "metadata": {},
   "source": [
    "Tensroflow - https://www.tensorflow.org/ \n",
    "\n",
    "https://www.tensorflow.org/tutorials\n",
    "\n",
    "TensorflowJS - https://www.tensorflow.org/js\n",
    "\n",
    "https://www.tensorflow.org/js/tutorials\n",
    "\n",
    "https://www.tensorflow.org/js/models"
   ]
  },
  {
   "attachments": {},
   "cell_type": "markdown",
   "metadata": {},
   "source": [
    "-------------"
   ]
  },
  {
   "attachments": {},
   "cell_type": "markdown",
   "metadata": {},
   "source": [
    "Pytorch - https://pytorch.org/\n",
    "\n",
    "https://pytorch.org/tutorials/"
   ]
  }
 ],
 "metadata": {
  "interpreter": {
   "hash": "013cb43bc82c93deec78737468eebf90940d36d7ac13c74e2434686121b8a692"
  },
  "kernelspec": {
   "display_name": "Python 3.9.9 ('tf-gpu-2021')",
   "language": "python",
   "name": "python3"
  },
  "language_info": {
   "codemirror_mode": {
    "name": "ipython",
    "version": 3
   },
   "file_extension": ".py",
   "mimetype": "text/x-python",
   "name": "python",
   "nbconvert_exporter": "python",
   "pygments_lexer": "ipython3",
   "version": "3.9.9"
  },
  "orig_nbformat": 4
 },
 "nbformat": 4,
 "nbformat_minor": 2
}
