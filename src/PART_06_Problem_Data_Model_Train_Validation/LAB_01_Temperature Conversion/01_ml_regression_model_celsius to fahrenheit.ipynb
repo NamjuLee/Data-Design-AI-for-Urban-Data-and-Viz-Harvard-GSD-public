{
 "cells": [
  {
   "attachments": {},
   "cell_type": "markdown",
   "metadata": {},
   "source": [
    "# **Data in Design, AI for Urban Data and Visualization**\n",
    "\n",
    "#### Data, Design Computation, Artificial Intelligence, Visualization, Harvard GSD\n",
    "\n",
    "\n",
    "**KEYWORD:**\n",
    "Vector, Raster, Urban Data, GIS, Data Processing, Data Mining, Machine Learning, Artificial Intelligence, Visualization, Mapping, Design Decision-Making\n",
    "\n",
    "-----\n",
    "\n",
    "#### Instructor : NJ Namju Lee / nj.namju@gmail.com  \n",
    "###### * Linkedin - https://www.linkedin.com/in/nj-namju-lee-926b3252/    * Git - https://github.com/NamjuLee  \n",
    "\n",
    "###### * Web - http://www.njstudio.co.kr                                  * Lab - http://www.njslab.com/NJSLabCore/  \n",
    "\n",
    "###### * Video(English) - https://www.youtube.com/c/njnamjulee            * Writing(English) - https://medium.com/@nj-namju  \n",
    "\n",
    "###### * Video(Korean) - https://www.youtube.com/c/CodeforDesign          * Writing(Korean) - https://brunch.co.kr/@njnamju  \n",
    "-----"
   ]
  },
  {
   "attachments": {},
   "cell_type": "markdown",
   "metadata": {},
   "source": [
    "### AI / ML for designers\n",
    "\n",
    "# Model for converting from celsius to fahrenheit\n",
    "\n",
    "### Computational Design Class\n",
    "\n",
    "NJ Namju Lee / nj.namju@gmail.com"
   ]
  },
  {
   "cell_type": "code",
   "execution_count": 1,
   "metadata": {},
   "outputs": [],
   "source": [
    "# data\n",
    "celsius    = [-40, -10,  0,  8, 15, 22,  38]\n",
    "fahrenheit = [-40,  14, 32, 46, 59, 72, 100]"
   ]
  },
  {
   "cell_type": "code",
   "execution_count": 2,
   "metadata": {},
   "outputs": [
    {
     "data": {
      "text/plain": [
       "[<matplotlib.lines.Line2D at 0x1b5f233c070>]"
      ]
     },
     "execution_count": 2,
     "metadata": {},
     "output_type": "execute_result"
    },
    {
     "data": {
      "image/png": "[encoded data removed]",
      "text/plain": [
       "<Figure size 432x288 with 1 Axes>"
      ]
     },
     "metadata": {
      "needs_background": "light"
     },
     "output_type": "display_data"
    }
   ],
   "source": [
    "import matplotlib.pyplot as plt\n",
    "\n",
    "step = range(len(celsius))\n",
    "plt.plot(step, celsius, 'x', color='black')\n",
    "plt.plot(step, fahrenheit, 'o', color='red')"
   ]
  },
  {
   "cell_type": "code",
   "execution_count": 3,
   "metadata": {},
   "outputs": [],
   "source": [
    "# functions for conversion between celsius and fahrenheit\n",
    "def celsius2fahrenheit(c):\n",
    "    return 9.0/5.0 * c + 32\n",
    "\n",
    "def fahrenheit2celsius(f):\n",
    "    return (f-32) * 5.0/9.0"
   ]
  },
  {
   "cell_type": "code",
   "execution_count": 4,
   "metadata": {},
   "outputs": [
    {
     "name": "stdout",
     "output_type": "stream",
     "text": [
      "celsius: 38  to fahrenheit: 100.4\n",
      "fahrenheit: 32  to celsius: 0.0\n"
     ]
    }
   ],
   "source": [
    "sampleA = 38\n",
    "sampleB = 32\n",
    "\n",
    "print('celsius:', sampleA, ' to fahrenheit:', celsius2fahrenheit(sampleA))\n",
    "print('fahrenheit:', sampleB, ' to celsius:', fahrenheit2celsius(sampleB))\n"
   ]
  },
  {
   "cell_type": "code",
   "execution_count": 5,
   "metadata": {},
   "outputs": [],
   "source": [
    "celsiusX    = [[-40], [-10],  [0],  [8], [15], [22],  [38]]\n",
    "fahrenheitY = fahrenheit[::] # [ -40,    14,   32,   46,   59,   72,   100]"
   ]
  },
  {
   "cell_type": "code",
   "execution_count": 6,
   "metadata": {},
   "outputs": [
    {
     "name": "stdout",
     "output_type": "stream",
     "text": [
      "[1.79794911]\n",
      "31.952525636156476\n"
     ]
    }
   ],
   "source": [
    "from sklearn.linear_model import LinearRegression \n",
    "\n",
    "lrModel =  LinearRegression()\n",
    "lrModel.fit(celsiusX, fahrenheitY)\n",
    "print(lrModel.coef_)\n",
    "print(lrModel.intercept_)"
   ]
  },
  {
   "cell_type": "code",
   "execution_count": 7,
   "metadata": {},
   "outputs": [
    {
     "name": "stdout",
     "output_type": "stream",
     "text": [
      "predictions:  [-39.96543866  13.97303456  31.95252564  46.3361185   58.92176225\n",
      "  71.507406   100.27459172]\n",
      "0.9999637049281158\n"
     ]
    }
   ],
   "source": [
    "from sklearn.metrics import r2_score\n",
    "\n",
    "fahrenheitPred = lrModel.predict(celsiusX)\n",
    "print('predictions: ', fahrenheitPred)\n",
    "print(r2_score(fahrenheitPred, fahrenheitY))"
   ]
  },
  {
   "cell_type": "markdown",
   "metadata": {},
   "source": [
    "LinearRegression: ax + b"
   ]
  },
  {
   "cell_type": "code",
   "execution_count": 8,
   "metadata": {},
   "outputs": [
    {
     "name": "stdout",
     "output_type": "stream",
     "text": [
      "coefficient [1.79794911]\n",
      "intercept 31.952525636156476\n"
     ]
    }
   ],
   "source": [
    "a = lrModel.coef_\n",
    "b = lrModel.intercept_\n",
    "print(\"coefficient\", a)\n",
    "print(\"intercept\", b)"
   ]
  },
  {
   "cell_type": "code",
   "execution_count": 9,
   "metadata": {},
   "outputs": [
    {
     "name": "stdout",
     "output_type": "stream",
     "text": [
      "celsius: 10  to fahrenheit: [49.93201671]\n"
     ]
    }
   ],
   "source": [
    "x = 10\n",
    "result = a * x + b\n",
    "print('celsius:', x, ' to fahrenheit:', result)"
   ]
  },
  {
   "cell_type": "code",
   "execution_count": 10,
   "metadata": {},
   "outputs": [
    {
     "name": "stdout",
     "output_type": "stream",
     "text": [
      "celsius: 10  to fahrenheit: [49.93201671]\n"
     ]
    }
   ],
   "source": [
    "resultFromModel = lrModel.predict([[x]])\n",
    "print('celsius:', x, ' to fahrenheit:', resultFromModel)"
   ]
  },
  {
   "cell_type": "code",
   "execution_count": 11,
   "metadata": {},
   "outputs": [
    {
     "data": {
      "text/plain": [
       "-40"
      ]
     },
     "execution_count": 11,
     "metadata": {},
     "output_type": "execute_result"
    }
   ],
   "source": [
    "minV = -40\n",
    "maxV = 40\n",
    "celsiusList = range(minV, maxV)\n",
    "indexList = range(len(celsiusList))\n",
    "celsiusList[0]"
   ]
  },
  {
   "cell_type": "code",
   "execution_count": 12,
   "metadata": {},
   "outputs": [
    {
     "data": {
      "image/png": "[encoded data removed]",
      "text/plain": [
       "<Figure size 432x288 with 1 Axes>"
      ]
     },
     "metadata": {
      "needs_background": "light"
     },
     "output_type": "display_data"
    }
   ],
   "source": [
    "plt.plot(indexList, celsiusList, 'o', color='black');"
   ]
  },
  {
   "cell_type": "code",
   "execution_count": 13,
   "metadata": {},
   "outputs": [
    {
     "data": {
      "text/plain": [
       "-40.0"
      ]
     },
     "execution_count": 13,
     "metadata": {},
     "output_type": "execute_result"
    }
   ],
   "source": [
    "fahrenheitList = [ celsius2fahrenheit(i) for i in celsiusList]\n",
    "fahrenheitList[0]"
   ]
  },
  {
   "cell_type": "code",
   "execution_count": 14,
   "metadata": {},
   "outputs": [
    {
     "data": {
      "image/png": "[encoded data removed]",
      "text/plain": [
       "<Figure size 432x288 with 1 Axes>"
      ]
     },
     "metadata": {
      "needs_background": "light"
     },
     "output_type": "display_data"
    }
   ],
   "source": [
    "plt.plot(indexList, fahrenheitList, 'o', color='red');\n",
    "plt.plot(indexList, celsiusList, 'o', color='black');"
   ]
  },
  {
   "cell_type": "code",
   "execution_count": 15,
   "metadata": {},
   "outputs": [],
   "source": [
    "x = [ [i] for i in celsiusList ]\n",
    "y = fahrenheitList[:]"
   ]
  },
  {
   "cell_type": "code",
   "execution_count": 16,
   "metadata": {},
   "outputs": [
    {
     "data": {
      "text/plain": [
       "LinearRegression()"
      ]
     },
     "execution_count": 16,
     "metadata": {},
     "output_type": "execute_result"
    }
   ],
   "source": [
    "\n",
    "from sklearn.linear_model import LinearRegression \n",
    "lrModelSecond =  LinearRegression()\n",
    "lrModelSecond.fit(x, y)"
   ]
  },
  {
   "cell_type": "code",
   "execution_count": 17,
   "metadata": {},
   "outputs": [
    {
     "name": "stdout",
     "output_type": "stream",
     "text": [
      "coefficient [1.8]\n",
      "intercept 32.0\n"
     ]
    }
   ],
   "source": [
    "a = lrModelSecond.coef_\n",
    "b = lrModelSecond.intercept_\n",
    "print(\"coefficient\", a)\n",
    "print(\"intercept\", b)"
   ]
  },
  {
   "cell_type": "code",
   "execution_count": 18,
   "metadata": {},
   "outputs": [
    {
     "data": {
      "text/plain": [
       "array([-40. , -38.2, -36.4, -34.6, -32.8, -31. , -29.2, -27.4, -25.6,\n",
       "       -23.8, -22. , -20.2, -18.4, -16.6, -14.8, -13. , -11.2,  -9.4,\n",
       "        -7.6,  -5.8,  -4. ,  -2.2,  -0.4,   1.4,   3.2,   5. ,   6.8,\n",
       "         8.6,  10.4,  12.2,  14. ,  15.8,  17.6,  19.4,  21.2,  23. ,\n",
       "        24.8,  26.6,  28.4,  30.2,  32. ,  33.8,  35.6,  37.4,  39.2,\n",
       "        41. ,  42.8,  44.6,  46.4,  48.2,  50. ,  51.8,  53.6,  55.4,\n",
       "        57.2,  59. ,  60.8,  62.6,  64.4,  66.2,  68. ,  69.8,  71.6,\n",
       "        73.4,  75.2,  77. ,  78.8,  80.6,  82.4,  84.2,  86. ,  87.8,\n",
       "        89.6,  91.4,  93.2,  95. ,  96.8,  98.6, 100.4, 102.2])"
      ]
     },
     "execution_count": 18,
     "metadata": {},
     "output_type": "execute_result"
    }
   ],
   "source": [
    "predFahrenheit = lrModelSecond.predict(x)\n",
    "predFahrenheit"
   ]
  },
  {
   "cell_type": "code",
   "execution_count": 19,
   "metadata": {},
   "outputs": [
    {
     "name": "stdout",
     "output_type": "stream",
     "text": [
      "R²: 1.0\n"
     ]
    }
   ],
   "source": [
    "from sklearn.metrics import r2_score\n",
    "print('R²:', r2_score(y, predFahrenheit))"
   ]
  },
  {
   "cell_type": "code",
   "execution_count": 20,
   "metadata": {},
   "outputs": [],
   "source": [
    "import numpy as np  \n",
    "import pandas as pd \n",
    "import tensorflow as tf\n",
    "\n",
    "import keras\n",
    "from keras.models import Sequential\n",
    "from keras.layers import Dense"
   ]
  },
  {
   "cell_type": "code",
   "execution_count": 21,
   "metadata": {},
   "outputs": [],
   "source": [
    "celsius    = [-40, -10,  0,  8, 15, 22,  38]\n",
    "fahrenheit = [-40,  14, 32, 46, 59, 72, 100]"
   ]
  },
  {
   "cell_type": "code",
   "execution_count": 22,
   "metadata": {},
   "outputs": [],
   "source": [
    "X = np.array(celsius , dtype = float)\n",
    "Y = np.array(fahrenheit, dtype = float)"
   ]
  },
  {
   "cell_type": "code",
   "execution_count": 23,
   "metadata": {},
   "outputs": [],
   "source": [
    "model =Sequential([\n",
    "  Dense(units=1, input_shape=[1])\n",
    "])\n",
    "\n",
    "model.compile(\n",
    "  loss = tf.keras.losses.mean_squared_error, # for Regression losses # https://keras.io/api/losses/regression_losses/\n",
    "  optimizer=tf.keras.optimizers.Adam(0.1), \n",
    "  metrics=['mean_squared_error']\n",
    "  )"
   ]
  },
  {
   "cell_type": "code",
   "execution_count": 24,
   "metadata": {},
   "outputs": [],
   "source": [
    "history = model.fit(X, Y, epochs = 500, verbose=0)"
   ]
  },
  {
   "cell_type": "code",
   "execution_count": 25,
   "metadata": {},
   "outputs": [
    {
     "data": {
      "text/plain": [
       "dict_keys(['loss', 'mean_squared_error'])"
      ]
     },
     "execution_count": 25,
     "metadata": {},
     "output_type": "execute_result"
    }
   ],
   "source": [
    "history.history.keys()"
   ]
  },
  {
   "cell_type": "code",
   "execution_count": 26,
   "metadata": {},
   "outputs": [
    {
     "data": {
      "image/png": "[encoded data removed]",
      "text/plain": [
       "<Figure size 432x288 with 1 Axes>"
      ]
     },
     "metadata": {
      "needs_background": "light"
     },
     "output_type": "display_data"
    }
   ],
   "source": [
    "plt.title(\"loss\")\n",
    "plt.xlabel('Epoch Number')\n",
    "plt.ylabel(\"Loss\")\n",
    "plt.plot(history.history['loss'])\n",
    "plt.show()"
   ]
  },
  {
   "cell_type": "code",
   "execution_count": 27,
   "metadata": {},
   "outputs": [
    {
     "data": {
      "image/png": "[encoded data removed]",
      "text/plain": [
       "<Figure size 432x288 with 1 Axes>"
      ]
     },
     "metadata": {
      "needs_background": "light"
     },
     "output_type": "display_data"
    }
   ],
   "source": [
    "plt.title(\"mean_squared_error\")\n",
    "plt.xlabel(\"Epoch number\")\n",
    "plt.ylabel(\"mean_squared_error\")\n",
    "plt.plot(history.history['mean_squared_error']);"
   ]
  },
  {
   "cell_type": "code",
   "execution_count": 28,
   "metadata": {},
   "outputs": [
    {
     "name": "stdout",
     "output_type": "stream",
     "text": [
      "[[98.458145]]\n",
      "[[211.33725]]\n",
      "[[-43.55105]]\n"
     ]
    }
   ],
   "source": [
    "print(model.predict([38]))\n",
    "print(model.predict([100]))\n",
    "print(model.predict([-40]))"
   ]
  },
  {
   "cell_type": "code",
   "execution_count": 29,
   "metadata": {},
   "outputs": [
    {
     "name": "stdout",
     "output_type": "stream",
     "text": [
      "ground truth: [-40, 14, 32, 46, 59, 72, 100]\n",
      "prediction:  [[-43.55105 ]\n",
      " [ 11.067873]\n",
      " [ 29.27418 ]\n",
      " [ 43.839226]\n",
      " [ 56.58364 ]\n",
      " [ 69.32806 ]\n",
      " [ 98.458145]]\n"
     ]
    }
   ],
   "source": [
    "print(\"ground truth:\", fahrenheit)\n",
    "print(\"prediction: \", model.predict(celsius))\n"
   ]
  },
  {
   "cell_type": "code",
   "execution_count": 30,
   "metadata": {},
   "outputs": [
    {
     "name": "stdout",
     "output_type": "stream",
     "text": [
      "Model: \"sequential_1\"\n",
      "_________________________________________________________________\n",
      "Layer (type)                 Output Shape              Param #   \n",
      "=================================================================\n",
      "dense_1 (Dense)              (None, 8)                 16        \n",
      "_________________________________________________________________\n",
      "dense_2 (Dense)              (None, 4)                 36        \n",
      "_________________________________________________________________\n",
      "dense_3 (Dense)              (None, 1)                 5         \n",
      "=================================================================\n",
      "Total params: 57\n",
      "Trainable params: 57\n",
      "Non-trainable params: 0\n",
      "_________________________________________________________________\n"
     ]
    }
   ],
   "source": [
    "l0 = tf.keras.layers.Dense(units=8, input_shape=[1])\n",
    "l1 = tf.keras.layers.Dense(units=4)\n",
    "l2 = tf.keras.layers.Dense(units=1)\n",
    "\n",
    "modelSceond = tf.keras.Sequential([l0, l1, l2])\n",
    "modelSceond.compile(\n",
    "    loss='mean_squared_error', \n",
    "    optimizer=tf.keras.optimizers.Adam(0.1), \n",
    "    metrics=['mean_squared_error']\n",
    "    )\n",
    "modelSceond.summary()"
   ]
  },
  {
   "cell_type": "code",
   "execution_count": 31,
   "metadata": {},
   "outputs": [
    {
     "name": "stdout",
     "output_type": "stream",
     "text": [
      "Finished training the model\n",
      "[[211.96227]]\n"
     ]
    },
    {
     "data": {
      "text/plain": [
       "[<matplotlib.lines.Line2D at 0x1b5a6a4f160>]"
      ]
     },
     "execution_count": 31,
     "metadata": {},
     "output_type": "execute_result"
    },
    {
     "data": {
      "image/png": "[encoded data removed]",
      "text/plain": [
       "<Figure size 432x288 with 1 Axes>"
      ]
     },
     "metadata": {
      "needs_background": "light"
     },
     "output_type": "display_data"
    }
   ],
   "source": [
    "historySecond = modelSceond.fit(X,Y, epochs=100, verbose=False)\n",
    "print(\"Finished training the model\")\n",
    "\n",
    "print(modelSceond.predict([100.0]))\n",
    "\n",
    "plt.xlabel('Epoch Number')\n",
    "plt.ylabel(\"Loss Magnitude\")\n",
    "plt.plot(historySecond.history['loss'])"
   ]
  },
  {
   "cell_type": "code",
   "execution_count": 32,
   "metadata": {},
   "outputs": [
    {
     "name": "stdout",
     "output_type": "stream",
     "text": [
      "ground truth: [-40, 14, 32, 46, 59, 72, 100]\n",
      "prediction by Big model:  [[-39.763638]\n",
      " [ 14.177629]\n",
      " [ 32.158054]\n",
      " [ 46.54239 ]\n",
      " [ 59.128685]\n",
      " [ 71.71498 ]\n",
      " [100.48366 ]]\n",
      "prediction:  [[-43.55105 ]\n",
      " [ 11.067873]\n",
      " [ 29.27418 ]\n",
      " [ 43.839226]\n",
      " [ 56.58364 ]\n",
      " [ 69.32806 ]\n",
      " [ 98.458145]]\n"
     ]
    }
   ],
   "source": [
    "print(\"ground truth:\", fahrenheit)\n",
    "print(\"prediction by Big model: \", modelSceond.predict(celsius))\n",
    "print(\"prediction: \", model.predict(celsius))"
   ]
  },
  {
   "cell_type": "code",
   "execution_count": 33,
   "metadata": {},
   "outputs": [
    {
     "data": {
      "image/png": "[encoded data removed]",
      "text/plain": [
       "<Figure size 432x288 with 1 Axes>"
      ]
     },
     "metadata": {
      "needs_background": "light"
     },
     "output_type": "display_data"
    }
   ],
   "source": [
    "plt.plot(history.history['mean_squared_error']) #mean_squared_error loss\n",
    "plt.plot(historySecond.history['mean_squared_error'])\n",
    "plt.title('model accuracy')\n",
    "plt.ylabel('accuracy')\n",
    "plt.xlabel('epoch')\n",
    "plt.legend(['Model 1', 'Model 2'], loc='upper left')\n",
    "plt.show()"
   ]
  },
  {
   "cell_type": "code",
   "execution_count": 34,
   "metadata": {},
   "outputs": [
    {
     "data": {
      "image/png": "[encoded data removed]",
      "text/plain": [
       "<Figure size 720x720 with 1 Axes>"
      ]
     },
     "metadata": {
      "needs_background": "light"
     },
     "output_type": "display_data"
    }
   ],
   "source": [
    "valueA = model.predict(celsius).flatten()\n",
    "valueB = modelSceond.predict(celsius).flatten()\n",
    "\n",
    "indexList = []\n",
    "for i in range(len(valueA)):\n",
    "    indexList.append(i)\n",
    "\n",
    "plt.figure(figsize=(10, 10))\n",
    "plt.plot(indexList, valueA, 'x', color='red', markersize=2);\n",
    "plt.plot(indexList, valueB, '^', color='blue', markersize=2);\n",
    "plt.plot(indexList, fahrenheit, '-', color='black', markersize=1);"
   ]
  },
  {
   "cell_type": "code",
   "execution_count": 35,
   "metadata": {},
   "outputs": [
    {
     "name": "stdout",
     "output_type": "stream",
     "text": [
      "-43.55105 difference:  3.5510482788085938\n",
      "11.067873 difference:  2.932126998901367\n",
      "29.27418 difference:  2.725820541381836\n",
      "43.839226 difference:  2.1607742309570312\n",
      "56.58364 difference:  2.4163589477539062\n",
      "69.32806 difference:  2.6719436645507812\n",
      "98.458145 difference:  1.5418548583984375\n"
     ]
    }
   ],
   "source": [
    "for i in range(len(fahrenheit)):\n",
    "    print( valueA[i], \"difference: \",fahrenheit[i] - valueA[i])"
   ]
  },
  {
   "cell_type": "code",
   "execution_count": 36,
   "metadata": {},
   "outputs": [
    {
     "name": "stdout",
     "output_type": "stream",
     "text": [
      "-39.763638 difference:  -0.23636245727539062\n",
      "14.177629 difference:  -0.1776294708251953\n",
      "32.158054 difference:  -0.15805435180664062\n",
      "46.54239 difference:  -0.542388916015625\n",
      "59.128685 difference:  -0.12868499755859375\n",
      "71.71498 difference:  0.2850189208984375\n",
      "100.48366 difference:  -0.4836578369140625\n"
     ]
    }
   ],
   "source": [
    "for i in range(len(fahrenheit)):\n",
    "    print( valueB[i], \"difference: \",fahrenheit[i] - valueB[i])"
   ]
  },
  {
   "cell_type": "code",
   "execution_count": 37,
   "metadata": {},
   "outputs": [
    {
     "name": "stdout",
     "output_type": "stream",
     "text": [
      "6.951677918913317\n",
      "0.10547241021881096\n"
     ]
    }
   ],
   "source": [
    "from sklearn.metrics import mean_squared_error # https://en.wikipedia.org/wiki/Mean_squared_error\n",
    "yTrue = fahrenheit\n",
    "yPredA = valueA\n",
    "yPredB = valueB\n",
    "print(mean_squared_error(yTrue, yPredA))\n",
    "print(mean_squared_error(yTrue, yPredB))"
   ]
  },
  {
   "cell_type": "code",
   "execution_count": 38,
   "metadata": {},
   "outputs": [
    {
     "name": "stdout",
     "output_type": "stream",
     "text": [
      "0.9959981176951203\n",
      "0.9999392825477488\n"
     ]
    }
   ],
   "source": [
    "from sklearn.metrics import r2_score # https://www.investopedia.com/terms/r/r-squared.asp\n",
    "yTrue = fahrenheit\n",
    "yPredA = valueA\n",
    "yPredB = valueB\n",
    "print(r2_score(yTrue, yPredA))\n",
    "print(r2_score(yTrue, yPredB))"
   ]
  }
 ],
 "metadata": {
  "kernelspec": {
   "display_name": "Python 3.9.12 ('tf-gpu-2022')",
   "language": "python",
   "name": "python3"
  },
  "language_info": {
   "codemirror_mode": {
    "name": "ipython",
    "version": 3
   },
   "file_extension": ".py",
   "mimetype": "text/x-python",
   "name": "python",
   "nbconvert_exporter": "python",
   "pygments_lexer": "ipython3",
   "version": "3.9.12 (main, Apr  4 2022, 05:22:27) [MSC v.1916 64 bit (AMD64)]"
  },
  "orig_nbformat": 4,
  "vscode": {
   "interpreter": {
    "hash": "72bc0f943a863b7fcc9ff0d11405a78faecbd3bfafd8f122065908abfcb424a6"
   }
  }
 },
 "nbformat": 4,
 "nbformat_minor": 2
}
