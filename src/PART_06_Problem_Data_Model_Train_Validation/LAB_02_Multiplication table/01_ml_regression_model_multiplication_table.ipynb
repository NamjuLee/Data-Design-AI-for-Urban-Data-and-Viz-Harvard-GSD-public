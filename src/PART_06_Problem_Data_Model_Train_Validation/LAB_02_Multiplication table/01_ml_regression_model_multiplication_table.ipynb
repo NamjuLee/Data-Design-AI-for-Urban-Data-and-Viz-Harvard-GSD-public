{
 "cells": [
  {
   "cell_type": "markdown",
   "metadata": {},
   "source": [
    "### AI / ML for designers\n",
    "\n",
    "# Model for converting from celsius to fahrenheit\n",
    "\n",
    "### Computational Design class\n",
    "\n",
    "#### nj.namju@gmail.com"
   ]
  },
  {
   "cell_type": "code",
   "execution_count": null,
   "metadata": {},
   "outputs": [],
   "source": []
  },
  {
   "cell_type": "code",
   "execution_count": 1,
   "metadata": {},
   "outputs": [
    {
     "name": "stdout",
     "output_type": "stream",
     "text": [
      "[[3, 1], [3, 2], [3, 3], [3, 4], [3, 5], [3, 6], [3, 7], [3, 8], [3, 9]]\n",
      "[3, 6, 9, 12, 15, 18, 21, 24, 27]\n"
     ]
    }
   ],
   "source": [
    "tableNumber = 3\n",
    "X = []\n",
    "y = []\n",
    "\n",
    "for i in range(1, 10):\n",
    "    X.append([tableNumber, i])\n",
    "    y.append(tableNumber * i)\n",
    "\n",
    "print(X)\n",
    "print(y)"
   ]
  },
  {
   "cell_type": "code",
   "execution_count": 2,
   "metadata": {},
   "outputs": [],
   "source": [
    "\n",
    "# linear model"
   ]
  },
  {
   "cell_type": "code",
   "execution_count": 3,
   "metadata": {},
   "outputs": [
    {
     "name": "stdout",
     "output_type": "stream",
     "text": [
      "[0. 3.]\n",
      "-8.881784197001252e-15\n"
     ]
    }
   ],
   "source": [
    "from sklearn.linear_model import LinearRegression \n",
    "lrModel =  LinearRegression()\n",
    "lrModel.fit(X, y)\n",
    "print(lrModel.coef_)\n",
    "print(lrModel.intercept_)"
   ]
  },
  {
   "cell_type": "code",
   "execution_count": 4,
   "metadata": {},
   "outputs": [
    {
     "name": "stdout",
     "output_type": "stream",
     "text": [
      "[12.]\n",
      "[15.]\n",
      "[13.5]\n",
      "[36.]\n"
     ]
    }
   ],
   "source": [
    "print(lrModel.predict([[3,4]]))\n",
    "print(lrModel.predict([[3,5]]))\n",
    "\n",
    "print(lrModel.predict([[3, 4.5]]))\n",
    "print(lrModel.predict([[3, 12]]))"
   ]
  },
  {
   "cell_type": "code",
   "execution_count": 5,
   "metadata": {},
   "outputs": [
    {
     "name": "stdout",
     "output_type": "stream",
     "text": [
      "predictions:  [ 3.  6.  9. 12. 15. 18. 21. 24. 27.]\n",
      "1.0\n"
     ]
    }
   ],
   "source": [
    "pred = lrModel.predict(X)\n",
    "print('predictions: ', pred)\n",
    "from sklearn.metrics import r2_score\n",
    "print(r2_score(pred, y))"
   ]
  },
  {
   "cell_type": "code",
   "execution_count": null,
   "metadata": {},
   "outputs": [],
   "source": []
  },
  {
   "cell_type": "code",
   "execution_count": 6,
   "metadata": {},
   "outputs": [],
   "source": [
    "import tensorflow as tf\n",
    "from tensorflow.keras.models import Sequential\n",
    "from tensorflow.keras.layers import Dense"
   ]
  },
  {
   "cell_type": "code",
   "execution_count": null,
   "metadata": {},
   "outputs": [],
   "source": [
    "model = Sequential([\n",
    "  Dense(units=1, input_shape=[2])\n",
    "])\n",
    "model.compile(loss = tf.keras.losses.mean_squared_error, # for Regression losses # https://keras.io/api/losses/regression_losses/\n",
    "              optimizer=tf.keras.optimizers.Adam(0.1), metrics=['mean_squared_error'])"
   ]
  },
  {
   "cell_type": "code",
   "execution_count": null,
   "metadata": {},
   "outputs": [
    {
     "name": "stdout",
     "output_type": "stream",
     "text": [
      "Epoch 1/200\n",
      "1/1 [==============================] - 0s 6ms/step - loss: 5.8348 - mean_squared_error: 5.8348\n",
      "Epoch 2/200\n",
      "1/1 [==============================] - 0s 5ms/step - loss: 5.7403 - mean_squared_error: 5.7403\n",
      "Epoch 3/200\n",
      "1/1 [==============================] - 0s 5ms/step - loss: 5.6476 - mean_squared_error: 5.6476\n",
      "Epoch 4/200\n",
      "1/1 [==============================] - 0s 7ms/step - loss: 5.5568 - mean_squared_error: 5.5568\n",
      "Epoch 5/200\n",
      "1/1 [==============================] - 0s 6ms/step - loss: 5.4676 - mean_squared_error: 5.4676\n",
      "Epoch 6/200\n",
      "1/1 [==============================] - 0s 8ms/step - loss: 5.3800 - mean_squared_error: 5.3800\n",
      "Epoch 7/200\n",
      "1/1 [==============================] - 0s 9ms/step - loss: 5.2938 - mean_squared_error: 5.2938\n",
      "Epoch 8/200\n",
      "1/1 [==============================] - 0s 6ms/step - loss: 5.2089 - mean_squared_error: 5.2089\n",
      "Epoch 9/200\n",
      "1/1 [==============================] - 0s 6ms/step - loss: 5.1252 - mean_squared_error: 5.1252\n",
      "Epoch 10/200\n",
      "1/1 [==============================] - 0s 8ms/step - loss: 5.0425 - mean_squared_error: 5.0425\n",
      "Epoch 11/200\n",
      "1/1 [==============================] - 0s 8ms/step - loss: 4.9609 - mean_squared_error: 4.9609\n",
      "Epoch 12/200\n",
      "1/1 [==============================] - 0s 11ms/step - loss: 4.8802 - mean_squared_error: 4.8802\n",
      "Epoch 13/200\n",
      "1/1 [==============================] - 0s 8ms/step - loss: 4.8003 - mean_squared_error: 4.8003\n",
      "Epoch 14/200\n",
      "1/1 [==============================] - 0s 65ms/step - loss: 4.7212 - mean_squared_error: 4.7212\n",
      "Epoch 15/200\n",
      "1/1 [==============================] - 0s 24ms/step - loss: 4.6428 - mean_squared_error: 4.6428\n",
      "Epoch 16/200\n",
      "1/1 [==============================] - 0s 8ms/step - loss: 4.5653 - mean_squared_error: 4.5653\n",
      "Epoch 17/200\n",
      "1/1 [==============================] - 0s 8ms/step - loss: 4.4885 - mean_squared_error: 4.4885\n",
      "Epoch 18/200\n",
      "1/1 [==============================] - 0s 18ms/step - loss: 4.4124 - mean_squared_error: 4.4124\n",
      "Epoch 19/200\n",
      "1/1 [==============================] - 0s 7ms/step - loss: 4.3371 - mean_squared_error: 4.3371\n",
      "Epoch 20/200\n",
      "1/1 [==============================] - 0s 8ms/step - loss: 4.2626 - mean_squared_error: 4.2626\n",
      "Epoch 21/200\n",
      "1/1 [==============================] - 0s 9ms/step - loss: 4.1890 - mean_squared_error: 4.1890\n",
      "Epoch 22/200\n",
      "1/1 [==============================] - 0s 7ms/step - loss: 4.1161 - mean_squared_error: 4.1161\n",
      "Epoch 23/200\n",
      "1/1 [==============================] - 0s 5ms/step - loss: 4.0441 - mean_squared_error: 4.0441\n",
      "Epoch 24/200\n",
      "1/1 [==============================] - 0s 5ms/step - loss: 3.9730 - mean_squared_error: 3.9730\n",
      "Epoch 25/200\n",
      "1/1 [==============================] - 0s 4ms/step - loss: 3.9028 - mean_squared_error: 3.9028\n",
      "Epoch 26/200\n",
      "1/1 [==============================] - 0s 5ms/step - loss: 3.8335 - mean_squared_error: 3.8335\n",
      "Epoch 27/200\n",
      "1/1 [==============================] - 0s 9ms/step - loss: 3.7651 - mean_squared_error: 3.7651\n",
      "Epoch 28/200\n",
      "1/1 [==============================] - 0s 6ms/step - loss: 3.6977 - mean_squared_error: 3.6977\n",
      "Epoch 29/200\n",
      "1/1 [==============================] - 0s 6ms/step - loss: 3.6312 - mean_squared_error: 3.6312\n",
      "Epoch 30/200\n",
      "1/1 [==============================] - 0s 6ms/step - loss: 3.5656 - mean_squared_error: 3.5656\n",
      "Epoch 31/200\n",
      "1/1 [==============================] - 0s 11ms/step - loss: 3.5010 - mean_squared_error: 3.5010\n",
      "Epoch 32/200\n",
      "1/1 [==============================] - 0s 13ms/step - loss: 3.4373 - mean_squared_error: 3.4373\n",
      "Epoch 33/200\n",
      "1/1 [==============================] - 0s 5ms/step - loss: 3.3745 - mean_squared_error: 3.3745\n",
      "Epoch 34/200\n",
      "1/1 [==============================] - 0s 6ms/step - loss: 3.3126 - mean_squared_error: 3.3126\n",
      "Epoch 35/200\n",
      "1/1 [==============================] - 0s 6ms/step - loss: 3.2516 - mean_squared_error: 3.2516\n",
      "Epoch 36/200\n",
      "1/1 [==============================] - 0s 7ms/step - loss: 3.1915 - mean_squared_error: 3.1915\n",
      "Epoch 37/200\n",
      "1/1 [==============================] - 0s 7ms/step - loss: 3.1323 - mean_squared_error: 3.1323\n",
      "Epoch 38/200\n",
      "1/1 [==============================] - 0s 6ms/step - loss: 3.0739 - mean_squared_error: 3.0739\n",
      "Epoch 39/200\n",
      "1/1 [==============================] - 0s 7ms/step - loss: 3.0163 - mean_squared_error: 3.0163\n",
      "Epoch 40/200\n",
      "1/1 [==============================] - 0s 6ms/step - loss: 2.9596 - mean_squared_error: 2.9596\n",
      "Epoch 41/200\n",
      "1/1 [==============================] - 0s 7ms/step - loss: 2.9037 - mean_squared_error: 2.9037\n",
      "Epoch 42/200\n",
      "1/1 [==============================] - 0s 7ms/step - loss: 2.8487 - mean_squared_error: 2.8487\n",
      "Epoch 43/200\n",
      "1/1 [==============================] - 0s 8ms/step - loss: 2.7944 - mean_squared_error: 2.7944\n",
      "Epoch 44/200\n",
      "1/1 [==============================] - 0s 7ms/step - loss: 2.7409 - mean_squared_error: 2.7409\n",
      "Epoch 45/200\n",
      "1/1 [==============================] - 0s 6ms/step - loss: 2.6882 - mean_squared_error: 2.6882\n",
      "Epoch 46/200\n",
      "1/1 [==============================] - 0s 9ms/step - loss: 2.6363 - mean_squared_error: 2.6363\n",
      "Epoch 47/200\n",
      "1/1 [==============================] - 0s 9ms/step - loss: 2.5852 - mean_squared_error: 2.5852\n",
      "Epoch 48/200\n",
      "1/1 [==============================] - 0s 6ms/step - loss: 2.5349 - mean_squared_error: 2.5349\n",
      "Epoch 49/200\n",
      "1/1 [==============================] - 0s 5ms/step - loss: 2.4853 - mean_squared_error: 2.4853\n",
      "Epoch 50/200\n",
      "1/1 [==============================] - 0s 6ms/step - loss: 2.4365 - mean_squared_error: 2.4365\n",
      "Epoch 51/200\n",
      "1/1 [==============================] - 0s 5ms/step - loss: 2.3885 - mean_squared_error: 2.3885\n",
      "Epoch 52/200\n",
      "1/1 [==============================] - 0s 5ms/step - loss: 2.3412 - mean_squared_error: 2.3412\n",
      "Epoch 53/200\n",
      "1/1 [==============================] - 0s 4ms/step - loss: 2.2946 - mean_squared_error: 2.2946\n",
      "Epoch 54/200\n",
      "1/1 [==============================] - 0s 5ms/step - loss: 2.2488 - mean_squared_error: 2.2488\n",
      "Epoch 55/200\n",
      "1/1 [==============================] - 0s 5ms/step - loss: 2.2037 - mean_squared_error: 2.2037\n",
      "Epoch 56/200\n",
      "1/1 [==============================] - 0s 4ms/step - loss: 2.1594 - mean_squared_error: 2.1594\n",
      "Epoch 57/200\n",
      "1/1 [==============================] - 0s 7ms/step - loss: 2.1158 - mean_squared_error: 2.1158\n",
      "Epoch 58/200\n",
      "1/1 [==============================] - 0s 7ms/step - loss: 2.0729 - mean_squared_error: 2.0729\n",
      "Epoch 59/200\n",
      "1/1 [==============================] - 0s 8ms/step - loss: 2.0307 - mean_squared_error: 2.0307\n",
      "Epoch 60/200\n",
      "1/1 [==============================] - 0s 11ms/step - loss: 1.9892 - mean_squared_error: 1.9892\n",
      "Epoch 61/200\n",
      "1/1 [==============================] - 0s 8ms/step - loss: 1.9484 - mean_squared_error: 1.9484\n",
      "Epoch 62/200\n",
      "1/1 [==============================] - 0s 5ms/step - loss: 1.9083 - mean_squared_error: 1.9083\n",
      "Epoch 63/200\n",
      "1/1 [==============================] - 0s 5ms/step - loss: 1.8688 - mean_squared_error: 1.8688\n",
      "Epoch 64/200\n",
      "1/1 [==============================] - 0s 6ms/step - loss: 1.8301 - mean_squared_error: 1.8301\n",
      "Epoch 65/200\n",
      "1/1 [==============================] - 0s 7ms/step - loss: 1.7920 - mean_squared_error: 1.7920\n",
      "Epoch 66/200\n",
      "1/1 [==============================] - 0s 7ms/step - loss: 1.7545 - mean_squared_error: 1.7545\n",
      "Epoch 67/200\n",
      "1/1 [==============================] - 0s 7ms/step - loss: 1.7177 - mean_squared_error: 1.7177\n",
      "Epoch 68/200\n",
      "1/1 [==============================] - 0s 7ms/step - loss: 1.6815 - mean_squared_error: 1.6815\n",
      "Epoch 69/200\n",
      "1/1 [==============================] - 0s 6ms/step - loss: 1.6460 - mean_squared_error: 1.6460\n",
      "Epoch 70/200\n",
      "1/1 [==============================] - 0s 46ms/step - loss: 1.6111 - mean_squared_error: 1.6111\n",
      "Epoch 71/200\n",
      "1/1 [==============================] - 0s 28ms/step - loss: 1.5768 - mean_squared_error: 1.5768\n",
      "Epoch 72/200\n",
      "1/1 [==============================] - 0s 10ms/step - loss: 1.5431 - mean_squared_error: 1.5431\n",
      "Epoch 73/200\n",
      "1/1 [==============================] - 0s 19ms/step - loss: 1.5100 - mean_squared_error: 1.5100\n",
      "Epoch 74/200\n",
      "1/1 [==============================] - 0s 12ms/step - loss: 1.4775 - mean_squared_error: 1.4775\n",
      "Epoch 75/200\n",
      "1/1 [==============================] - 2s 2s/step - loss: 1.4455 - mean_squared_error: 1.4455\n",
      "Epoch 76/200\n",
      "1/1 [==============================] - 0s 4ms/step - loss: 1.4142 - mean_squared_error: 1.4142\n",
      "Epoch 77/200\n",
      "1/1 [==============================] - 0s 5ms/step - loss: 1.3834 - mean_squared_error: 1.3834\n",
      "Epoch 78/200\n",
      "1/1 [==============================] - 0s 4ms/step - loss: 1.3532 - mean_squared_error: 1.3532\n",
      "Epoch 79/200\n",
      "1/1 [==============================] - 0s 6ms/step - loss: 1.3235 - mean_squared_error: 1.3235\n",
      "Epoch 80/200\n",
      "1/1 [==============================] - 0s 5ms/step - loss: 1.2944 - mean_squared_error: 1.2944\n",
      "Epoch 81/200\n",
      "1/1 [==============================] - 0s 6ms/step - loss: 1.2659 - mean_squared_error: 1.2659\n",
      "Epoch 82/200\n",
      "1/1 [==============================] - 0s 6ms/step - loss: 1.2378 - mean_squared_error: 1.2378\n",
      "Epoch 83/200\n",
      "1/1 [==============================] - 0s 7ms/step - loss: 1.2103 - mean_squared_error: 1.2103\n",
      "Epoch 84/200\n",
      "1/1 [==============================] - 0s 5ms/step - loss: 1.1833 - mean_squared_error: 1.1833\n",
      "Epoch 85/200\n",
      "1/1 [==============================] - 0s 5ms/step - loss: 1.1569 - mean_squared_error: 1.1569\n",
      "Epoch 86/200\n",
      "1/1 [==============================] - 0s 7ms/step - loss: 1.1309 - mean_squared_error: 1.1309\n",
      "Epoch 87/200\n",
      "1/1 [==============================] - 0s 5ms/step - loss: 1.1054 - mean_squared_error: 1.1054\n",
      "Epoch 88/200\n",
      "1/1 [==============================] - 0s 7ms/step - loss: 1.0804 - mean_squared_error: 1.0804\n",
      "Epoch 89/200\n",
      "1/1 [==============================] - 0s 6ms/step - loss: 1.0559 - mean_squared_error: 1.0559\n",
      "Epoch 90/200\n",
      "1/1 [==============================] - 0s 6ms/step - loss: 1.0319 - mean_squared_error: 1.0319\n",
      "Epoch 91/200\n",
      "1/1 [==============================] - 0s 6ms/step - loss: 1.0083 - mean_squared_error: 1.0083\n",
      "Epoch 92/200\n",
      "1/1 [==============================] - 0s 5ms/step - loss: 0.9852 - mean_squared_error: 0.9852\n",
      "Epoch 93/200\n",
      "1/1 [==============================] - 0s 5ms/step - loss: 0.9626 - mean_squared_error: 0.9626\n",
      "Epoch 94/200\n",
      "1/1 [==============================] - 0s 9ms/step - loss: 0.9404 - mean_squared_error: 0.9404\n",
      "Epoch 95/200\n",
      "1/1 [==============================] - 0s 7ms/step - loss: 0.9186 - mean_squared_error: 0.9186\n",
      "Epoch 96/200\n",
      "1/1 [==============================] - 0s 7ms/step - loss: 0.8973 - mean_squared_error: 0.8973\n",
      "Epoch 97/200\n",
      "1/1 [==============================] - 0s 7ms/step - loss: 0.8764 - mean_squared_error: 0.8764\n",
      "Epoch 98/200\n",
      "1/1 [==============================] - 0s 5ms/step - loss: 0.8559 - mean_squared_error: 0.8559\n",
      "Epoch 99/200\n",
      "1/1 [==============================] - 0s 5ms/step - loss: 0.8359 - mean_squared_error: 0.8359\n",
      "Epoch 100/200\n",
      "1/1 [==============================] - 0s 8ms/step - loss: 0.8162 - mean_squared_error: 0.8162\n",
      "Epoch 101/200\n",
      "1/1 [==============================] - 0s 9ms/step - loss: 0.7969 - mean_squared_error: 0.7969\n",
      "Epoch 102/200\n",
      "1/1 [==============================] - 0s 7ms/step - loss: 0.7781 - mean_squared_error: 0.7781\n",
      "Epoch 103/200\n",
      "1/1 [==============================] - 0s 8ms/step - loss: 0.7596 - mean_squared_error: 0.7596\n",
      "Epoch 104/200\n",
      "1/1 [==============================] - 0s 5ms/step - loss: 0.7415 - mean_squared_error: 0.7415\n",
      "Epoch 105/200\n",
      "1/1 [==============================] - 0s 6ms/step - loss: 0.7238 - mean_squared_error: 0.7238\n",
      "Epoch 106/200\n",
      "1/1 [==============================] - 0s 9ms/step - loss: 0.7065 - mean_squared_error: 0.7065\n",
      "Epoch 107/200\n",
      "1/1 [==============================] - 0s 7ms/step - loss: 0.6895 - mean_squared_error: 0.6895\n",
      "Epoch 108/200\n",
      "1/1 [==============================] - 0s 6ms/step - loss: 0.6728 - mean_squared_error: 0.6728\n",
      "Epoch 109/200\n",
      "1/1 [==============================] - 0s 8ms/step - loss: 0.6566 - mean_squared_error: 0.6566\n",
      "Epoch 110/200\n",
      "1/1 [==============================] - 0s 6ms/step - loss: 0.6406 - mean_squared_error: 0.6406\n",
      "Epoch 111/200\n",
      "1/1 [==============================] - 0s 8ms/step - loss: 0.6250 - mean_squared_error: 0.6250\n",
      "Epoch 112/200\n",
      "1/1 [==============================] - 0s 8ms/step - loss: 0.6098 - mean_squared_error: 0.6098\n",
      "Epoch 113/200\n",
      "1/1 [==============================] - 0s 6ms/step - loss: 0.5949 - mean_squared_error: 0.5949\n",
      "Epoch 114/200\n",
      "1/1 [==============================] - 0s 8ms/step - loss: 0.5802 - mean_squared_error: 0.5802\n",
      "Epoch 115/200\n",
      "1/1 [==============================] - 0s 7ms/step - loss: 0.5659 - mean_squared_error: 0.5659\n",
      "Epoch 116/200\n",
      "1/1 [==============================] - 0s 9ms/step - loss: 0.5520 - mean_squared_error: 0.5520\n",
      "Epoch 117/200\n",
      "1/1 [==============================] - 0s 6ms/step - loss: 0.5383 - mean_squared_error: 0.5383\n",
      "Epoch 118/200\n",
      "1/1 [==============================] - 0s 8ms/step - loss: 0.5249 - mean_squared_error: 0.5249\n",
      "Epoch 119/200\n",
      "1/1 [==============================] - 0s 8ms/step - loss: 0.5118 - mean_squared_error: 0.5118\n",
      "Epoch 120/200\n",
      "1/1 [==============================] - 0s 9ms/step - loss: 0.4990 - mean_squared_error: 0.4990\n",
      "Epoch 121/200\n",
      "1/1 [==============================] - 0s 5ms/step - loss: 0.4865 - mean_squared_error: 0.4865\n",
      "Epoch 122/200\n",
      "1/1 [==============================] - 0s 5ms/step - loss: 0.4743 - mean_squared_error: 0.4743\n",
      "Epoch 123/200\n",
      "1/1 [==============================] - 0s 6ms/step - loss: 0.4623 - mean_squared_error: 0.4623\n",
      "Epoch 124/200\n",
      "1/1 [==============================] - 0s 77ms/step - loss: 0.4506 - mean_squared_error: 0.4506\n",
      "Epoch 125/200\n",
      "1/1 [==============================] - 0s 9ms/step - loss: 0.4392 - mean_squared_error: 0.4392\n",
      "Epoch 126/200\n",
      "1/1 [==============================] - 0s 9ms/step - loss: 0.4280 - mean_squared_error: 0.4280\n",
      "Epoch 127/200\n",
      "1/1 [==============================] - 0s 10ms/step - loss: 0.4170 - mean_squared_error: 0.4170\n",
      "Epoch 128/200\n",
      "1/1 [==============================] - 0s 8ms/step - loss: 0.4064 - mean_squared_error: 0.4064\n",
      "Epoch 129/200\n",
      "1/1 [==============================] - 0s 6ms/step - loss: 0.3959 - mean_squared_error: 0.3959\n",
      "Epoch 130/200\n",
      "1/1 [==============================] - 2s 2s/step - loss: 0.3857 - mean_squared_error: 0.3857\n",
      "Epoch 131/200\n",
      "1/1 [==============================] - 0s 4ms/step - loss: 0.3758 - mean_squared_error: 0.3758\n",
      "Epoch 132/200\n",
      "1/1 [==============================] - 0s 4ms/step - loss: 0.3661 - mean_squared_error: 0.3661\n",
      "Epoch 133/200\n",
      "1/1 [==============================] - 0s 6ms/step - loss: 0.3565 - mean_squared_error: 0.3565\n",
      "Epoch 134/200\n",
      "1/1 [==============================] - 0s 5ms/step - loss: 0.3473 - mean_squared_error: 0.3473\n",
      "Epoch 135/200\n",
      "1/1 [==============================] - 0s 5ms/step - loss: 0.3382 - mean_squared_error: 0.3382\n",
      "Epoch 136/200\n",
      "1/1 [==============================] - 0s 6ms/step - loss: 0.3293 - mean_squared_error: 0.3293\n",
      "Epoch 137/200\n",
      "1/1 [==============================] - 0s 5ms/step - loss: 0.3207 - mean_squared_error: 0.3207\n",
      "Epoch 138/200\n",
      "1/1 [==============================] - 0s 6ms/step - loss: 0.3122 - mean_squared_error: 0.3122\n",
      "Epoch 139/200\n",
      "1/1 [==============================] - 0s 6ms/step - loss: 0.3040 - mean_squared_error: 0.3040\n",
      "Epoch 140/200\n",
      "1/1 [==============================] - 0s 5ms/step - loss: 0.2959 - mean_squared_error: 0.2959\n",
      "Epoch 141/200\n",
      "1/1 [==============================] - 0s 5ms/step - loss: 0.2881 - mean_squared_error: 0.2881\n",
      "Epoch 142/200\n",
      "1/1 [==============================] - 0s 5ms/step - loss: 0.2804 - mean_squared_error: 0.2804\n",
      "Epoch 143/200\n",
      "1/1 [==============================] - 0s 5ms/step - loss: 0.2729 - mean_squared_error: 0.2729\n",
      "Epoch 144/200\n",
      "1/1 [==============================] - 0s 6ms/step - loss: 0.2656 - mean_squared_error: 0.2656\n",
      "Epoch 145/200\n",
      "1/1 [==============================] - 0s 5ms/step - loss: 0.2585 - mean_squared_error: 0.2585\n",
      "Epoch 146/200\n",
      "1/1 [==============================] - 0s 7ms/step - loss: 0.2515 - mean_squared_error: 0.2515\n",
      "Epoch 147/200\n",
      "1/1 [==============================] - 0s 5ms/step - loss: 0.2447 - mean_squared_error: 0.2447\n",
      "Epoch 148/200\n",
      "1/1 [==============================] - 0s 7ms/step - loss: 0.2381 - mean_squared_error: 0.2381\n",
      "Epoch 149/200\n",
      "1/1 [==============================] - 0s 8ms/step - loss: 0.2317 - mean_squared_error: 0.2317\n",
      "Epoch 150/200\n",
      "1/1 [==============================] - 0s 5ms/step - loss: 0.2253 - mean_squared_error: 0.2253\n",
      "Epoch 151/200\n",
      "1/1 [==============================] - 0s 6ms/step - loss: 0.2192 - mean_squared_error: 0.2192\n",
      "Epoch 152/200\n",
      "1/1 [==============================] - 0s 6ms/step - loss: 0.2132 - mean_squared_error: 0.2132\n",
      "Epoch 153/200\n",
      "1/1 [==============================] - 0s 6ms/step - loss: 0.2074 - mean_squared_error: 0.2074\n",
      "Epoch 154/200\n",
      "1/1 [==============================] - 0s 6ms/step - loss: 0.2016 - mean_squared_error: 0.2016\n",
      "Epoch 155/200\n",
      "1/1 [==============================] - 0s 5ms/step - loss: 0.1961 - mean_squared_error: 0.1961\n",
      "Epoch 156/200\n",
      "1/1 [==============================] - 0s 6ms/step - loss: 0.1907 - mean_squared_error: 0.1907\n",
      "Epoch 157/200\n",
      "1/1 [==============================] - 0s 4ms/step - loss: 0.1854 - mean_squared_error: 0.1854\n",
      "Epoch 158/200\n",
      "1/1 [==============================] - 0s 5ms/step - loss: 0.1802 - mean_squared_error: 0.1802\n",
      "Epoch 159/200\n",
      "1/1 [==============================] - 0s 6ms/step - loss: 0.1752 - mean_squared_error: 0.1752\n",
      "Epoch 160/200\n",
      "1/1 [==============================] - 0s 5ms/step - loss: 0.1703 - mean_squared_error: 0.1703\n",
      "Epoch 161/200\n",
      "1/1 [==============================] - 0s 9ms/step - loss: 0.1655 - mean_squared_error: 0.1655\n",
      "Epoch 162/200\n",
      "1/1 [==============================] - 2s 2s/step - loss: 0.1609 - mean_squared_error: 0.1609\n",
      "Epoch 163/200\n",
      "1/1 [==============================] - 0s 4ms/step - loss: 0.1564 - mean_squared_error: 0.1564\n",
      "Epoch 164/200\n",
      "1/1 [==============================] - 0s 5ms/step - loss: 0.1519 - mean_squared_error: 0.1519\n",
      "Epoch 165/200\n",
      "1/1 [==============================] - 0s 7ms/step - loss: 0.1476 - mean_squared_error: 0.1476\n",
      "Epoch 166/200\n",
      "1/1 [==============================] - 0s 4ms/step - loss: 0.1435 - mean_squared_error: 0.1435\n",
      "Epoch 167/200\n",
      "1/1 [==============================] - 0s 6ms/step - loss: 0.1394 - mean_squared_error: 0.1394\n",
      "Epoch 168/200\n",
      "1/1 [==============================] - 0s 5ms/step - loss: 0.1354 - mean_squared_error: 0.1354\n",
      "Epoch 169/200\n",
      "1/1 [==============================] - 0s 5ms/step - loss: 0.1315 - mean_squared_error: 0.1315\n",
      "Epoch 170/200\n",
      "1/1 [==============================] - 0s 6ms/step - loss: 0.1278 - mean_squared_error: 0.1278\n",
      "Epoch 171/200\n",
      "1/1 [==============================] - 0s 8ms/step - loss: 0.1241 - mean_squared_error: 0.1241\n",
      "Epoch 172/200\n",
      "1/1 [==============================] - 0s 8ms/step - loss: 0.1205 - mean_squared_error: 0.1205\n",
      "Epoch 173/200\n",
      "1/1 [==============================] - 0s 6ms/step - loss: 0.1170 - mean_squared_error: 0.1170\n",
      "Epoch 174/200\n",
      "1/1 [==============================] - 0s 6ms/step - loss: 0.1136 - mean_squared_error: 0.1136\n",
      "Epoch 175/200\n",
      "1/1 [==============================] - 0s 6ms/step - loss: 0.1103 - mean_squared_error: 0.1103\n",
      "Epoch 176/200\n",
      "1/1 [==============================] - 0s 5ms/step - loss: 0.1071 - mean_squared_error: 0.1071\n",
      "Epoch 177/200\n",
      "1/1 [==============================] - 0s 5ms/step - loss: 0.1040 - mean_squared_error: 0.1040\n",
      "Epoch 178/200\n",
      "1/1 [==============================] - 0s 5ms/step - loss: 0.1010 - mean_squared_error: 0.1010\n",
      "Epoch 179/200\n",
      "1/1 [==============================] - 0s 7ms/step - loss: 0.0980 - mean_squared_error: 0.0980\n",
      "Epoch 180/200\n",
      "1/1 [==============================] - 0s 6ms/step - loss: 0.0951 - mean_squared_error: 0.0951\n",
      "Epoch 181/200\n",
      "1/1 [==============================] - 0s 6ms/step - loss: 0.0923 - mean_squared_error: 0.0923\n",
      "Epoch 182/200\n",
      "1/1 [==============================] - 0s 4ms/step - loss: 0.0896 - mean_squared_error: 0.0896\n",
      "Epoch 183/200\n",
      "1/1 [==============================] - 0s 8ms/step - loss: 0.0869 - mean_squared_error: 0.0869\n",
      "Epoch 184/200\n",
      "1/1 [==============================] - 0s 6ms/step - loss: 0.0844 - mean_squared_error: 0.0844\n",
      "Epoch 185/200\n",
      "1/1 [==============================] - 0s 8ms/step - loss: 0.0819 - mean_squared_error: 0.0819\n",
      "Epoch 186/200\n",
      "1/1 [==============================] - 0s 6ms/step - loss: 0.0794 - mean_squared_error: 0.0794\n",
      "Epoch 187/200\n",
      "1/1 [==============================] - 0s 6ms/step - loss: 0.0770 - mean_squared_error: 0.0770\n",
      "Epoch 188/200\n",
      "1/1 [==============================] - 0s 6ms/step - loss: 0.0747 - mean_squared_error: 0.0747\n",
      "Epoch 189/200\n",
      "1/1 [==============================] - 0s 7ms/step - loss: 0.0725 - mean_squared_error: 0.0725\n",
      "Epoch 190/200\n",
      "1/1 [==============================] - 0s 5ms/step - loss: 0.0703 - mean_squared_error: 0.0703\n",
      "Epoch 191/200\n",
      "1/1 [==============================] - 0s 4ms/step - loss: 0.0682 - mean_squared_error: 0.0682\n",
      "Epoch 192/200\n",
      "1/1 [==============================] - 0s 4ms/step - loss: 0.0661 - mean_squared_error: 0.0661\n",
      "Epoch 193/200\n",
      "1/1 [==============================] - 0s 5ms/step - loss: 0.0641 - mean_squared_error: 0.0641\n",
      "Epoch 194/200\n",
      "1/1 [==============================] - 0s 8ms/step - loss: 0.0622 - mean_squared_error: 0.0622\n",
      "Epoch 195/200\n",
      "1/1 [==============================] - 0s 5ms/step - loss: 0.0603 - mean_squared_error: 0.0603\n",
      "Epoch 196/200\n",
      "1/1 [==============================] - 0s 5ms/step - loss: 0.0584 - mean_squared_error: 0.0584\n",
      "Epoch 197/200\n",
      "1/1 [==============================] - 0s 7ms/step - loss: 0.0566 - mean_squared_error: 0.0566\n",
      "Epoch 198/200\n",
      "1/1 [==============================] - 0s 6ms/step - loss: 0.0549 - mean_squared_error: 0.0549\n",
      "Epoch 199/200\n",
      "1/1 [==============================] - 0s 5ms/step - loss: 0.0532 - mean_squared_error: 0.0532\n",
      "Epoch 200/200\n",
      "1/1 [==============================] - 0s 5ms/step - loss: 0.0516 - mean_squared_error: 0.0516\n"
     ]
    }
   ],
   "source": [
    "hist = model.fit(X,y, epochs=200, verbose=1)"
   ]
  },
  {
   "cell_type": "code",
   "execution_count": null,
   "metadata": {},
   "outputs": [
    {
     "data": {
      "text/plain": [
       "dict_keys(['loss', 'mean_squared_error'])"
      ]
     },
     "execution_count": 15,
     "metadata": {},
     "output_type": "execute_result"
    }
   ],
   "source": [
    "hist.history.keys()"
   ]
  },
  {
   "cell_type": "code",
   "execution_count": null,
   "metadata": {},
   "outputs": [],
   "source": [
    "import matplotlib.pyplot as plt"
   ]
  },
  {
   "cell_type": "code",
   "execution_count": null,
   "metadata": {},
   "outputs": [
    {
     "data": {
      "image/png": "[encoded data removed]",
      "text/plain": [
       "<Figure size 432x288 with 1 Axes>"
      ]
     },
     "metadata": {
      "needs_background": "light"
     },
     "output_type": "display_data"
    }
   ],
   "source": [
    "plt.title(\"loss vs loss\")\n",
    "plt.xlabel('Epoch Number')\n",
    "plt.ylabel(\"Loss\")\n",
    "plt.plot(hist.history['loss'])\n",
    "plt.show()"
   ]
  },
  {
   "cell_type": "code",
   "execution_count": null,
   "metadata": {},
   "outputs": [
    {
     "data": {
      "image/png": "[encoded data removed]",
      "text/plain": [
       "<Figure size 432x288 with 1 Axes>"
      ]
     },
     "metadata": {
      "needs_background": "light"
     },
     "output_type": "display_data"
    }
   ],
   "source": [
    "plt.title(\"loss vs mean_squared_error\")\n",
    "plt.xlabel(\"Epoch number\")\n",
    "plt.ylabel(\"mean_squared_error\")\n",
    "plt.plot(hist.history['mean_squared_error']);"
   ]
  },
  {
   "cell_type": "code",
   "execution_count": null,
   "metadata": {},
   "outputs": [
    {
     "name": "stdout",
     "output_type": "stream",
     "text": [
      "[[3.]]\n",
      "[[10.5]]\n",
      "[[45.]]\n"
     ]
    }
   ],
   "source": [
    "print(model.predict([[3,1]]))\n",
    "\n",
    "# we never train the value but it works!!\n",
    "print(model.predict([[3,3.5]])) \n",
    "print(model.predict([[3,15]]))"
   ]
  },
  {
   "cell_type": "code",
   "execution_count": null,
   "metadata": {},
   "outputs": [
    {
     "name": "stdout",
     "output_type": "stream",
     "text": [
      "ground truth: [3, 6, 9, 12, 15, 18, 21, 24, 27]\n",
      "prediction:  [[ 3.]\n",
      " [ 6.]\n",
      " [ 9.]\n",
      " [12.]\n",
      " [15.]\n",
      " [18.]\n",
      " [21.]\n",
      " [24.]\n",
      " [27.]]\n"
     ]
    }
   ],
   "source": [
    "print(\"ground truth:\", y)\n",
    "print(\"prediction: \", model.predict(X))\n"
   ]
  },
  {
   "cell_type": "code",
   "execution_count": null,
   "metadata": {},
   "outputs": [],
   "source": []
  },
  {
   "cell_type": "code",
   "execution_count": null,
   "metadata": {},
   "outputs": [],
   "source": []
  },
  {
   "cell_type": "code",
   "execution_count": null,
   "metadata": {},
   "outputs": [],
   "source": []
  },
  {
   "cell_type": "code",
   "execution_count": null,
   "metadata": {},
   "outputs": [],
   "source": []
  },
  {
   "cell_type": "code",
   "execution_count": null,
   "metadata": {},
   "outputs": [],
   "source": []
  },
  {
   "cell_type": "code",
   "execution_count": null,
   "metadata": {},
   "outputs": [],
   "source": []
  },
  {
   "cell_type": "code",
   "execution_count": null,
   "metadata": {},
   "outputs": [],
   "source": []
  },
  {
   "cell_type": "code",
   "execution_count": null,
   "metadata": {},
   "outputs": [],
   "source": []
  },
  {
   "cell_type": "code",
   "execution_count": 18,
   "metadata": {},
   "outputs": [],
   "source": [
    "import numpy as np\n",
    "import keras\n",
    "import tensorflow as tf\n",
    "from keras.models import Sequential\n",
    "from keras.layers import Dense\n",
    "import matplotlib.pyplot as plt"
   ]
  },
  {
   "cell_type": "code",
   "execution_count": 19,
   "metadata": {},
   "outputs": [],
   "source": [
    "X = []\n",
    "y = []\n",
    "\n",
    "for i in range(2, 10):\n",
    "    for j in range(1, 10):\n",
    "        X.append([i, j])\n",
    "        y.append(i * j)"
   ]
  },
  {
   "cell_type": "code",
   "execution_count": 20,
   "metadata": {},
   "outputs": [
    {
     "data": {
      "text/plain": [
       "2"
      ]
     },
     "execution_count": 20,
     "metadata": {},
     "output_type": "execute_result"
    }
   ],
   "source": [
    "xTrain = np.array(X)\n",
    "yTrain = np.array(y)\n",
    "xTrain.shape[1]"
   ]
  },
  {
   "cell_type": "code",
   "execution_count": 21,
   "metadata": {},
   "outputs": [],
   "source": [
    "# model = keras.Sequential([\n",
    "#     Dense(2, activation=tf.nn.relu, input_shape=[len(X[0])]),\n",
    "#     Dense(1)\n",
    "# ])\n",
    "\n",
    "# model.compile(optimizer='adam', \n",
    "#                 loss='mse',\n",
    "#                 metrics=['mae', 'mse'])\n",
    "# model.summary()"
   ]
  },
  {
   "cell_type": "code",
   "execution_count": 22,
   "metadata": {},
   "outputs": [
    {
     "name": "stdout",
     "output_type": "stream",
     "text": [
      "Model: \"sequential\"\n",
      "_________________________________________________________________\n",
      "Layer (type)                 Output Shape              Param #   \n",
      "=================================================================\n",
      "dense (Dense)                (None, 64)                192       \n",
      "_________________________________________________________________\n",
      "dense_1 (Dense)              (None, 32)                2080      \n",
      "_________________________________________________________________\n",
      "dense_2 (Dense)              (None, 1)                 33        \n",
      "=================================================================\n",
      "Total params: 2,305\n",
      "Trainable params: 2,305\n",
      "Non-trainable params: 0\n",
      "_________________________________________________________________\n"
     ]
    }
   ],
   "source": [
    "model = keras.Sequential([\n",
    "    Dense(64, activation='relu', input_shape=(xTrain.shape[1],)),\n",
    "    Dense(32, activation='relu'),\n",
    "    Dense(1),\n",
    "])\n",
    "model.compile(optimizer='adam', \n",
    "             loss='mse',\n",
    "              metrics=['mae'])\n",
    "model.summary()"
   ]
  },
  {
   "cell_type": "code",
   "execution_count": 23,
   "metadata": {},
   "outputs": [],
   "source": [
    "history = model.fit(xTrain, yTrain, epochs=2000, verbose=0) #, validation_split = 0.3)"
   ]
  },
  {
   "cell_type": "code",
   "execution_count": 24,
   "metadata": {},
   "outputs": [
    {
     "data": {
      "text/plain": [
       "dict_keys(['loss', 'mae'])"
      ]
     },
     "execution_count": 24,
     "metadata": {},
     "output_type": "execute_result"
    }
   ],
   "source": [
    "history.history.keys()"
   ]
  },
  {
   "cell_type": "code",
   "execution_count": 25,
   "metadata": {},
   "outputs": [],
   "source": [
    "index = [] \n",
    "for i in history.history.keys():\n",
    "    index.append(i)\n"
   ]
  },
  {
   "cell_type": "code",
   "execution_count": 26,
   "metadata": {},
   "outputs": [
    {
     "data": {
      "image/png": "[encoded data removed]",
      "text/plain": [
       "<Figure size 432x288 with 1 Axes>"
      ]
     },
     "metadata": {
      "needs_background": "light"
     },
     "output_type": "display_data"
    }
   ],
   "source": [
    "plt.title(\"loss vs loss\")\n",
    "plt.xlabel('Epoch Number')\n",
    "plt.ylabel(\"Loss\")\n",
    "plt.plot(history.history[index[0]])\n",
    "plt.show()"
   ]
  },
  {
   "cell_type": "code",
   "execution_count": 27,
   "metadata": {},
   "outputs": [
    {
     "name": "stdout",
     "output_type": "stream",
     "text": [
      "[[9.381815]]\n",
      "[[24.330147]]\n",
      "[[64.8299]]\n",
      "[[6.077544]]\n",
      "[[7.4421363]]\n",
      "[[44.74403]]\n"
     ]
    }
   ],
   "source": [
    "print(model.predict([[3,3]]))\n",
    "print(model.predict([[8,3]]))\n",
    "print(model.predict([[8,8]]))\n",
    "print(model.predict([[6,1]]))\n",
    "print(model.predict([[3.5, 2.06]])) # 7.21\n",
    "print(model.predict([[5.5, 8.1]])) # 44.55"
   ]
  },
  {
   "cell_type": "code",
   "execution_count": null,
   "metadata": {},
   "outputs": [],
   "source": []
  },
  {
   "cell_type": "code",
   "execution_count": 28,
   "metadata": {},
   "outputs": [
    {
     "name": "stdout",
     "output_type": "stream",
     "text": [
      "ground truth: [2, 4, 6, 8, 10, 12, 14, 16, 18, 3, 6, 9, 12, 15, 18, 21, 24, 27, 4, 8, 12, 16, 20, 24, 28, 32, 36, 5, 10, 15, 20, 25, 30, 35, 40, 45, 6, 12, 18, 24, 30, 36, 42, 48, 54, 7, 14, 21, 28, 35, 42, 49, 56, 63, 8, 16, 24, 32, 40, 48, 56, 64, 72, 9, 18, 27, 36, 45, 54, 63, 72, 81]\n",
      "prediction:  [[ 1.4355297]\n",
      " [ 3.91056  ]\n",
      " [ 5.825923 ]\n",
      " [ 7.783229 ]\n",
      " [ 9.899815 ]\n",
      " [11.99959  ]\n",
      " [13.993852 ]\n",
      " [16.084425 ]\n",
      " [17.84629  ]\n",
      " [ 3.090726 ]\n",
      " [ 6.076051 ]\n",
      " [ 9.381814 ]\n",
      " [11.993662 ]\n",
      " [15.100046 ]\n",
      " [18.098082 ]\n",
      " [21.0416   ]\n",
      " [24.068405 ]\n",
      " [27.013088 ]\n",
      " [ 4.1202183]\n",
      " [ 8.267068 ]\n",
      " [11.864603 ]\n",
      " [16.38905  ]\n",
      " [20.17413  ]\n",
      " [23.820227 ]\n",
      " [28.103603 ]\n",
      " [32.12244  ]\n",
      " [36.00012  ]\n",
      " [ 5.0851545]\n",
      " [ 9.932264 ]\n",
      " [15.077976 ]\n",
      " [19.920322 ]\n",
      " [24.965828 ]\n",
      " [29.898893 ]\n",
      " [34.998608 ]\n",
      " [40.07657  ]\n",
      " [44.994698 ]\n",
      " [ 6.0775433]\n",
      " [11.529583 ]\n",
      " [18.036213 ]\n",
      " [23.921404 ]\n",
      " [29.642637 ]\n",
      " [35.93661  ]\n",
      " [42.124325 ]\n",
      " [48.28567  ]\n",
      " [53.952015 ]\n",
      " [ 7.021367 ]\n",
      " [13.688376 ]\n",
      " [21.276762 ]\n",
      " [28.22395  ]\n",
      " [35.191654 ]\n",
      " [41.78838  ]\n",
      " [49.305756 ]\n",
      " [56.413185 ]\n",
      " [62.863014 ]\n",
      " [ 8.105548 ]\n",
      " [15.797319 ]\n",
      " [24.330149 ]\n",
      " [32.34469  ]\n",
      " [39.978672 ]\n",
      " [48.454777 ]\n",
      " [56.378235 ]\n",
      " [64.829895 ]\n",
      " [71.8624   ]\n",
      " [ 9.704788 ]\n",
      " [18.182001 ]\n",
      " [27.11222  ]\n",
      " [36.23566  ]\n",
      " [45.065514 ]\n",
      " [53.696163 ]\n",
      " [63.0024   ]\n",
      " [71.96113  ]\n",
      " [80.41278  ]]\n"
     ]
    }
   ],
   "source": [
    "print(\"ground truth:\", y)\n",
    "print(\"prediction: \", model.predict(X))"
   ]
  },
  {
   "cell_type": "code",
   "execution_count": null,
   "metadata": {},
   "outputs": [],
   "source": []
  },
  {
   "cell_type": "code",
   "execution_count": null,
   "metadata": {},
   "outputs": [],
   "source": []
  }
 ],
 "metadata": {
  "interpreter": {
   "hash": "013cb43bc82c93deec78737468eebf90940d36d7ac13c74e2434686121b8a692"
  },
  "kernelspec": {
   "display_name": "Python 3.9.9 ('tf-gpu-2021')",
   "language": "python",
   "name": "python3"
  },
  "language_info": {
   "codemirror_mode": {
    "name": "ipython",
    "version": 3
   },
   "file_extension": ".py",
   "mimetype": "text/x-python",
   "name": "python",
   "nbconvert_exporter": "python",
   "pygments_lexer": "ipython3",
   "version": "3.9.9"
  },
  "orig_nbformat": 4
 },
 "nbformat": 4,
 "nbformat_minor": 2
}
