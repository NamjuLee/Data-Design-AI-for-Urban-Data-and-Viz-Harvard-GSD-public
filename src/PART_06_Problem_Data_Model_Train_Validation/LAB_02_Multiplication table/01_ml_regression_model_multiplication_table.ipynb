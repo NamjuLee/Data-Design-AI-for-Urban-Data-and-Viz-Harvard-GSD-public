{
 "cells": [
  {
   "attachments": {},
   "cell_type": "markdown",
   "metadata": {},
   "source": [
    "# **Data in Design, AI for Urban Data and Visualization**\n",
    "\n",
    "#### Data, Design Computation, Artificial Intelligence, Visualization, Harvard GSD\n",
    "\n",
    "\n",
    "**KEYWORD:**\n",
    "Vector, Raster, Urban Data, GIS, Data Processing, Data Mining, Machine Learning, Artificial Intelligence, Visualization, Mapping, Design Decision-Making\n",
    "\n",
    "-----\n",
    "\n",
    "#### Instructor : NJ Namju Lee / nj.namju@gmail.com  \n",
    "###### * Linkedin - https://www.linkedin.com/in/nj-namju-lee-926b3252/    * Git - https://github.com/NamjuLee  \n",
    "\n",
    "###### * Web - http://www.njstudio.co.kr                                  * Lab - http://www.njslab.com/NJSLabCore/  \n",
    "\n",
    "###### * Video(English) - https://www.youtube.com/c/njnamjulee            * Writing(English) - https://medium.com/@nj-namju  \n",
    "\n",
    "###### * Video(Korean) - https://www.youtube.com/c/CodeforDesign          * Writing(Korean) - https://brunch.co.kr/@njnamju  \n",
    "-----"
   ]
  },
  {
   "attachments": {},
   "cell_type": "markdown",
   "metadata": {},
   "source": [
    "### AI / ML for designers\n",
    "\n",
    "# Model for Multiplication Table\n",
    "\n",
    "### Computational Design Class\n",
    "\n",
    "NJ Namju Lee / nj.namju@gmail.com"
   ]
  },
  {
   "cell_type": "code",
   "execution_count": 1,
   "metadata": {},
   "outputs": [
    {
     "name": "stdout",
     "output_type": "stream",
     "text": [
      "[[3, 1], [3, 2], [3, 3], [3, 4], [3, 5], [3, 6], [3, 7], [3, 8], [3, 9]]\n",
      "[3, 6, 9, 12, 15, 18, 21, 24, 27]\n"
     ]
    }
   ],
   "source": [
    "tableNumber = 3\n",
    "X = []\n",
    "y = []\n",
    "\n",
    "for i in range(1, 10):\n",
    "    X.append([tableNumber, i])\n",
    "    y.append(tableNumber * i)\n",
    "\n",
    "print(X)\n",
    "print(y)"
   ]
  },
  {
   "cell_type": "code",
   "execution_count": 2,
   "metadata": {},
   "outputs": [],
   "source": [
    "\n",
    "# linear model"
   ]
  },
  {
   "cell_type": "code",
   "execution_count": 3,
   "metadata": {},
   "outputs": [
    {
     "name": "stdout",
     "output_type": "stream",
     "text": [
      "[0. 3.]\n",
      "-8.881784197001252e-15\n"
     ]
    }
   ],
   "source": [
    "from sklearn.linear_model import LinearRegression \n",
    "lrModel =  LinearRegression()\n",
    "lrModel.fit(X, y)\n",
    "print(lrModel.coef_)\n",
    "print(lrModel.intercept_)"
   ]
  },
  {
   "cell_type": "code",
   "execution_count": 4,
   "metadata": {},
   "outputs": [
    {
     "name": "stdout",
     "output_type": "stream",
     "text": [
      "[12.]\n",
      "[15.]\n",
      "[13.5]\n",
      "[36.]\n"
     ]
    }
   ],
   "source": [
    "print(lrModel.predict([[3,4]]))\n",
    "print(lrModel.predict([[3,5]]))\n",
    "\n",
    "print(lrModel.predict([[3, 4.5]]))\n",
    "print(lrModel.predict([[3, 12]]))"
   ]
  },
  {
   "cell_type": "code",
   "execution_count": 5,
   "metadata": {},
   "outputs": [
    {
     "name": "stdout",
     "output_type": "stream",
     "text": [
      "predictions:  [ 3.  6.  9. 12. 15. 18. 21. 24. 27.]\n",
      "1.0\n"
     ]
    }
   ],
   "source": [
    "pred = lrModel.predict(X)\n",
    "print('predictions: ', pred)\n",
    "from sklearn.metrics import r2_score\n",
    "print(r2_score(pred, y))"
   ]
  },
  {
   "cell_type": "code",
   "execution_count": null,
   "metadata": {},
   "outputs": [],
   "source": []
  },
  {
   "cell_type": "code",
   "execution_count": 6,
   "metadata": {},
   "outputs": [],
   "source": [
    "import tensorflow as tf\n",
    "from tensorflow.keras.models import Sequential\n",
    "from tensorflow.keras.layers import Dense"
   ]
  },
  {
   "cell_type": "code",
   "execution_count": 7,
   "metadata": {},
   "outputs": [],
   "source": [
    "model = Sequential([\n",
    "  Dense(units=1, input_shape=[2])\n",
    "])\n",
    "model.compile(loss = tf.keras.losses.mean_squared_error, # for Regression losses # https://keras.io/api/losses/regression_losses/\n",
    "              optimizer=tf.keras.optimizers.Adam(0.1), metrics=['mean_squared_error'])"
   ]
  },
  {
   "cell_type": "code",
   "execution_count": 8,
   "metadata": {},
   "outputs": [
    {
     "name": "stdout",
     "output_type": "stream",
     "text": [
      "Epoch 1/200\n",
      "1/1 [==============================] - 2s 2s/step - loss: 161.4088 - mean_squared_error: 161.4088\n",
      "Epoch 2/200\n",
      "1/1 [==============================] - 0s 5ms/step - loss: 138.6497 - mean_squared_error: 138.6497\n",
      "Epoch 3/200\n",
      "1/1 [==============================] - 0s 5ms/step - loss: 117.6996 - mean_squared_error: 117.6996\n",
      "Epoch 4/200\n",
      "1/1 [==============================] - 0s 5ms/step - loss: 98.5840 - mean_squared_error: 98.5840\n",
      "Epoch 5/200\n",
      "1/1 [==============================] - 0s 6ms/step - loss: 81.3181 - mean_squared_error: 81.3181\n",
      "Epoch 6/200\n",
      "1/1 [==============================] - 0s 6ms/step - loss: 65.9051 - mean_squared_error: 65.9051\n",
      "Epoch 7/200\n",
      "1/1 [==============================] - 0s 5ms/step - loss: 52.3343 - mean_squared_error: 52.3343\n",
      "Epoch 8/200\n",
      "1/1 [==============================] - 0s 5ms/step - loss: 40.5785 - mean_squared_error: 40.5785\n",
      "Epoch 9/200\n",
      "1/1 [==============================] - 0s 5ms/step - loss: 30.5927 - mean_squared_error: 30.5927\n",
      "Epoch 10/200\n",
      "1/1 [==============================] - 0s 4ms/step - loss: 22.3114 - mean_squared_error: 22.3114\n",
      "Epoch 11/200\n",
      "1/1 [==============================] - 0s 5ms/step - loss: 15.6480 - mean_squared_error: 15.6480\n",
      "Epoch 12/200\n",
      "1/1 [==============================] - 0s 4ms/step - loss: 10.4939 - mean_squared_error: 10.4939\n",
      "Epoch 13/200\n",
      "1/1 [==============================] - 0s 5ms/step - loss: 6.7187 - mean_squared_error: 6.7187\n",
      "Epoch 14/200\n",
      "1/1 [==============================] - 0s 4ms/step - loss: 4.1717 - mean_squared_error: 4.1717\n",
      "Epoch 15/200\n",
      "1/1 [==============================] - 0s 4ms/step - loss: 2.6853 - mean_squared_error: 2.6853\n",
      "Epoch 16/200\n",
      "1/1 [==============================] - 0s 4ms/step - loss: 2.0793 - mean_squared_error: 2.0793\n",
      "Epoch 17/200\n",
      "1/1 [==============================] - 0s 4ms/step - loss: 2.1667 - mean_squared_error: 2.1667\n",
      "Epoch 18/200\n",
      "1/1 [==============================] - 0s 4ms/step - loss: 2.7613 - mean_squared_error: 2.7613\n",
      "Epoch 19/200\n",
      "1/1 [==============================] - 0s 5ms/step - loss: 3.6849 - mean_squared_error: 3.6849\n",
      "Epoch 20/200\n",
      "1/1 [==============================] - 0s 5ms/step - loss: 4.7744 - mean_squared_error: 4.7744\n",
      "Epoch 21/200\n",
      "1/1 [==============================] - 0s 4ms/step - loss: 5.8880 - mean_squared_error: 5.8880\n",
      "Epoch 22/200\n",
      "1/1 [==============================] - 0s 5ms/step - loss: 6.9104 - mean_squared_error: 6.9104\n",
      "Epoch 23/200\n",
      "1/1 [==============================] - 0s 4ms/step - loss: 7.7545 - mean_squared_error: 7.7545\n",
      "Epoch 24/200\n",
      "1/1 [==============================] - 0s 4ms/step - loss: 8.3628 - mean_squared_error: 8.3628\n",
      "Epoch 25/200\n",
      "1/1 [==============================] - 0s 4ms/step - loss: 8.7053 - mean_squared_error: 8.7053\n",
      "Epoch 26/200\n",
      "1/1 [==============================] - 0s 4ms/step - loss: 8.7772 - mean_squared_error: 8.7772\n",
      "Epoch 27/200\n",
      "1/1 [==============================] - 0s 4ms/step - loss: 8.5940 - mean_squared_error: 8.5940\n",
      "Epoch 28/200\n",
      "1/1 [==============================] - 0s 4ms/step - loss: 8.1877 - mean_squared_error: 8.1877\n",
      "Epoch 29/200\n",
      "1/1 [==============================] - 0s 4ms/step - loss: 7.6010 - mean_squared_error: 7.6010\n",
      "Epoch 30/200\n",
      "1/1 [==============================] - 0s 4ms/step - loss: 6.8834 - mean_squared_error: 6.8834\n",
      "Epoch 31/200\n",
      "1/1 [==============================] - 0s 4ms/step - loss: 6.0861 - mean_squared_error: 6.0861\n",
      "Epoch 32/200\n",
      "1/1 [==============================] - 0s 4ms/step - loss: 5.2590 - mean_squared_error: 5.2590\n",
      "Epoch 33/200\n",
      "1/1 [==============================] - 0s 4ms/step - loss: 4.4472 - mean_squared_error: 4.4472\n",
      "Epoch 34/200\n",
      "1/1 [==============================] - 0s 4ms/step - loss: 3.6886 - mean_squared_error: 3.6886\n",
      "Epoch 35/200\n",
      "1/1 [==============================] - 0s 9ms/step - loss: 3.0131 - mean_squared_error: 3.0131\n",
      "Epoch 36/200\n",
      "1/1 [==============================] - 0s 14ms/step - loss: 2.4411 - mean_squared_error: 2.4411\n",
      "Epoch 37/200\n",
      "1/1 [==============================] - 0s 6ms/step - loss: 1.9837 - mean_squared_error: 1.9837\n",
      "Epoch 38/200\n",
      "1/1 [==============================] - 0s 6ms/step - loss: 1.6433 - mean_squared_error: 1.6433\n",
      "Epoch 39/200\n",
      "1/1 [==============================] - 0s 4ms/step - loss: 1.4145 - mean_squared_error: 1.4145\n",
      "Epoch 40/200\n",
      "1/1 [==============================] - 0s 6ms/step - loss: 1.2856 - mean_squared_error: 1.2856\n",
      "Epoch 41/200\n",
      "1/1 [==============================] - 0s 6ms/step - loss: 1.2401 - mean_squared_error: 1.2401\n",
      "Epoch 42/200\n",
      "1/1 [==============================] - 0s 5ms/step - loss: 1.2587 - mean_squared_error: 1.2587\n",
      "Epoch 43/200\n",
      "1/1 [==============================] - 0s 6ms/step - loss: 1.3210 - mean_squared_error: 1.3210\n",
      "Epoch 44/200\n",
      "1/1 [==============================] - 0s 6ms/step - loss: 1.4070 - mean_squared_error: 1.4070\n",
      "Epoch 45/200\n",
      "1/1 [==============================] - 0s 5ms/step - loss: 1.4988 - mean_squared_error: 1.4988\n",
      "Epoch 46/200\n",
      "1/1 [==============================] - 0s 5ms/step - loss: 1.5812 - mean_squared_error: 1.5812\n",
      "Epoch 47/200\n",
      "1/1 [==============================] - 0s 6ms/step - loss: 1.6428 - mean_squared_error: 1.6428\n",
      "Epoch 48/200\n",
      "1/1 [==============================] - 0s 6ms/step - loss: 1.6760 - mean_squared_error: 1.6760\n",
      "Epoch 49/200\n",
      "1/1 [==============================] - 0s 4ms/step - loss: 1.6773 - mean_squared_error: 1.6773\n",
      "Epoch 50/200\n",
      "1/1 [==============================] - 0s 5ms/step - loss: 1.6465 - mean_squared_error: 1.6465\n",
      "Epoch 51/200\n",
      "1/1 [==============================] - 0s 4ms/step - loss: 1.5865 - mean_squared_error: 1.5865\n",
      "Epoch 52/200\n",
      "1/1 [==============================] - 0s 4ms/step - loss: 1.5026 - mean_squared_error: 1.5026\n",
      "Epoch 53/200\n",
      "1/1 [==============================] - 0s 5ms/step - loss: 1.4013 - mean_squared_error: 1.4013\n",
      "Epoch 54/200\n",
      "1/1 [==============================] - 0s 5ms/step - loss: 1.2899 - mean_squared_error: 1.2899\n",
      "Epoch 55/200\n",
      "1/1 [==============================] - 0s 4ms/step - loss: 1.1755 - mean_squared_error: 1.1755\n",
      "Epoch 56/200\n",
      "1/1 [==============================] - 0s 4ms/step - loss: 1.0647 - mean_squared_error: 1.0647\n",
      "Epoch 57/200\n",
      "1/1 [==============================] - 0s 4ms/step - loss: 0.9628 - mean_squared_error: 0.9628\n",
      "Epoch 58/200\n",
      "1/1 [==============================] - 0s 4ms/step - loss: 0.8736 - mean_squared_error: 0.8736\n",
      "Epoch 59/200\n",
      "1/1 [==============================] - 0s 5ms/step - loss: 0.7994 - mean_squared_error: 0.7994\n",
      "Epoch 60/200\n",
      "1/1 [==============================] - 0s 9ms/step - loss: 0.7411 - mean_squared_error: 0.7411\n",
      "Epoch 61/200\n",
      "1/1 [==============================] - 0s 6ms/step - loss: 0.6979 - mean_squared_error: 0.6979\n",
      "Epoch 62/200\n",
      "1/1 [==============================] - 0s 5ms/step - loss: 0.6682 - mean_squared_error: 0.6682\n",
      "Epoch 63/200\n",
      "1/1 [==============================] - 0s 5ms/step - loss: 0.6495 - mean_squared_error: 0.6495\n",
      "Epoch 64/200\n",
      "1/1 [==============================] - 0s 4ms/step - loss: 0.6386 - mean_squared_error: 0.6386\n",
      "Epoch 65/200\n",
      "1/1 [==============================] - 0s 8ms/step - loss: 0.6327 - mean_squared_error: 0.6327\n",
      "Epoch 66/200\n",
      "1/1 [==============================] - 0s 6ms/step - loss: 0.6286 - mean_squared_error: 0.6286\n",
      "Epoch 67/200\n",
      "1/1 [==============================] - 0s 5ms/step - loss: 0.6241 - mean_squared_error: 0.6241\n",
      "Epoch 68/200\n",
      "1/1 [==============================] - 0s 6ms/step - loss: 0.6171 - mean_squared_error: 0.6171\n",
      "Epoch 69/200\n",
      "1/1 [==============================] - 0s 7ms/step - loss: 0.6065 - mean_squared_error: 0.6065\n",
      "Epoch 70/200\n",
      "1/1 [==============================] - 0s 4ms/step - loss: 0.5915 - mean_squared_error: 0.5915\n",
      "Epoch 71/200\n",
      "1/1 [==============================] - 0s 5ms/step - loss: 0.5724 - mean_squared_error: 0.5724\n",
      "Epoch 72/200\n",
      "1/1 [==============================] - 0s 6ms/step - loss: 0.5495 - mean_squared_error: 0.5495\n",
      "Epoch 73/200\n",
      "1/1 [==============================] - 0s 5ms/step - loss: 0.5238 - mean_squared_error: 0.5238\n",
      "Epoch 74/200\n",
      "1/1 [==============================] - 0s 7ms/step - loss: 0.4965 - mean_squared_error: 0.4965\n",
      "Epoch 75/200\n",
      "1/1 [==============================] - 0s 5ms/step - loss: 0.4685 - mean_squared_error: 0.4685\n",
      "Epoch 76/200\n",
      "1/1 [==============================] - 0s 6ms/step - loss: 0.4412 - mean_squared_error: 0.4412\n",
      "Epoch 77/200\n",
      "1/1 [==============================] - 0s 5ms/step - loss: 0.4153 - mean_squared_error: 0.4153\n",
      "Epoch 78/200\n",
      "1/1 [==============================] - 0s 5ms/step - loss: 0.3916 - mean_squared_error: 0.3916\n",
      "Epoch 79/200\n",
      "1/1 [==============================] - 0s 4ms/step - loss: 0.3705 - mean_squared_error: 0.3705\n",
      "Epoch 80/200\n",
      "1/1 [==============================] - 0s 4ms/step - loss: 0.3521 - mean_squared_error: 0.3521\n",
      "Epoch 81/200\n",
      "1/1 [==============================] - 0s 4ms/step - loss: 0.3363 - mean_squared_error: 0.3363\n",
      "Epoch 82/200\n",
      "1/1 [==============================] - 0s 3ms/step - loss: 0.3228 - mean_squared_error: 0.3228\n",
      "Epoch 83/200\n",
      "1/1 [==============================] - 0s 4ms/step - loss: 0.3112 - mean_squared_error: 0.3112\n",
      "Epoch 84/200\n",
      "1/1 [==============================] - 0s 4ms/step - loss: 0.3009 - mean_squared_error: 0.3009\n",
      "Epoch 85/200\n",
      "1/1 [==============================] - 0s 5ms/step - loss: 0.2915 - mean_squared_error: 0.2915\n",
      "Epoch 86/200\n",
      "1/1 [==============================] - 0s 5ms/step - loss: 0.2824 - mean_squared_error: 0.2824\n",
      "Epoch 87/200\n",
      "1/1 [==============================] - 0s 4ms/step - loss: 0.2734 - mean_squared_error: 0.2734\n",
      "Epoch 88/200\n",
      "1/1 [==============================] - 0s 5ms/step - loss: 0.2641 - mean_squared_error: 0.2641\n",
      "Epoch 89/200\n",
      "1/1 [==============================] - 0s 3ms/step - loss: 0.2545 - mean_squared_error: 0.2545\n",
      "Epoch 90/200\n",
      "1/1 [==============================] - 0s 4ms/step - loss: 0.2444 - mean_squared_error: 0.2444\n",
      "Epoch 91/200\n",
      "1/1 [==============================] - 0s 4ms/step - loss: 0.2339 - mean_squared_error: 0.2339\n",
      "Epoch 92/200\n",
      "1/1 [==============================] - 0s 4ms/step - loss: 0.2233 - mean_squared_error: 0.2233\n",
      "Epoch 93/200\n",
      "1/1 [==============================] - 0s 6ms/step - loss: 0.2126 - mean_squared_error: 0.2126\n",
      "Epoch 94/200\n",
      "1/1 [==============================] - 0s 4ms/step - loss: 0.2021 - mean_squared_error: 0.2021\n",
      "Epoch 95/200\n",
      "1/1 [==============================] - 0s 3ms/step - loss: 0.1919 - mean_squared_error: 0.1919\n",
      "Epoch 96/200\n",
      "1/1 [==============================] - 0s 5ms/step - loss: 0.1822 - mean_squared_error: 0.1822\n",
      "Epoch 97/200\n",
      "1/1 [==============================] - 0s 3ms/step - loss: 0.1732 - mean_squared_error: 0.1732\n",
      "Epoch 98/200\n",
      "1/1 [==============================] - 0s 3ms/step - loss: 0.1648 - mean_squared_error: 0.1648\n",
      "Epoch 99/200\n",
      "1/1 [==============================] - 0s 3ms/step - loss: 0.1570 - mean_squared_error: 0.1570\n",
      "Epoch 100/200\n",
      "1/1 [==============================] - 0s 4ms/step - loss: 0.1498 - mean_squared_error: 0.1498\n",
      "Epoch 101/200\n",
      "1/1 [==============================] - 0s 4ms/step - loss: 0.1432 - mean_squared_error: 0.1432\n",
      "Epoch 102/200\n",
      "1/1 [==============================] - 0s 5ms/step - loss: 0.1371 - mean_squared_error: 0.1371\n",
      "Epoch 103/200\n",
      "1/1 [==============================] - 0s 5ms/step - loss: 0.1312 - mean_squared_error: 0.1312\n",
      "Epoch 104/200\n",
      "1/1 [==============================] - 0s 4ms/step - loss: 0.1257 - mean_squared_error: 0.1257\n",
      "Epoch 105/200\n",
      "1/1 [==============================] - 0s 4ms/step - loss: 0.1203 - mean_squared_error: 0.1203\n",
      "Epoch 106/200\n",
      "1/1 [==============================] - 0s 5ms/step - loss: 0.1151 - mean_squared_error: 0.1151\n",
      "Epoch 107/200\n",
      "1/1 [==============================] - 0s 5ms/step - loss: 0.1099 - mean_squared_error: 0.1099\n",
      "Epoch 108/200\n",
      "1/1 [==============================] - 0s 4ms/step - loss: 0.1048 - mean_squared_error: 0.1048\n",
      "Epoch 109/200\n",
      "1/1 [==============================] - 0s 5ms/step - loss: 0.0998 - mean_squared_error: 0.0998\n",
      "Epoch 110/200\n",
      "1/1 [==============================] - 0s 5ms/step - loss: 0.0950 - mean_squared_error: 0.0950\n",
      "Epoch 111/200\n",
      "1/1 [==============================] - 0s 4ms/step - loss: 0.0902 - mean_squared_error: 0.0902\n",
      "Epoch 112/200\n",
      "1/1 [==============================] - 0s 4ms/step - loss: 0.0856 - mean_squared_error: 0.0856\n",
      "Epoch 113/200\n",
      "1/1 [==============================] - 0s 4ms/step - loss: 0.0812 - mean_squared_error: 0.0812\n",
      "Epoch 114/200\n",
      "1/1 [==============================] - 0s 5ms/step - loss: 0.0770 - mean_squared_error: 0.0770\n",
      "Epoch 115/200\n",
      "1/1 [==============================] - 0s 4ms/step - loss: 0.0731 - mean_squared_error: 0.0731\n",
      "Epoch 116/200\n",
      "1/1 [==============================] - 0s 3ms/step - loss: 0.0694 - mean_squared_error: 0.0694\n",
      "Epoch 117/200\n",
      "1/1 [==============================] - 0s 5ms/step - loss: 0.0658 - mean_squared_error: 0.0658\n",
      "Epoch 118/200\n",
      "1/1 [==============================] - 0s 5ms/step - loss: 0.0625 - mean_squared_error: 0.0625\n",
      "Epoch 119/200\n",
      "1/1 [==============================] - 0s 6ms/step - loss: 0.0594 - mean_squared_error: 0.0594\n",
      "Epoch 120/200\n",
      "1/1 [==============================] - 0s 4ms/step - loss: 0.0565 - mean_squared_error: 0.0565\n",
      "Epoch 121/200\n",
      "1/1 [==============================] - 0s 9ms/step - loss: 0.0537 - mean_squared_error: 0.0537\n",
      "Epoch 122/200\n",
      "1/1 [==============================] - 0s 9ms/step - loss: 0.0510 - mean_squared_error: 0.0510\n",
      "Epoch 123/200\n",
      "1/1 [==============================] - 0s 6ms/step - loss: 0.0484 - mean_squared_error: 0.0484\n",
      "Epoch 124/200\n",
      "1/1 [==============================] - 0s 4ms/step - loss: 0.0460 - mean_squared_error: 0.0460\n",
      "Epoch 125/200\n",
      "1/1 [==============================] - 0s 5ms/step - loss: 0.0436 - mean_squared_error: 0.0436\n",
      "Epoch 126/200\n",
      "1/1 [==============================] - 0s 4ms/step - loss: 0.0413 - mean_squared_error: 0.0413\n",
      "Epoch 127/200\n",
      "1/1 [==============================] - 0s 4ms/step - loss: 0.0391 - mean_squared_error: 0.0391\n",
      "Epoch 128/200\n",
      "1/1 [==============================] - 0s 5ms/step - loss: 0.0370 - mean_squared_error: 0.0370\n",
      "Epoch 129/200\n",
      "1/1 [==============================] - 0s 4ms/step - loss: 0.0349 - mean_squared_error: 0.0349\n",
      "Epoch 130/200\n",
      "1/1 [==============================] - 0s 4ms/step - loss: 0.0330 - mean_squared_error: 0.0330\n",
      "Epoch 131/200\n",
      "1/1 [==============================] - 0s 4ms/step - loss: 0.0312 - mean_squared_error: 0.0312\n",
      "Epoch 132/200\n",
      "1/1 [==============================] - 0s 4ms/step - loss: 0.0294 - mean_squared_error: 0.0294\n",
      "Epoch 133/200\n",
      "1/1 [==============================] - 0s 4ms/step - loss: 0.0278 - mean_squared_error: 0.0278\n",
      "Epoch 134/200\n",
      "1/1 [==============================] - 0s 4ms/step - loss: 0.0263 - mean_squared_error: 0.0263\n",
      "Epoch 135/200\n",
      "1/1 [==============================] - 0s 3ms/step - loss: 0.0248 - mean_squared_error: 0.0248\n",
      "Epoch 136/200\n",
      "1/1 [==============================] - 0s 3ms/step - loss: 0.0234 - mean_squared_error: 0.0234\n",
      "Epoch 137/200\n",
      "1/1 [==============================] - 0s 5ms/step - loss: 0.0221 - mean_squared_error: 0.0221\n",
      "Epoch 138/200\n",
      "1/1 [==============================] - 0s 4ms/step - loss: 0.0209 - mean_squared_error: 0.0209\n",
      "Epoch 139/200\n",
      "1/1 [==============================] - 0s 4ms/step - loss: 0.0197 - mean_squared_error: 0.0197\n",
      "Epoch 140/200\n",
      "1/1 [==============================] - 0s 3ms/step - loss: 0.0186 - mean_squared_error: 0.0186\n",
      "Epoch 141/200\n",
      "1/1 [==============================] - 0s 4ms/step - loss: 0.0175 - mean_squared_error: 0.0175\n",
      "Epoch 142/200\n",
      "1/1 [==============================] - 0s 4ms/step - loss: 0.0165 - mean_squared_error: 0.0165\n",
      "Epoch 143/200\n",
      "1/1 [==============================] - 0s 4ms/step - loss: 0.0156 - mean_squared_error: 0.0156\n",
      "Epoch 144/200\n",
      "1/1 [==============================] - 0s 5ms/step - loss: 0.0146 - mean_squared_error: 0.0146\n",
      "Epoch 145/200\n",
      "1/1 [==============================] - 0s 5ms/step - loss: 0.0138 - mean_squared_error: 0.0138\n",
      "Epoch 146/200\n",
      "1/1 [==============================] - 0s 7ms/step - loss: 0.0129 - mean_squared_error: 0.0129\n",
      "Epoch 147/200\n",
      "1/1 [==============================] - 0s 6ms/step - loss: 0.0122 - mean_squared_error: 0.0122\n",
      "Epoch 148/200\n",
      "1/1 [==============================] - 0s 4ms/step - loss: 0.0114 - mean_squared_error: 0.0114\n",
      "Epoch 149/200\n",
      "1/1 [==============================] - 0s 5ms/step - loss: 0.0107 - mean_squared_error: 0.0107\n",
      "Epoch 150/200\n",
      "1/1 [==============================] - 0s 4ms/step - loss: 0.0101 - mean_squared_error: 0.0101\n",
      "Epoch 151/200\n",
      "1/1 [==============================] - 0s 7ms/step - loss: 0.0095 - mean_squared_error: 0.0095\n",
      "Epoch 152/200\n",
      "1/1 [==============================] - 0s 6ms/step - loss: 0.0089 - mean_squared_error: 0.0089\n",
      "Epoch 153/200\n",
      "1/1 [==============================] - 0s 5ms/step - loss: 0.0084 - mean_squared_error: 0.0084\n",
      "Epoch 154/200\n",
      "1/1 [==============================] - 0s 4ms/step - loss: 0.0078 - mean_squared_error: 0.0078\n",
      "Epoch 155/200\n",
      "1/1 [==============================] - 0s 6ms/step - loss: 0.0074 - mean_squared_error: 0.0074\n",
      "Epoch 156/200\n",
      "1/1 [==============================] - 0s 5ms/step - loss: 0.0069 - mean_squared_error: 0.0069\n",
      "Epoch 157/200\n",
      "1/1 [==============================] - 0s 5ms/step - loss: 0.0065 - mean_squared_error: 0.0065\n",
      "Epoch 158/200\n",
      "1/1 [==============================] - 0s 5ms/step - loss: 0.0061 - mean_squared_error: 0.0061\n",
      "Epoch 159/200\n",
      "1/1 [==============================] - 0s 4ms/step - loss: 0.0057 - mean_squared_error: 0.0057\n",
      "Epoch 160/200\n",
      "1/1 [==============================] - 0s 5ms/step - loss: 0.0053 - mean_squared_error: 0.0053\n",
      "Epoch 161/200\n",
      "1/1 [==============================] - 0s 4ms/step - loss: 0.0050 - mean_squared_error: 0.0050\n",
      "Epoch 162/200\n",
      "1/1 [==============================] - 0s 4ms/step - loss: 0.0046 - mean_squared_error: 0.0046\n",
      "Epoch 163/200\n",
      "1/1 [==============================] - 0s 4ms/step - loss: 0.0043 - mean_squared_error: 0.0043\n",
      "Epoch 164/200\n",
      "1/1 [==============================] - 0s 4ms/step - loss: 0.0040 - mean_squared_error: 0.0040\n",
      "Epoch 165/200\n",
      "1/1 [==============================] - 0s 6ms/step - loss: 0.0038 - mean_squared_error: 0.0038\n",
      "Epoch 166/200\n",
      "1/1 [==============================] - 0s 5ms/step - loss: 0.0035 - mean_squared_error: 0.0035\n",
      "Epoch 167/200\n",
      "1/1 [==============================] - 0s 7ms/step - loss: 0.0033 - mean_squared_error: 0.0033\n",
      "Epoch 168/200\n",
      "1/1 [==============================] - 0s 4ms/step - loss: 0.0031 - mean_squared_error: 0.0031\n",
      "Epoch 169/200\n",
      "1/1 [==============================] - 0s 5ms/step - loss: 0.0029 - mean_squared_error: 0.0029\n",
      "Epoch 170/200\n",
      "1/1 [==============================] - 0s 4ms/step - loss: 0.0027 - mean_squared_error: 0.0027\n",
      "Epoch 171/200\n",
      "1/1 [==============================] - 0s 4ms/step - loss: 0.0025 - mean_squared_error: 0.0025\n",
      "Epoch 172/200\n",
      "1/1 [==============================] - 0s 3ms/step - loss: 0.0023 - mean_squared_error: 0.0023\n",
      "Epoch 173/200\n",
      "1/1 [==============================] - 0s 6ms/step - loss: 0.0022 - mean_squared_error: 0.0022\n",
      "Epoch 174/200\n",
      "1/1 [==============================] - 0s 4ms/step - loss: 0.0020 - mean_squared_error: 0.0020\n",
      "Epoch 175/200\n",
      "1/1 [==============================] - 0s 4ms/step - loss: 0.0019 - mean_squared_error: 0.0019\n",
      "Epoch 176/200\n",
      "1/1 [==============================] - 0s 3ms/step - loss: 0.0017 - mean_squared_error: 0.0017\n",
      "Epoch 177/200\n",
      "1/1 [==============================] - 0s 4ms/step - loss: 0.0016 - mean_squared_error: 0.0016\n",
      "Epoch 178/200\n",
      "1/1 [==============================] - 0s 4ms/step - loss: 0.0015 - mean_squared_error: 0.0015\n",
      "Epoch 179/200\n",
      "1/1 [==============================] - 0s 4ms/step - loss: 0.0014 - mean_squared_error: 0.0014\n",
      "Epoch 180/200\n",
      "1/1 [==============================] - 0s 3ms/step - loss: 0.0013 - mean_squared_error: 0.0013\n",
      "Epoch 181/200\n",
      "1/1 [==============================] - 0s 3ms/step - loss: 0.0012 - mean_squared_error: 0.0012\n",
      "Epoch 182/200\n",
      "1/1 [==============================] - 0s 3ms/step - loss: 0.0011 - mean_squared_error: 0.0011\n",
      "Epoch 183/200\n",
      "1/1 [==============================] - 0s 3ms/step - loss: 0.0010 - mean_squared_error: 0.0010\n",
      "Epoch 184/200\n",
      "1/1 [==============================] - 0s 997us/step - loss: 9.5801e-04 - mean_squared_error: 9.5801e-04\n",
      "Epoch 185/200\n",
      "1/1 [==============================] - 0s 3ms/step - loss: 8.8761e-04 - mean_squared_error: 8.8761e-04\n",
      "Epoch 186/200\n",
      "1/1 [==============================] - 0s 4ms/step - loss: 8.2200e-04 - mean_squared_error: 8.2200e-04\n",
      "Epoch 187/200\n",
      "1/1 [==============================] - 0s 4ms/step - loss: 7.6088e-04 - mean_squared_error: 7.6088e-04\n",
      "Epoch 188/200\n",
      "1/1 [==============================] - 0s 6ms/step - loss: 7.0396e-04 - mean_squared_error: 7.0396e-04\n",
      "Epoch 189/200\n",
      "1/1 [==============================] - 0s 6ms/step - loss: 6.5096e-04 - mean_squared_error: 6.5096e-04\n",
      "Epoch 190/200\n",
      "1/1 [==============================] - 0s 4ms/step - loss: 6.0164e-04 - mean_squared_error: 6.0164e-04\n",
      "Epoch 191/200\n",
      "1/1 [==============================] - 0s 4ms/step - loss: 5.5576e-04 - mean_squared_error: 5.5576e-04\n",
      "Epoch 192/200\n",
      "1/1 [==============================] - 0s 4ms/step - loss: 5.1312e-04 - mean_squared_error: 5.1312e-04\n",
      "Epoch 193/200\n",
      "1/1 [==============================] - 0s 4ms/step - loss: 4.7357e-04 - mean_squared_error: 4.7357e-04\n",
      "Epoch 194/200\n",
      "1/1 [==============================] - 0s 3ms/step - loss: 4.3682e-04 - mean_squared_error: 4.3682e-04\n",
      "Epoch 195/200\n",
      "1/1 [==============================] - 0s 3ms/step - loss: 4.0276e-04 - mean_squared_error: 4.0276e-04\n",
      "Epoch 196/200\n",
      "1/1 [==============================] - 0s 5ms/step - loss: 3.7118e-04 - mean_squared_error: 3.7118e-04\n",
      "Epoch 197/200\n",
      "1/1 [==============================] - 0s 4ms/step - loss: 3.4193e-04 - mean_squared_error: 3.4193e-04\n",
      "Epoch 198/200\n",
      "1/1 [==============================] - 0s 4ms/step - loss: 3.1484e-04 - mean_squared_error: 3.1484e-04\n",
      "Epoch 199/200\n",
      "1/1 [==============================] - 0s 4ms/step - loss: 2.8977e-04 - mean_squared_error: 2.8977e-04\n",
      "Epoch 200/200\n",
      "1/1 [==============================] - 0s 5ms/step - loss: 2.6658e-04 - mean_squared_error: 2.6658e-04\n"
     ]
    }
   ],
   "source": [
    "hist = model.fit(X,y, epochs=200, verbose=1)"
   ]
  },
  {
   "cell_type": "code",
   "execution_count": 9,
   "metadata": {},
   "outputs": [
    {
     "data": {
      "text/plain": [
       "dict_keys(['loss', 'mean_squared_error'])"
      ]
     },
     "execution_count": 9,
     "metadata": {},
     "output_type": "execute_result"
    }
   ],
   "source": [
    "hist.history.keys()"
   ]
  },
  {
   "cell_type": "code",
   "execution_count": 10,
   "metadata": {},
   "outputs": [],
   "source": [
    "import matplotlib.pyplot as plt"
   ]
  },
  {
   "cell_type": "code",
   "execution_count": 11,
   "metadata": {},
   "outputs": [
    {
     "data": {
      "image/png": "[encoded data removed]",
      "text/plain": [
       "<Figure size 432x288 with 1 Axes>"
      ]
     },
     "metadata": {
      "needs_background": "light"
     },
     "output_type": "display_data"
    }
   ],
   "source": [
    "plt.title(\"loss vs loss\")\n",
    "plt.xlabel('Epoch Number')\n",
    "plt.ylabel(\"Loss\")\n",
    "plt.plot(hist.history['loss'])\n",
    "plt.show()"
   ]
  },
  {
   "cell_type": "code",
   "execution_count": 12,
   "metadata": {},
   "outputs": [
    {
     "data": {
      "image/png": "[encoded data removed]",
      "text/plain": [
       "<Figure size 432x288 with 1 Axes>"
      ]
     },
     "metadata": {
      "needs_background": "light"
     },
     "output_type": "display_data"
    }
   ],
   "source": [
    "plt.title(\"loss vs mean_squared_error\")\n",
    "plt.xlabel(\"Epoch number\")\n",
    "plt.ylabel(\"mean_squared_error\")\n",
    "plt.plot(hist.history['mean_squared_error']);"
   ]
  },
  {
   "cell_type": "code",
   "execution_count": 13,
   "metadata": {},
   "outputs": [
    {
     "name": "stdout",
     "output_type": "stream",
     "text": [
      "[[3.0277348]]\n",
      "[[10.513219]]\n",
      "[[44.94644]]\n"
     ]
    }
   ],
   "source": [
    "print(model.predict([[3,1]]))\n",
    "\n",
    "# we never train the value but it works!!\n",
    "print(model.predict([[3,3.5]])) \n",
    "print(model.predict([[3,15]]))"
   ]
  },
  {
   "cell_type": "code",
   "execution_count": 14,
   "metadata": {},
   "outputs": [
    {
     "name": "stdout",
     "output_type": "stream",
     "text": [
      "ground truth: [3, 6, 9, 12, 15, 18, 21, 24, 27]\n",
      "prediction:  [[ 3.0277348]\n",
      " [ 6.0219283]\n",
      " [ 9.016122 ]\n",
      " [12.010316 ]\n",
      " [15.00451  ]\n",
      " [17.998701 ]\n",
      " [20.992895 ]\n",
      " [23.98709  ]\n",
      " [26.981283 ]]\n"
     ]
    }
   ],
   "source": [
    "print(\"ground truth:\", y)\n",
    "print(\"prediction: \", model.predict(X))\n"
   ]
  },
  {
   "cell_type": "code",
   "execution_count": null,
   "metadata": {},
   "outputs": [],
   "source": []
  },
  {
   "cell_type": "code",
   "execution_count": 15,
   "metadata": {},
   "outputs": [],
   "source": [
    "import numpy as np\n",
    "import keras\n",
    "import tensorflow as tf\n",
    "from keras.models import Sequential\n",
    "from keras.layers import Dense\n",
    "import matplotlib.pyplot as plt"
   ]
  },
  {
   "cell_type": "code",
   "execution_count": 16,
   "metadata": {},
   "outputs": [],
   "source": [
    "X = []\n",
    "\n",
    "for i in range(2, 10):\n",
    "    for j in range(1, 10):\n",
    "        X.append([i, j, i * j])\n",
    "\n",
    "X = np.array(X);\n",
    "np.random.shuffle(X)"
   ]
  },
  {
   "cell_type": "code",
   "execution_count": 17,
   "metadata": {},
   "outputs": [
    {
     "data": {
      "text/plain": [
       "array([[ 8,  9, 72],\n",
       "       [ 9,  9, 81],\n",
       "       [ 8,  1,  8],\n",
       "       [ 5,  5, 25],\n",
       "       [ 6,  6, 36],\n",
       "       [ 4,  4, 16],\n",
       "       [ 4,  3, 12],\n",
       "       [ 5,  1,  5],\n",
       "       [ 8,  8, 64],\n",
       "       [ 7,  1,  7],\n",
       "       [ 2,  5, 10],\n",
       "       [ 3,  2,  6],\n",
       "       [ 7,  6, 42],\n",
       "       [ 9,  2, 18],\n",
       "       [ 2,  9, 18],\n",
       "       [ 5,  4, 20],\n",
       "       [ 7,  7, 49],\n",
       "       [ 3,  4, 12],\n",
       "       [ 7,  5, 35],\n",
       "       [ 9,  8, 72],\n",
       "       [ 6,  8, 48],\n",
       "       [ 6,  9, 54],\n",
       "       [ 2,  7, 14],\n",
       "       [ 7,  2, 14],\n",
       "       [ 2,  8, 16],\n",
       "       [ 6,  4, 24],\n",
       "       [ 3,  6, 18],\n",
       "       [ 3,  1,  3],\n",
       "       [ 5,  6, 30],\n",
       "       [ 5,  9, 45],\n",
       "       [ 8,  6, 48],\n",
       "       [ 4,  6, 24],\n",
       "       [ 3,  5, 15],\n",
       "       [ 4,  2,  8],\n",
       "       [ 9,  6, 54],\n",
       "       [ 2,  3,  6],\n",
       "       [ 8,  3, 24],\n",
       "       [ 6,  7, 42],\n",
       "       [ 4,  7, 28],\n",
       "       [ 3,  9, 27],\n",
       "       [ 7,  9, 63],\n",
       "       [ 4,  8, 32],\n",
       "       [ 2,  4,  8],\n",
       "       [ 5,  2, 10],\n",
       "       [ 5,  7, 35],\n",
       "       [ 3,  3,  9],\n",
       "       [ 3,  7, 21],\n",
       "       [ 2,  6, 12],\n",
       "       [ 6,  2, 12],\n",
       "       [ 6,  5, 30],\n",
       "       [ 3,  8, 24],\n",
       "       [ 8,  2, 16],\n",
       "       [ 9,  7, 63],\n",
       "       [ 2,  1,  2],\n",
       "       [ 7,  3, 21],\n",
       "       [ 5,  8, 40],\n",
       "       [ 4,  9, 36],\n",
       "       [ 4,  1,  4],\n",
       "       [ 9,  5, 45],\n",
       "       [ 6,  3, 18],\n",
       "       [ 6,  1,  6],\n",
       "       [ 8,  4, 32],\n",
       "       [ 4,  5, 20],\n",
       "       [ 7,  4, 28],\n",
       "       [ 8,  7, 56],\n",
       "       [ 9,  3, 27],\n",
       "       [ 2,  2,  4],\n",
       "       [ 5,  3, 15],\n",
       "       [ 8,  5, 40],\n",
       "       [ 7,  8, 56],\n",
       "       [ 9,  4, 36],\n",
       "       [ 9,  1,  9]])"
      ]
     },
     "execution_count": 17,
     "metadata": {},
     "output_type": "execute_result"
    }
   ],
   "source": [
    "X"
   ]
  },
  {
   "cell_type": "code",
   "execution_count": 18,
   "metadata": {},
   "outputs": [
    {
     "name": "stdout",
     "output_type": "stream",
     "text": [
      "(72, 2)\n"
     ]
    },
    {
     "data": {
      "text/plain": [
       "array([[8, 9],\n",
       "       [9, 9],\n",
       "       [8, 1],\n",
       "       [5, 5],\n",
       "       [6, 6],\n",
       "       [4, 4],\n",
       "       [4, 3],\n",
       "       [5, 1],\n",
       "       [8, 8],\n",
       "       [7, 1],\n",
       "       [2, 5],\n",
       "       [3, 2],\n",
       "       [7, 6],\n",
       "       [9, 2],\n",
       "       [2, 9],\n",
       "       [5, 4],\n",
       "       [7, 7],\n",
       "       [3, 4],\n",
       "       [7, 5],\n",
       "       [9, 8],\n",
       "       [6, 8],\n",
       "       [6, 9],\n",
       "       [2, 7],\n",
       "       [7, 2],\n",
       "       [2, 8],\n",
       "       [6, 4],\n",
       "       [3, 6],\n",
       "       [3, 1],\n",
       "       [5, 6],\n",
       "       [5, 9],\n",
       "       [8, 6],\n",
       "       [4, 6],\n",
       "       [3, 5],\n",
       "       [4, 2],\n",
       "       [9, 6],\n",
       "       [2, 3],\n",
       "       [8, 3],\n",
       "       [6, 7],\n",
       "       [4, 7],\n",
       "       [3, 9],\n",
       "       [7, 9],\n",
       "       [4, 8],\n",
       "       [2, 4],\n",
       "       [5, 2],\n",
       "       [5, 7],\n",
       "       [3, 3],\n",
       "       [3, 7],\n",
       "       [2, 6],\n",
       "       [6, 2],\n",
       "       [6, 5],\n",
       "       [3, 8],\n",
       "       [8, 2],\n",
       "       [9, 7],\n",
       "       [2, 1],\n",
       "       [7, 3],\n",
       "       [5, 8],\n",
       "       [4, 9],\n",
       "       [4, 1],\n",
       "       [9, 5],\n",
       "       [6, 3],\n",
       "       [6, 1],\n",
       "       [8, 4],\n",
       "       [4, 5],\n",
       "       [7, 4],\n",
       "       [8, 7],\n",
       "       [9, 3],\n",
       "       [2, 2],\n",
       "       [5, 3],\n",
       "       [8, 5],\n",
       "       [7, 8],\n",
       "       [9, 4],\n",
       "       [9, 1]])"
      ]
     },
     "execution_count": 18,
     "metadata": {},
     "output_type": "execute_result"
    }
   ],
   "source": [
    "xTrain = X[:, :-1]\n",
    "print(xTrain.shape)\n",
    "xTrain"
   ]
  },
  {
   "cell_type": "code",
   "execution_count": 19,
   "metadata": {},
   "outputs": [
    {
     "data": {
      "text/plain": [
       "array([72, 81,  8, 25, 36, 16, 12,  5, 64,  7, 10,  6, 42, 18, 18, 20, 49,\n",
       "       12, 35, 72, 48, 54, 14, 14, 16, 24, 18,  3, 30, 45, 48, 24, 15,  8,\n",
       "       54,  6, 24, 42, 28, 27, 63, 32,  8, 10, 35,  9, 21, 12, 12, 30, 24,\n",
       "       16, 63,  2, 21, 40, 36,  4, 45, 18,  6, 32, 20, 28, 56, 27,  4, 15,\n",
       "       40, 56, 36,  9])"
      ]
     },
     "execution_count": 19,
     "metadata": {},
     "output_type": "execute_result"
    }
   ],
   "source": [
    "yTrain = X[:, -1:].flatten()\n",
    "yTrain"
   ]
  },
  {
   "cell_type": "code",
   "execution_count": 20,
   "metadata": {},
   "outputs": [
    {
     "name": "stdout",
     "output_type": "stream",
     "text": [
      "2\n"
     ]
    }
   ],
   "source": [
    "print(xTrain.shape[1])"
   ]
  },
  {
   "cell_type": "code",
   "execution_count": 21,
   "metadata": {},
   "outputs": [
    {
     "name": "stdout",
     "output_type": "stream",
     "text": [
      "Model: \"sequential_1\"\n",
      "_________________________________________________________________\n",
      "Layer (type)                 Output Shape              Param #   \n",
      "=================================================================\n",
      "dense_1 (Dense)              (None, 2)                 6         \n",
      "_________________________________________________________________\n",
      "dense_2 (Dense)              (None, 1)                 3         \n",
      "=================================================================\n",
      "Total params: 9\n",
      "Trainable params: 9\n",
      "Non-trainable params: 0\n",
      "_________________________________________________________________\n"
     ]
    }
   ],
   "source": [
    "modelA = keras.Sequential([\n",
    "    Dense(2, activation=tf.nn.relu, input_shape=[xTrain.shape[1],]),\n",
    "    Dense(1)\n",
    "])\n",
    "\n",
    "modelA.compile(optimizer='adam', \n",
    "                loss='mse',\n",
    "                metrics=['mae', 'mse'])\n",
    "modelA.summary()"
   ]
  },
  {
   "cell_type": "code",
   "execution_count": 22,
   "metadata": {},
   "outputs": [
    {
     "name": "stdout",
     "output_type": "stream",
     "text": [
      "Model: \"sequential_2\"\n",
      "_________________________________________________________________\n",
      "Layer (type)                 Output Shape              Param #   \n",
      "=================================================================\n",
      "dense_3 (Dense)              (None, 64)                192       \n",
      "_________________________________________________________________\n",
      "dense_4 (Dense)              (None, 32)                2080      \n",
      "_________________________________________________________________\n",
      "dense_5 (Dense)              (None, 1)                 33        \n",
      "=================================================================\n",
      "Total params: 2,305\n",
      "Trainable params: 2,305\n",
      "Non-trainable params: 0\n",
      "_________________________________________________________________\n"
     ]
    }
   ],
   "source": [
    "modelB = keras.Sequential([\n",
    "    Dense(64, activation='relu', input_shape=[xTrain.shape[1],]),\n",
    "    Dense(32, activation='relu'),\n",
    "    Dense(1),\n",
    "])\n",
    "modelB.compile(optimizer='adam', \n",
    "             loss='mse',\n",
    "              metrics=['mae'])\n",
    "modelB.summary()"
   ]
  },
  {
   "cell_type": "code",
   "execution_count": 23,
   "metadata": {},
   "outputs": [],
   "source": [
    "historyA = modelA.fit(xTrain, yTrain, epochs=2000, verbose=0) #, validation_split = 0.3)\n",
    "historyB = modelB.fit(xTrain, yTrain, epochs=2000, verbose=0) #, validation_split = 0.3)"
   ]
  },
  {
   "cell_type": "code",
   "execution_count": 24,
   "metadata": {},
   "outputs": [
    {
     "data": {
      "text/plain": [
       "dict_keys(['loss', 'mae', 'mse'])"
      ]
     },
     "execution_count": 24,
     "metadata": {},
     "output_type": "execute_result"
    }
   ],
   "source": [
    "historyA.history.keys()"
   ]
  },
  {
   "cell_type": "code",
   "execution_count": 25,
   "metadata": {},
   "outputs": [],
   "source": [
    "index = [] \n",
    "for i in historyA.history.keys():\n",
    "    index.append(i)\n"
   ]
  },
  {
   "cell_type": "code",
   "execution_count": 26,
   "metadata": {},
   "outputs": [
    {
     "data": {
      "image/png": "[encoded data removed]",
      "text/plain": [
       "<Figure size 432x288 with 1 Axes>"
      ]
     },
     "metadata": {
      "needs_background": "light"
     },
     "output_type": "display_data"
    }
   ],
   "source": [
    "plt.title(\"loss vs loss\")\n",
    "plt.xlabel('Epoch Number')\n",
    "plt.ylabel(\"Loss\")\n",
    "plt.plot(historyA.history[index[0]])\n",
    "plt.show()"
   ]
  },
  {
   "cell_type": "code",
   "execution_count": 27,
   "metadata": {},
   "outputs": [
    {
     "data": {
      "image/png": "[encoded data removed]",
      "text/plain": [
       "<Figure size 432x288 with 1 Axes>"
      ]
     },
     "metadata": {
      "needs_background": "light"
     },
     "output_type": "display_data"
    }
   ],
   "source": [
    "plt.title(\"loss vs loss\")\n",
    "plt.xlabel('Epoch Number')\n",
    "plt.ylabel(\"Loss\")\n",
    "plt.plot(historyB.history[index[0]])\n",
    "plt.show()"
   ]
  },
  {
   "cell_type": "code",
   "execution_count": 28,
   "metadata": {},
   "outputs": [
    {
     "name": "stdout",
     "output_type": "stream",
     "text": [
      "[[14.0863085]]\n",
      "[[28.695173]]\n",
      "[[48.93223]]\n",
      "[[14.756805]]\n",
      "[[11.742627]]\n",
      "[[42.032543]]\n"
     ]
    }
   ],
   "source": [
    "print(modelA.predict([[3,3]])) # 9\n",
    "print(modelA.predict([[8,3]])) # 24\n",
    "print(modelA.predict([[8,8]])) # 64\n",
    "print(modelA.predict([[6,1]])) # 6\n",
    "print(modelA.predict([[3.5, 2.06]])) # 7.21\n",
    "print(modelA.predict([[5.5, 8.1]])) # 44.55"
   ]
  },
  {
   "cell_type": "code",
   "execution_count": 29,
   "metadata": {},
   "outputs": [
    {
     "name": "stdout",
     "output_type": "stream",
     "text": [
      "WARNING:tensorflow:5 out of the last 11 calls to <function Model.make_predict_function.<locals>.predict_function at 0x0000018357FDE8B0> triggered tf.function retracing. Tracing is expensive and the excessive number of tracings could be due to (1) creating @tf.function repeatedly in a loop, (2) passing tensors with different shapes, (3) passing Python objects instead of tensors. For (1), please define your @tf.function outside of the loop. For (2), @tf.function has experimental_relax_shapes=True option that relaxes argument shapes that can avoid unnecessary retracing. For (3), please refer to https://www.tensorflow.org/guide/function#controlling_retracing and https://www.tensorflow.org/api_docs/python/tf/function for  more details.\n",
      "[[8.95072]]\n",
      "[[24.284782]]\n",
      "[[64.81862]]\n",
      "[[6.0216303]]\n",
      "[[7.288862]]\n",
      "[[44.41844]]\n"
     ]
    }
   ],
   "source": [
    "print(modelB.predict([[3,3]])) # 9\n",
    "print(modelB.predict([[8,3]])) # 24\n",
    "print(modelB.predict([[8,8]])) # 64\n",
    "print(modelB.predict([[6,1]])) # 6\n",
    "print(modelB.predict([[3.5, 2.06]])) # 7.21\n",
    "print(modelB.predict([[5.5, 8.1]])) # 44.55"
   ]
  },
  {
   "cell_type": "code",
   "execution_count": 30,
   "metadata": {},
   "outputs": [],
   "source": [
    "# split test and validation set\n",
    "# Tuning the Hyper-parameters and Layers of Neural Network"
   ]
  }
 ],
 "metadata": {
  "kernelspec": {
   "display_name": "tf-gpu-2022",
   "language": "python",
   "name": "python3"
  },
  "language_info": {
   "codemirror_mode": {
    "name": "ipython",
    "version": 3
   },
   "file_extension": ".py",
   "mimetype": "text/x-python",
   "name": "python",
   "nbconvert_exporter": "python",
   "pygments_lexer": "ipython3",
   "version": "3.9.12"
  },
  "orig_nbformat": 4,
  "vscode": {
   "interpreter": {
    "hash": "72bc0f943a863b7fcc9ff0d11405a78faecbd3bfafd8f122065908abfcb424a6"
   }
  }
 },
 "nbformat": 4,
 "nbformat_minor": 2
}
