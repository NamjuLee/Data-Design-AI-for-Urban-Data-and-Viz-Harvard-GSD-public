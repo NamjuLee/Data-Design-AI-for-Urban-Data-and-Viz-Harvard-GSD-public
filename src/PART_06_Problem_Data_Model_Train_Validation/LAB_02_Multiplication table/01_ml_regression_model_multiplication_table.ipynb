{
 "cells": [
  {
   "cell_type": "markdown",
   "metadata": {},
   "source": [
    "# **Data in Design, AI for Urban Data and Visualization**\n",
    "\n",
    "#### Data, Design Computation, Artificial Intelligence, Visualization, Harvard GSD J Term 2023\n",
    "\n",
    "\n",
    "**KEYWORD:**\n",
    "Vector, Raster, Urban Data, GIS, Data Processing, Data Mining, Machine Learning, Artificial Intelligence, Visualization, Mapping, Design Decision-Making\n",
    "\n",
    "-----\n",
    "\n",
    "#### Instructor : NJ Namju Lee / nj.namju@gmail.com  \n",
    "###### * Linkedin - https://www.linkedin.com/in/nj-namju-lee-926b3252/    * Git - https://github.com/NamjuLee  \n",
    "\n",
    "###### * Web - http://www.njstudio.co.kr                                  * Lab - http://www.njslab.com/NJSLabCore/  \n",
    "\n",
    "###### * Video(English) - https://www.youtube.com/c/njnamjulee            * Writing(English) - https://medium.com/@nj-namju  \n",
    "\n",
    "###### * Video(Korean) - https://www.youtube.com/c/CodeforDesign          * Writing(Korean) - https://brunch.co.kr/@njnamju  \n",
    "-----"
   ]
  },
  {
   "cell_type": "markdown",
   "metadata": {},
   "source": [
    "### AI / ML for designers\n",
    "\n",
    "# Model for Multiplication Table\n",
    "\n",
    "### Computational Design class\n",
    "\n",
    "#### nj.namju@gmail.com"
   ]
  },
  {
   "cell_type": "code",
   "execution_count": 33,
   "metadata": {},
   "outputs": [
    {
     "name": "stdout",
     "output_type": "stream",
     "text": [
      "[[3, 1], [3, 2], [3, 3], [3, 4], [3, 5], [3, 6], [3, 7], [3, 8], [3, 9]]\n",
      "[3, 6, 9, 12, 15, 18, 21, 24, 27]\n"
     ]
    }
   ],
   "source": [
    "tableNumber = 3\n",
    "X = []\n",
    "y = []\n",
    "\n",
    "for i in range(1, 10):\n",
    "    X.append([tableNumber, i])\n",
    "    y.append(tableNumber * i)\n",
    "\n",
    "print(X)\n",
    "print(y)"
   ]
  },
  {
   "cell_type": "code",
   "execution_count": 34,
   "metadata": {},
   "outputs": [],
   "source": [
    "\n",
    "# linear model"
   ]
  },
  {
   "cell_type": "code",
   "execution_count": 35,
   "metadata": {},
   "outputs": [
    {
     "name": "stdout",
     "output_type": "stream",
     "text": [
      "[0. 3.]\n",
      "-8.881784197001252e-15\n"
     ]
    }
   ],
   "source": [
    "from sklearn.linear_model import LinearRegression \n",
    "lrModel =  LinearRegression()\n",
    "lrModel.fit(X, y)\n",
    "print(lrModel.coef_)\n",
    "print(lrModel.intercept_)"
   ]
  },
  {
   "cell_type": "code",
   "execution_count": 36,
   "metadata": {},
   "outputs": [
    {
     "name": "stdout",
     "output_type": "stream",
     "text": [
      "[12.]\n",
      "[15.]\n",
      "[13.5]\n",
      "[36.]\n"
     ]
    }
   ],
   "source": [
    "print(lrModel.predict([[3,4]]))\n",
    "print(lrModel.predict([[3,5]]))\n",
    "\n",
    "print(lrModel.predict([[3, 4.5]]))\n",
    "print(lrModel.predict([[3, 12]]))"
   ]
  },
  {
   "cell_type": "code",
   "execution_count": 37,
   "metadata": {},
   "outputs": [
    {
     "name": "stdout",
     "output_type": "stream",
     "text": [
      "predictions:  [ 3.  6.  9. 12. 15. 18. 21. 24. 27.]\n",
      "1.0\n"
     ]
    }
   ],
   "source": [
    "pred = lrModel.predict(X)\n",
    "print('predictions: ', pred)\n",
    "from sklearn.metrics import r2_score\n",
    "print(r2_score(pred, y))"
   ]
  },
  {
   "cell_type": "code",
   "execution_count": null,
   "metadata": {},
   "outputs": [],
   "source": []
  },
  {
   "cell_type": "code",
   "execution_count": 38,
   "metadata": {},
   "outputs": [],
   "source": [
    "import tensorflow as tf\n",
    "from tensorflow.keras.models import Sequential\n",
    "from tensorflow.keras.layers import Dense"
   ]
  },
  {
   "cell_type": "code",
   "execution_count": 39,
   "metadata": {},
   "outputs": [],
   "source": [
    "model = Sequential([\n",
    "  Dense(units=1, input_shape=[2])\n",
    "])\n",
    "model.compile(loss = tf.keras.losses.mean_squared_error, # for Regression losses # https://keras.io/api/losses/regression_losses/\n",
    "              optimizer=tf.keras.optimizers.Adam(0.1), metrics=['mean_squared_error'])"
   ]
  },
  {
   "cell_type": "code",
   "execution_count": 41,
   "metadata": {},
   "outputs": [
    {
     "name": "stdout",
     "output_type": "stream",
     "text": [
      "Epoch 1/200\n",
      "1/1 [==============================] - 0s 7ms/step - loss: 4.2463 - mean_squared_error: 4.2463\n",
      "Epoch 2/200\n",
      "1/1 [==============================] - 0s 5ms/step - loss: 4.1434 - mean_squared_error: 4.1434\n",
      "Epoch 3/200\n",
      "1/1 [==============================] - 0s 6ms/step - loss: 4.0426 - mean_squared_error: 4.0426\n",
      "Epoch 4/200\n",
      "1/1 [==============================] - 0s 6ms/step - loss: 3.9439 - mean_squared_error: 3.9439\n",
      "Epoch 5/200\n",
      "1/1 [==============================] - 0s 6ms/step - loss: 3.8474 - mean_squared_error: 3.8474\n",
      "Epoch 6/200\n",
      "1/1 [==============================] - 0s 4ms/step - loss: 3.7530 - mean_squared_error: 3.7530\n",
      "Epoch 7/200\n",
      "1/1 [==============================] - 0s 5ms/step - loss: 3.6606 - mean_squared_error: 3.6606\n",
      "Epoch 8/200\n",
      "1/1 [==============================] - 0s 9ms/step - loss: 3.5702 - mean_squared_error: 3.5702\n",
      "Epoch 9/200\n",
      "1/1 [==============================] - 0s 7ms/step - loss: 3.4817 - mean_squared_error: 3.4817\n",
      "Epoch 10/200\n",
      "1/1 [==============================] - 0s 5ms/step - loss: 3.3950 - mean_squared_error: 3.3950\n",
      "Epoch 11/200\n",
      "1/1 [==============================] - 0s 4ms/step - loss: 3.3101 - mean_squared_error: 3.3101\n",
      "Epoch 12/200\n",
      "1/1 [==============================] - 0s 4ms/step - loss: 3.2269 - mean_squared_error: 3.2269\n",
      "Epoch 13/200\n",
      "1/1 [==============================] - 0s 13ms/step - loss: 3.1453 - mean_squared_error: 3.1453\n",
      "Epoch 14/200\n",
      "1/1 [==============================] - 0s 9ms/step - loss: 3.0653 - mean_squared_error: 3.0653\n",
      "Epoch 15/200\n",
      "1/1 [==============================] - 0s 8ms/step - loss: 2.9869 - mean_squared_error: 2.9869\n",
      "Epoch 16/200\n",
      "1/1 [==============================] - 0s 9ms/step - loss: 2.9100 - mean_squared_error: 2.9100\n",
      "Epoch 17/200\n",
      "1/1 [==============================] - 0s 4ms/step - loss: 2.8347 - mean_squared_error: 2.8347\n",
      "Epoch 18/200\n",
      "1/1 [==============================] - 0s 3ms/step - loss: 2.7608 - mean_squared_error: 2.7608\n",
      "Epoch 19/200\n",
      "1/1 [==============================] - 0s 7ms/step - loss: 2.6884 - mean_squared_error: 2.6884\n",
      "Epoch 20/200\n",
      "1/1 [==============================] - 0s 5ms/step - loss: 2.6175 - mean_squared_error: 2.6175\n",
      "Epoch 21/200\n",
      "1/1 [==============================] - 0s 5ms/step - loss: 2.5481 - mean_squared_error: 2.5481\n",
      "Epoch 22/200\n",
      "1/1 [==============================] - 0s 3ms/step - loss: 2.4802 - mean_squared_error: 2.4802\n",
      "Epoch 23/200\n",
      "1/1 [==============================] - 0s 7ms/step - loss: 2.4137 - mean_squared_error: 2.4137\n",
      "Epoch 24/200\n",
      "1/1 [==============================] - 0s 4ms/step - loss: 2.3487 - mean_squared_error: 2.3487\n",
      "Epoch 25/200\n",
      "1/1 [==============================] - 0s 4ms/step - loss: 2.2852 - mean_squared_error: 2.2852\n",
      "Epoch 26/200\n",
      "1/1 [==============================] - 0s 5ms/step - loss: 2.2230 - mean_squared_error: 2.2230\n",
      "Epoch 27/200\n",
      "1/1 [==============================] - 0s 4ms/step - loss: 2.1623 - mean_squared_error: 2.1623\n",
      "Epoch 28/200\n",
      "1/1 [==============================] - 0s 6ms/step - loss: 2.1030 - mean_squared_error: 2.1030\n",
      "Epoch 29/200\n",
      "1/1 [==============================] - 0s 6ms/step - loss: 2.0451 - mean_squared_error: 2.0451\n",
      "Epoch 30/200\n",
      "1/1 [==============================] - 0s 5ms/step - loss: 1.9885 - mean_squared_error: 1.9885\n",
      "Epoch 31/200\n",
      "1/1 [==============================] - 0s 4ms/step - loss: 1.9332 - mean_squared_error: 1.9332\n",
      "Epoch 32/200\n",
      "1/1 [==============================] - 0s 5ms/step - loss: 1.8793 - mean_squared_error: 1.8793\n",
      "Epoch 33/200\n",
      "1/1 [==============================] - 0s 6ms/step - loss: 1.8266 - mean_squared_error: 1.8266\n",
      "Epoch 34/200\n",
      "1/1 [==============================] - 0s 5ms/step - loss: 1.7751 - mean_squared_error: 1.7751\n",
      "Epoch 35/200\n",
      "1/1 [==============================] - 0s 5ms/step - loss: 1.7249 - mean_squared_error: 1.7249\n",
      "Epoch 36/200\n",
      "1/1 [==============================] - 0s 5ms/step - loss: 1.6759 - mean_squared_error: 1.6759\n",
      "Epoch 37/200\n",
      "1/1 [==============================] - 0s 4ms/step - loss: 1.6280 - mean_squared_error: 1.6280\n",
      "Epoch 38/200\n",
      "1/1 [==============================] - 0s 5ms/step - loss: 1.5813 - mean_squared_error: 1.5813\n",
      "Epoch 39/200\n",
      "1/1 [==============================] - 0s 3ms/step - loss: 1.5357 - mean_squared_error: 1.5357\n",
      "Epoch 40/200\n",
      "1/1 [==============================] - 0s 7ms/step - loss: 1.4912 - mean_squared_error: 1.4912\n",
      "Epoch 41/200\n",
      "1/1 [==============================] - 0s 6ms/step - loss: 1.4478 - mean_squared_error: 1.4478\n",
      "Epoch 42/200\n",
      "1/1 [==============================] - 0s 5ms/step - loss: 1.4055 - mean_squared_error: 1.4055\n",
      "Epoch 43/200\n",
      "1/1 [==============================] - 0s 4ms/step - loss: 1.3642 - mean_squared_error: 1.3642\n",
      "Epoch 44/200\n",
      "1/1 [==============================] - 0s 7ms/step - loss: 1.3239 - mean_squared_error: 1.3239\n",
      "Epoch 45/200\n",
      "1/1 [==============================] - 0s 5ms/step - loss: 1.2847 - mean_squared_error: 1.2847\n",
      "Epoch 46/200\n",
      "1/1 [==============================] - 0s 4ms/step - loss: 1.2465 - mean_squared_error: 1.2465\n",
      "Epoch 47/200\n",
      "1/1 [==============================] - 0s 5ms/step - loss: 1.2092 - mean_squared_error: 1.2092\n",
      "Epoch 48/200\n",
      "1/1 [==============================] - 0s 6ms/step - loss: 1.1729 - mean_squared_error: 1.1729\n",
      "Epoch 49/200\n",
      "1/1 [==============================] - 0s 5ms/step - loss: 1.1375 - mean_squared_error: 1.1375\n",
      "Epoch 50/200\n",
      "1/1 [==============================] - 0s 4ms/step - loss: 1.1031 - mean_squared_error: 1.1031\n",
      "Epoch 51/200\n",
      "1/1 [==============================] - 0s 4ms/step - loss: 1.0696 - mean_squared_error: 1.0696\n",
      "Epoch 52/200\n",
      "1/1 [==============================] - 0s 4ms/step - loss: 1.0369 - mean_squared_error: 1.0369\n",
      "Epoch 53/200\n",
      "1/1 [==============================] - 0s 6ms/step - loss: 1.0051 - mean_squared_error: 1.0051\n",
      "Epoch 54/200\n",
      "1/1 [==============================] - 0s 5ms/step - loss: 0.9742 - mean_squared_error: 0.9742\n",
      "Epoch 55/200\n",
      "1/1 [==============================] - 0s 5ms/step - loss: 0.9441 - mean_squared_error: 0.9441\n",
      "Epoch 56/200\n",
      "1/1 [==============================] - 0s 6ms/step - loss: 0.9148 - mean_squared_error: 0.9148\n",
      "Epoch 57/200\n",
      "1/1 [==============================] - 0s 4ms/step - loss: 0.8862 - mean_squared_error: 0.8862\n",
      "Epoch 58/200\n",
      "1/1 [==============================] - 0s 4ms/step - loss: 0.8585 - mean_squared_error: 0.8585\n",
      "Epoch 59/200\n",
      "1/1 [==============================] - 0s 6ms/step - loss: 0.8315 - mean_squared_error: 0.8315\n",
      "Epoch 60/200\n",
      "1/1 [==============================] - 0s 5ms/step - loss: 0.8053 - mean_squared_error: 0.8053\n",
      "Epoch 61/200\n",
      "1/1 [==============================] - 0s 5ms/step - loss: 0.7798 - mean_squared_error: 0.7798\n",
      "Epoch 62/200\n",
      "1/1 [==============================] - 0s 4ms/step - loss: 0.7550 - mean_squared_error: 0.7550\n",
      "Epoch 63/200\n",
      "1/1 [==============================] - 0s 4ms/step - loss: 0.7309 - mean_squared_error: 0.7309\n",
      "Epoch 64/200\n",
      "1/1 [==============================] - 0s 6ms/step - loss: 0.7074 - mean_squared_error: 0.7074\n",
      "Epoch 65/200\n",
      "1/1 [==============================] - 0s 5ms/step - loss: 0.6846 - mean_squared_error: 0.6846\n",
      "Epoch 66/200\n",
      "1/1 [==============================] - 0s 6ms/step - loss: 0.6625 - mean_squared_error: 0.6625\n",
      "Epoch 67/200\n",
      "1/1 [==============================] - 0s 4ms/step - loss: 0.6410 - mean_squared_error: 0.6410\n",
      "Epoch 68/200\n",
      "1/1 [==============================] - 0s 4ms/step - loss: 0.6201 - mean_squared_error: 0.6201\n",
      "Epoch 69/200\n",
      "1/1 [==============================] - 0s 5ms/step - loss: 0.5998 - mean_squared_error: 0.5998\n",
      "Epoch 70/200\n",
      "1/1 [==============================] - 0s 6ms/step - loss: 0.5802 - mean_squared_error: 0.5802\n",
      "Epoch 71/200\n",
      "1/1 [==============================] - 0s 6ms/step - loss: 0.5610 - mean_squared_error: 0.5610\n",
      "Epoch 72/200\n",
      "1/1 [==============================] - 0s 4ms/step - loss: 0.5425 - mean_squared_error: 0.5425\n",
      "Epoch 73/200\n",
      "1/1 [==============================] - 0s 5ms/step - loss: 0.5244 - mean_squared_error: 0.5244\n",
      "Epoch 74/200\n",
      "1/1 [==============================] - 0s 6ms/step - loss: 0.5070 - mean_squared_error: 0.5070\n",
      "Epoch 75/200\n",
      "1/1 [==============================] - 0s 5ms/step - loss: 0.4900 - mean_squared_error: 0.4900\n",
      "Epoch 76/200\n",
      "1/1 [==============================] - 0s 4ms/step - loss: 0.4735 - mean_squared_error: 0.4735\n",
      "Epoch 77/200\n",
      "1/1 [==============================] - 0s 4ms/step - loss: 0.4576 - mean_squared_error: 0.4576\n",
      "Epoch 78/200\n",
      "1/1 [==============================] - 0s 5ms/step - loss: 0.4421 - mean_squared_error: 0.4421\n",
      "Epoch 79/200\n",
      "1/1 [==============================] - 0s 6ms/step - loss: 0.4271 - mean_squared_error: 0.4271\n",
      "Epoch 80/200\n",
      "1/1 [==============================] - 0s 4ms/step - loss: 0.4125 - mean_squared_error: 0.4125\n",
      "Epoch 81/200\n",
      "1/1 [==============================] - 0s 4ms/step - loss: 0.3984 - mean_squared_error: 0.3984\n",
      "Epoch 82/200\n",
      "1/1 [==============================] - 0s 4ms/step - loss: 0.3847 - mean_squared_error: 0.3847\n",
      "Epoch 83/200\n",
      "1/1 [==============================] - 0s 7ms/step - loss: 0.3714 - mean_squared_error: 0.3714\n",
      "Epoch 84/200\n",
      "1/1 [==============================] - 0s 6ms/step - loss: 0.3586 - mean_squared_error: 0.3586\n",
      "Epoch 85/200\n",
      "1/1 [==============================] - 0s 5ms/step - loss: 0.3461 - mean_squared_error: 0.3461\n",
      "Epoch 86/200\n",
      "1/1 [==============================] - 0s 4ms/step - loss: 0.3340 - mean_squared_error: 0.3340\n",
      "Epoch 87/200\n",
      "1/1 [==============================] - 0s 4ms/step - loss: 0.3224 - mean_squared_error: 0.3224\n",
      "Epoch 88/200\n",
      "1/1 [==============================] - 0s 5ms/step - loss: 0.3110 - mean_squared_error: 0.3110\n",
      "Epoch 89/200\n",
      "1/1 [==============================] - 0s 6ms/step - loss: 0.3001 - mean_squared_error: 0.3001\n",
      "Epoch 90/200\n",
      "1/1 [==============================] - 0s 4ms/step - loss: 0.2895 - mean_squared_error: 0.2895\n",
      "Epoch 91/200\n",
      "1/1 [==============================] - 0s 3ms/step - loss: 0.2792 - mean_squared_error: 0.2792\n",
      "Epoch 92/200\n",
      "1/1 [==============================] - 0s 4ms/step - loss: 0.2692 - mean_squared_error: 0.2692\n",
      "Epoch 93/200\n",
      "1/1 [==============================] - 0s 5ms/step - loss: 0.2596 - mean_squared_error: 0.2596\n",
      "Epoch 94/200\n",
      "1/1 [==============================] - 0s 7ms/step - loss: 0.2503 - mean_squared_error: 0.2503\n",
      "Epoch 95/200\n",
      "1/1 [==============================] - 0s 4ms/step - loss: 0.2413 - mean_squared_error: 0.2413\n",
      "Epoch 96/200\n",
      "1/1 [==============================] - 0s 5ms/step - loss: 0.2326 - mean_squared_error: 0.2326\n",
      "Epoch 97/200\n",
      "1/1 [==============================] - 0s 5ms/step - loss: 0.2241 - mean_squared_error: 0.2241\n",
      "Epoch 98/200\n",
      "1/1 [==============================] - 0s 4ms/step - loss: 0.2160 - mean_squared_error: 0.2160\n",
      "Epoch 99/200\n",
      "1/1 [==============================] - 0s 4ms/step - loss: 0.2081 - mean_squared_error: 0.2081\n",
      "Epoch 100/200\n",
      "1/1 [==============================] - 0s 5ms/step - loss: 0.2005 - mean_squared_error: 0.2005\n",
      "Epoch 101/200\n",
      "1/1 [==============================] - 0s 5ms/step - loss: 0.1931 - mean_squared_error: 0.1931\n",
      "Epoch 102/200\n",
      "1/1 [==============================] - 0s 4ms/step - loss: 0.1860 - mean_squared_error: 0.1860\n",
      "Epoch 103/200\n",
      "1/1 [==============================] - 0s 4ms/step - loss: 0.1791 - mean_squared_error: 0.1791\n",
      "Epoch 104/200\n",
      "1/1 [==============================] - 0s 5ms/step - loss: 0.1725 - mean_squared_error: 0.1725\n",
      "Epoch 105/200\n",
      "1/1 [==============================] - 0s 5ms/step - loss: 0.1660 - mean_squared_error: 0.1660\n",
      "Epoch 106/200\n",
      "1/1 [==============================] - 0s 5ms/step - loss: 0.1598 - mean_squared_error: 0.1598\n",
      "Epoch 107/200\n",
      "1/1 [==============================] - 0s 8ms/step - loss: 0.1538 - mean_squared_error: 0.1538\n",
      "Epoch 108/200\n",
      "1/1 [==============================] - 0s 7ms/step - loss: 0.1480 - mean_squared_error: 0.1480\n",
      "Epoch 109/200\n",
      "1/1 [==============================] - 0s 6ms/step - loss: 0.1424 - mean_squared_error: 0.1424\n",
      "Epoch 110/200\n",
      "1/1 [==============================] - 0s 5ms/step - loss: 0.1370 - mean_squared_error: 0.1370\n",
      "Epoch 111/200\n",
      "1/1 [==============================] - 0s 8ms/step - loss: 0.1318 - mean_squared_error: 0.1318\n",
      "Epoch 112/200\n",
      "1/1 [==============================] - 0s 6ms/step - loss: 0.1268 - mean_squared_error: 0.1268\n",
      "Epoch 113/200\n",
      "1/1 [==============================] - 0s 4ms/step - loss: 0.1220 - mean_squared_error: 0.1220\n",
      "Epoch 114/200\n",
      "1/1 [==============================] - 0s 6ms/step - loss: 0.1173 - mean_squared_error: 0.1173\n",
      "Epoch 115/200\n",
      "1/1 [==============================] - 0s 5ms/step - loss: 0.1128 - mean_squared_error: 0.1128\n",
      "Epoch 116/200\n",
      "1/1 [==============================] - 0s 5ms/step - loss: 0.1084 - mean_squared_error: 0.1084\n",
      "Epoch 117/200\n",
      "1/1 [==============================] - 0s 8ms/step - loss: 0.1042 - mean_squared_error: 0.1042\n",
      "Epoch 118/200\n",
      "1/1 [==============================] - 0s 6ms/step - loss: 0.1001 - mean_squared_error: 0.1001\n",
      "Epoch 119/200\n",
      "1/1 [==============================] - 0s 4ms/step - loss: 0.0962 - mean_squared_error: 0.0962\n",
      "Epoch 120/200\n",
      "1/1 [==============================] - 0s 4ms/step - loss: 0.0925 - mean_squared_error: 0.0925\n",
      "Epoch 121/200\n",
      "1/1 [==============================] - 0s 6ms/step - loss: 0.0888 - mean_squared_error: 0.0888\n",
      "Epoch 122/200\n",
      "1/1 [==============================] - 0s 4ms/step - loss: 0.0853 - mean_squared_error: 0.0853\n",
      "Epoch 123/200\n",
      "1/1 [==============================] - 0s 8ms/step - loss: 0.0820 - mean_squared_error: 0.0820\n",
      "Epoch 124/200\n",
      "1/1 [==============================] - 0s 6ms/step - loss: 0.0787 - mean_squared_error: 0.0787\n",
      "Epoch 125/200\n",
      "1/1 [==============================] - 0s 8ms/step - loss: 0.0756 - mean_squared_error: 0.0756\n",
      "Epoch 126/200\n",
      "1/1 [==============================] - 0s 5ms/step - loss: 0.0726 - mean_squared_error: 0.0726\n",
      "Epoch 127/200\n",
      "1/1 [==============================] - 0s 9ms/step - loss: 0.0697 - mean_squared_error: 0.0697\n",
      "Epoch 128/200\n",
      "1/1 [==============================] - 0s 8ms/step - loss: 0.0669 - mean_squared_error: 0.0669\n",
      "Epoch 129/200\n",
      "1/1 [==============================] - 0s 8ms/step - loss: 0.0642 - mean_squared_error: 0.0642\n",
      "Epoch 130/200\n",
      "1/1 [==============================] - 0s 8ms/step - loss: 0.0616 - mean_squared_error: 0.0616\n",
      "Epoch 131/200\n",
      "1/1 [==============================] - 0s 5ms/step - loss: 0.0591 - mean_squared_error: 0.0591\n",
      "Epoch 132/200\n",
      "1/1 [==============================] - 0s 8ms/step - loss: 0.0567 - mean_squared_error: 0.0567\n",
      "Epoch 133/200\n",
      "1/1 [==============================] - 0s 7ms/step - loss: 0.0544 - mean_squared_error: 0.0544\n",
      "Epoch 134/200\n",
      "1/1 [==============================] - 0s 4ms/step - loss: 0.0521 - mean_squared_error: 0.0521\n",
      "Epoch 135/200\n",
      "1/1 [==============================] - 0s 5ms/step - loss: 0.0500 - mean_squared_error: 0.0500\n",
      "Epoch 136/200\n",
      "1/1 [==============================] - 0s 12ms/step - loss: 0.0479 - mean_squared_error: 0.0479\n",
      "Epoch 137/200\n",
      "1/1 [==============================] - 0s 10ms/step - loss: 0.0459 - mean_squared_error: 0.0459\n",
      "Epoch 138/200\n",
      "1/1 [==============================] - 0s 7ms/step - loss: 0.0440 - mean_squared_error: 0.0440\n",
      "Epoch 139/200\n",
      "1/1 [==============================] - 0s 5ms/step - loss: 0.0422 - mean_squared_error: 0.0422\n",
      "Epoch 140/200\n",
      "1/1 [==============================] - 0s 7ms/step - loss: 0.0405 - mean_squared_error: 0.0405\n",
      "Epoch 141/200\n",
      "1/1 [==============================] - 0s 9ms/step - loss: 0.0388 - mean_squared_error: 0.0388\n",
      "Epoch 142/200\n",
      "1/1 [==============================] - 0s 7ms/step - loss: 0.0371 - mean_squared_error: 0.0371\n",
      "Epoch 143/200\n",
      "1/1 [==============================] - 0s 4ms/step - loss: 0.0356 - mean_squared_error: 0.0356\n",
      "Epoch 144/200\n",
      "1/1 [==============================] - 0s 6ms/step - loss: 0.0341 - mean_squared_error: 0.0341\n",
      "Epoch 145/200\n",
      "1/1 [==============================] - 0s 6ms/step - loss: 0.0326 - mean_squared_error: 0.0326\n",
      "Epoch 146/200\n",
      "1/1 [==============================] - 0s 7ms/step - loss: 0.0312 - mean_squared_error: 0.0312\n",
      "Epoch 147/200\n",
      "1/1 [==============================] - 0s 12ms/step - loss: 0.0299 - mean_squared_error: 0.0299\n",
      "Epoch 148/200\n",
      "1/1 [==============================] - 0s 9ms/step - loss: 0.0286 - mean_squared_error: 0.0286\n",
      "Epoch 149/200\n",
      "1/1 [==============================] - 0s 10ms/step - loss: 0.0274 - mean_squared_error: 0.0274\n",
      "Epoch 150/200\n",
      "1/1 [==============================] - 0s 6ms/step - loss: 0.0262 - mean_squared_error: 0.0262\n",
      "Epoch 151/200\n",
      "1/1 [==============================] - 0s 5ms/step - loss: 0.0251 - mean_squared_error: 0.0251\n",
      "Epoch 152/200\n",
      "1/1 [==============================] - 0s 7ms/step - loss: 0.0240 - mean_squared_error: 0.0240\n",
      "Epoch 153/200\n",
      "1/1 [==============================] - 0s 9ms/step - loss: 0.0230 - mean_squared_error: 0.0230\n",
      "Epoch 154/200\n",
      "1/1 [==============================] - 0s 5ms/step - loss: 0.0220 - mean_squared_error: 0.0220\n",
      "Epoch 155/200\n",
      "1/1 [==============================] - 0s 6ms/step - loss: 0.0210 - mean_squared_error: 0.0210\n",
      "Epoch 156/200\n",
      "1/1 [==============================] - 0s 10ms/step - loss: 0.0201 - mean_squared_error: 0.0201\n",
      "Epoch 157/200\n",
      "1/1 [==============================] - 0s 7ms/step - loss: 0.0192 - mean_squared_error: 0.0192\n",
      "Epoch 158/200\n",
      "1/1 [==============================] - 0s 5ms/step - loss: 0.0184 - mean_squared_error: 0.0184\n",
      "Epoch 159/200\n",
      "1/1 [==============================] - 0s 8ms/step - loss: 0.0176 - mean_squared_error: 0.0176\n",
      "Epoch 160/200\n",
      "1/1 [==============================] - 0s 9ms/step - loss: 0.0168 - mean_squared_error: 0.0168\n",
      "Epoch 161/200\n",
      "1/1 [==============================] - 0s 6ms/step - loss: 0.0160 - mean_squared_error: 0.0160\n",
      "Epoch 162/200\n",
      "1/1 [==============================] - 0s 5ms/step - loss: 0.0153 - mean_squared_error: 0.0153\n",
      "Epoch 163/200\n",
      "1/1 [==============================] - 0s 6ms/step - loss: 0.0146 - mean_squared_error: 0.0146\n",
      "Epoch 164/200\n",
      "1/1 [==============================] - 0s 9ms/step - loss: 0.0140 - mean_squared_error: 0.0140\n",
      "Epoch 165/200\n",
      "1/1 [==============================] - 0s 8ms/step - loss: 0.0134 - mean_squared_error: 0.0134\n",
      "Epoch 166/200\n",
      "1/1 [==============================] - 0s 7ms/step - loss: 0.0128 - mean_squared_error: 0.0128\n",
      "Epoch 167/200\n",
      "1/1 [==============================] - 0s 4ms/step - loss: 0.0122 - mean_squared_error: 0.0122\n",
      "Epoch 168/200\n",
      "1/1 [==============================] - 0s 4ms/step - loss: 0.0116 - mean_squared_error: 0.0116\n",
      "Epoch 169/200\n",
      "1/1 [==============================] - 0s 5ms/step - loss: 0.0111 - mean_squared_error: 0.0111\n",
      "Epoch 170/200\n",
      "1/1 [==============================] - 0s 5ms/step - loss: 0.0106 - mean_squared_error: 0.0106\n",
      "Epoch 171/200\n",
      "1/1 [==============================] - 0s 4ms/step - loss: 0.0101 - mean_squared_error: 0.0101\n",
      "Epoch 172/200\n",
      "1/1 [==============================] - 0s 4ms/step - loss: 0.0096 - mean_squared_error: 0.0096\n",
      "Epoch 173/200\n",
      "1/1 [==============================] - 0s 4ms/step - loss: 0.0092 - mean_squared_error: 0.0092\n",
      "Epoch 174/200\n",
      "1/1 [==============================] - 0s 6ms/step - loss: 0.0088 - mean_squared_error: 0.0088\n",
      "Epoch 175/200\n",
      "1/1 [==============================] - 0s 5ms/step - loss: 0.0084 - mean_squared_error: 0.0084\n",
      "Epoch 176/200\n",
      "1/1 [==============================] - 0s 3ms/step - loss: 0.0080 - mean_squared_error: 0.0080\n",
      "Epoch 177/200\n",
      "1/1 [==============================] - 0s 3ms/step - loss: 0.0076 - mean_squared_error: 0.0076\n",
      "Epoch 178/200\n",
      "1/1 [==============================] - 0s 4ms/step - loss: 0.0073 - mean_squared_error: 0.0073\n",
      "Epoch 179/200\n",
      "1/1 [==============================] - 0s 4ms/step - loss: 0.0069 - mean_squared_error: 0.0069\n",
      "Epoch 180/200\n",
      "1/1 [==============================] - 0s 7ms/step - loss: 0.0066 - mean_squared_error: 0.0066\n",
      "Epoch 181/200\n",
      "1/1 [==============================] - 0s 5ms/step - loss: 0.0063 - mean_squared_error: 0.0063\n",
      "Epoch 182/200\n",
      "1/1 [==============================] - 0s 4ms/step - loss: 0.0060 - mean_squared_error: 0.0060\n",
      "Epoch 183/200\n",
      "1/1 [==============================] - 0s 3ms/step - loss: 0.0057 - mean_squared_error: 0.0057\n",
      "Epoch 184/200\n",
      "1/1 [==============================] - 0s 3ms/step - loss: 0.0054 - mean_squared_error: 0.0054\n",
      "Epoch 185/200\n",
      "1/1 [==============================] - 0s 4ms/step - loss: 0.0052 - mean_squared_error: 0.0052\n",
      "Epoch 186/200\n",
      "1/1 [==============================] - 0s 5ms/step - loss: 0.0049 - mean_squared_error: 0.0049\n",
      "Epoch 187/200\n",
      "1/1 [==============================] - 0s 7ms/step - loss: 0.0047 - mean_squared_error: 0.0047\n",
      "Epoch 188/200\n",
      "1/1 [==============================] - 0s 4ms/step - loss: 0.0045 - mean_squared_error: 0.0045\n",
      "Epoch 189/200\n",
      "1/1 [==============================] - 0s 4ms/step - loss: 0.0043 - mean_squared_error: 0.0043\n",
      "Epoch 190/200\n",
      "1/1 [==============================] - 0s 4ms/step - loss: 0.0040 - mean_squared_error: 0.0040\n",
      "Epoch 191/200\n",
      "1/1 [==============================] - 0s 4ms/step - loss: 0.0039 - mean_squared_error: 0.0039\n",
      "Epoch 192/200\n",
      "1/1 [==============================] - 0s 5ms/step - loss: 0.0037 - mean_squared_error: 0.0037\n",
      "Epoch 193/200\n",
      "1/1 [==============================] - 0s 6ms/step - loss: 0.0035 - mean_squared_error: 0.0035\n",
      "Epoch 194/200\n",
      "1/1 [==============================] - 0s 4ms/step - loss: 0.0033 - mean_squared_error: 0.0033\n",
      "Epoch 195/200\n",
      "1/1 [==============================] - 0s 3ms/step - loss: 0.0032 - mean_squared_error: 0.0032\n",
      "Epoch 196/200\n",
      "1/1 [==============================] - 0s 8ms/step - loss: 0.0030 - mean_squared_error: 0.0030\n",
      "Epoch 197/200\n",
      "1/1 [==============================] - 0s 8ms/step - loss: 0.0029 - mean_squared_error: 0.0029\n",
      "Epoch 198/200\n",
      "1/1 [==============================] - 0s 5ms/step - loss: 0.0027 - mean_squared_error: 0.0027\n",
      "Epoch 199/200\n",
      "1/1 [==============================] - 0s 5ms/step - loss: 0.0026 - mean_squared_error: 0.0026\n",
      "Epoch 200/200\n",
      "1/1 [==============================] - 0s 4ms/step - loss: 0.0025 - mean_squared_error: 0.0025\n"
     ]
    }
   ],
   "source": [
    "hist = model.fit(X,y, epochs=200, verbose=1)"
   ]
  },
  {
   "cell_type": "code",
   "execution_count": 42,
   "metadata": {},
   "outputs": [
    {
     "data": {
      "text/plain": [
       "dict_keys(['loss', 'mean_squared_error'])"
      ]
     },
     "execution_count": 42,
     "metadata": {},
     "output_type": "execute_result"
    }
   ],
   "source": [
    "hist.history.keys()"
   ]
  },
  {
   "cell_type": "code",
   "execution_count": 43,
   "metadata": {},
   "outputs": [],
   "source": [
    "import matplotlib.pyplot as plt"
   ]
  },
  {
   "cell_type": "code",
   "execution_count": 44,
   "metadata": {},
   "outputs": [
    {
     "data": {
      "image/png": "[encoded data removed]",
      "text/plain": [
       "<Figure size 432x288 with 1 Axes>"
      ]
     },
     "metadata": {
      "needs_background": "light"
     },
     "output_type": "display_data"
    }
   ],
   "source": [
    "plt.title(\"loss vs loss\")\n",
    "plt.xlabel('Epoch Number')\n",
    "plt.ylabel(\"Loss\")\n",
    "plt.plot(hist.history['loss'])\n",
    "plt.show()"
   ]
  },
  {
   "cell_type": "code",
   "execution_count": 45,
   "metadata": {},
   "outputs": [
    {
     "data": {
      "image/png": "[encoded data removed]",
      "text/plain": [
       "<Figure size 432x288 with 1 Axes>"
      ]
     },
     "metadata": {
      "needs_background": "light"
     },
     "output_type": "display_data"
    }
   ],
   "source": [
    "plt.title(\"loss vs mean_squared_error\")\n",
    "plt.xlabel(\"Epoch number\")\n",
    "plt.ylabel(\"mean_squared_error\")\n",
    "plt.plot(hist.history['mean_squared_error']);"
   ]
  },
  {
   "cell_type": "code",
   "execution_count": 46,
   "metadata": {},
   "outputs": [
    {
     "name": "stdout",
     "output_type": "stream",
     "text": [
      "[[3.0847797]]\n",
      "[[10.539664]]\n",
      "[[44.832127]]\n"
     ]
    }
   ],
   "source": [
    "print(model.predict([[3,1]]))\n",
    "\n",
    "# we never train the value but it works!!\n",
    "print(model.predict([[3,3.5]])) \n",
    "print(model.predict([[3,15]]))"
   ]
  },
  {
   "cell_type": "code",
   "execution_count": 47,
   "metadata": {},
   "outputs": [
    {
     "name": "stdout",
     "output_type": "stream",
     "text": [
      "ground truth: [3, 6, 9, 12, 15, 18, 21, 24, 27]\n",
      "prediction:  [[ 3.0847797]\n",
      " [ 6.066733 ]\n",
      " [ 9.048687 ]\n",
      " [12.030641 ]\n",
      " [15.012594 ]\n",
      " [17.994545 ]\n",
      " [20.9765   ]\n",
      " [23.958452 ]\n",
      " [26.940405 ]]\n"
     ]
    }
   ],
   "source": [
    "print(\"ground truth:\", y)\n",
    "print(\"prediction: \", model.predict(X))\n"
   ]
  },
  {
   "cell_type": "code",
   "execution_count": null,
   "metadata": {},
   "outputs": [],
   "source": []
  },
  {
   "cell_type": "code",
   "execution_count": 64,
   "metadata": {},
   "outputs": [],
   "source": [
    "import numpy as np\n",
    "import keras\n",
    "import tensorflow as tf\n",
    "from keras.models import Sequential\n",
    "from keras.layers import Dense\n",
    "import matplotlib.pyplot as plt"
   ]
  },
  {
   "cell_type": "code",
   "execution_count": 84,
   "metadata": {},
   "outputs": [],
   "source": [
    "X = []\n",
    "\n",
    "for i in range(2, 10):\n",
    "    for j in range(1, 10):\n",
    "        X.append([i, j, i * j])\n",
    "\n",
    "X = np.array(X);\n",
    "np.random.shuffle(X)"
   ]
  },
  {
   "cell_type": "code",
   "execution_count": 85,
   "metadata": {},
   "outputs": [
    {
     "data": {
      "text/plain": [
       "array([[ 2,  3,  6],\n",
       "       [ 8,  5, 40],\n",
       "       [ 3,  4, 12],\n",
       "       [ 2,  4,  8],\n",
       "       [ 6,  3, 18],\n",
       "       [ 2,  1,  2],\n",
       "       [ 5,  2, 10],\n",
       "       [ 6,  2, 12],\n",
       "       [ 6,  7, 42],\n",
       "       [ 9,  3, 27],\n",
       "       [ 7,  4, 28],\n",
       "       [ 5,  8, 40],\n",
       "       [ 5,  4, 20],\n",
       "       [ 6,  6, 36],\n",
       "       [ 2,  6, 12],\n",
       "       [ 4,  7, 28],\n",
       "       [ 9,  1,  9],\n",
       "       [ 8,  3, 24],\n",
       "       [ 7,  8, 56],\n",
       "       [ 9,  8, 72],\n",
       "       [ 4,  3, 12],\n",
       "       [ 3,  3,  9],\n",
       "       [ 8,  2, 16],\n",
       "       [ 3,  7, 21],\n",
       "       [ 7,  9, 63],\n",
       "       [ 6,  9, 54],\n",
       "       [ 5,  1,  5],\n",
       "       [ 3,  5, 15],\n",
       "       [ 5,  6, 30],\n",
       "       [ 3,  6, 18],\n",
       "       [ 4,  8, 32],\n",
       "       [ 8,  8, 64],\n",
       "       [ 9,  9, 81],\n",
       "       [ 5,  9, 45],\n",
       "       [ 4,  2,  8],\n",
       "       [ 9,  2, 18],\n",
       "       [ 7,  1,  7],\n",
       "       [ 4,  9, 36],\n",
       "       [ 3,  2,  6],\n",
       "       [ 2,  9, 18],\n",
       "       [ 4,  4, 16],\n",
       "       [ 3,  8, 24],\n",
       "       [ 6,  5, 30],\n",
       "       [ 7,  6, 42],\n",
       "       [ 4,  1,  4],\n",
       "       [ 3,  9, 27],\n",
       "       [ 7,  7, 49],\n",
       "       [ 5,  3, 15],\n",
       "       [ 6,  4, 24],\n",
       "       [ 8,  6, 48],\n",
       "       [ 2,  8, 16],\n",
       "       [ 8,  1,  8],\n",
       "       [ 2,  7, 14],\n",
       "       [ 2,  2,  4],\n",
       "       [ 9,  5, 45],\n",
       "       [ 3,  1,  3],\n",
       "       [ 2,  5, 10],\n",
       "       [ 6,  1,  6],\n",
       "       [ 5,  5, 25],\n",
       "       [ 6,  8, 48],\n",
       "       [ 9,  4, 36],\n",
       "       [ 4,  6, 24],\n",
       "       [ 7,  2, 14],\n",
       "       [ 8,  4, 32],\n",
       "       [ 8,  9, 72],\n",
       "       [ 9,  6, 54],\n",
       "       [ 7,  3, 21],\n",
       "       [ 7,  5, 35],\n",
       "       [ 4,  5, 20],\n",
       "       [ 8,  7, 56],\n",
       "       [ 5,  7, 35],\n",
       "       [ 9,  7, 63]])"
      ]
     },
     "execution_count": 85,
     "metadata": {},
     "output_type": "execute_result"
    }
   ],
   "source": [
    "X"
   ]
  },
  {
   "cell_type": "code",
   "execution_count": 103,
   "metadata": {},
   "outputs": [
    {
     "name": "stdout",
     "output_type": "stream",
     "text": [
      "(72, 2)\n"
     ]
    },
    {
     "data": {
      "text/plain": [
       "array([[2, 3],\n",
       "       [8, 5],\n",
       "       [3, 4],\n",
       "       [2, 4],\n",
       "       [6, 3],\n",
       "       [2, 1],\n",
       "       [5, 2],\n",
       "       [6, 2],\n",
       "       [6, 7],\n",
       "       [9, 3],\n",
       "       [7, 4],\n",
       "       [5, 8],\n",
       "       [5, 4],\n",
       "       [6, 6],\n",
       "       [2, 6],\n",
       "       [4, 7],\n",
       "       [9, 1],\n",
       "       [8, 3],\n",
       "       [7, 8],\n",
       "       [9, 8],\n",
       "       [4, 3],\n",
       "       [3, 3],\n",
       "       [8, 2],\n",
       "       [3, 7],\n",
       "       [7, 9],\n",
       "       [6, 9],\n",
       "       [5, 1],\n",
       "       [3, 5],\n",
       "       [5, 6],\n",
       "       [3, 6],\n",
       "       [4, 8],\n",
       "       [8, 8],\n",
       "       [9, 9],\n",
       "       [5, 9],\n",
       "       [4, 2],\n",
       "       [9, 2],\n",
       "       [7, 1],\n",
       "       [4, 9],\n",
       "       [3, 2],\n",
       "       [2, 9],\n",
       "       [4, 4],\n",
       "       [3, 8],\n",
       "       [6, 5],\n",
       "       [7, 6],\n",
       "       [4, 1],\n",
       "       [3, 9],\n",
       "       [7, 7],\n",
       "       [5, 3],\n",
       "       [6, 4],\n",
       "       [8, 6],\n",
       "       [2, 8],\n",
       "       [8, 1],\n",
       "       [2, 7],\n",
       "       [2, 2],\n",
       "       [9, 5],\n",
       "       [3, 1],\n",
       "       [2, 5],\n",
       "       [6, 1],\n",
       "       [5, 5],\n",
       "       [6, 8],\n",
       "       [9, 4],\n",
       "       [4, 6],\n",
       "       [7, 2],\n",
       "       [8, 4],\n",
       "       [8, 9],\n",
       "       [9, 6],\n",
       "       [7, 3],\n",
       "       [7, 5],\n",
       "       [4, 5],\n",
       "       [8, 7],\n",
       "       [5, 7],\n",
       "       [9, 7]])"
      ]
     },
     "execution_count": 103,
     "metadata": {},
     "output_type": "execute_result"
    }
   ],
   "source": [
    "xTrain = X[:, :-1]\n",
    "print(xTrain.shape)\n",
    "xTrain"
   ]
  },
  {
   "cell_type": "code",
   "execution_count": 90,
   "metadata": {},
   "outputs": [
    {
     "data": {
      "text/plain": [
       "array([ 6, 40, 12,  8, 18,  2, 10, 12, 42, 27, 28, 40, 20, 36, 12, 28,  9,\n",
       "       24, 56, 72, 12,  9, 16, 21, 63, 54,  5, 15, 30, 18, 32, 64, 81, 45,\n",
       "        8, 18,  7, 36,  6, 18, 16, 24, 30, 42,  4, 27, 49, 15, 24, 48, 16,\n",
       "        8, 14,  4, 45,  3, 10,  6, 25, 48, 36, 24, 14, 32, 72, 54, 21, 35,\n",
       "       20, 56, 35, 63])"
      ]
     },
     "execution_count": 90,
     "metadata": {},
     "output_type": "execute_result"
    }
   ],
   "source": [
    "yTrain = X[:, -1:].flatten()\n",
    "yTrain"
   ]
  },
  {
   "cell_type": "code",
   "execution_count": 107,
   "metadata": {},
   "outputs": [
    {
     "name": "stdout",
     "output_type": "stream",
     "text": [
      "2\n"
     ]
    }
   ],
   "source": [
    "print(xTrain.shape[1])"
   ]
  },
  {
   "cell_type": "code",
   "execution_count": 109,
   "metadata": {},
   "outputs": [
    {
     "name": "stdout",
     "output_type": "stream",
     "text": [
      "Model: \"sequential_7\"\n",
      "_________________________________________________________________\n",
      "Layer (type)                 Output Shape              Param #   \n",
      "=================================================================\n",
      "dense_17 (Dense)             (None, 2)                 6         \n",
      "_________________________________________________________________\n",
      "dense_18 (Dense)             (None, 1)                 3         \n",
      "=================================================================\n",
      "Total params: 9\n",
      "Trainable params: 9\n",
      "Non-trainable params: 0\n",
      "_________________________________________________________________\n"
     ]
    }
   ],
   "source": [
    "modelA = keras.Sequential([\n",
    "    Dense(2, activation=tf.nn.relu, input_shape=[xTrain.shape[1],]),\n",
    "    Dense(1)\n",
    "])\n",
    "\n",
    "modelA.compile(optimizer='adam', \n",
    "                loss='mse',\n",
    "                metrics=['mae', 'mse'])\n",
    "modelA.summary()"
   ]
  },
  {
   "cell_type": "code",
   "execution_count": 110,
   "metadata": {},
   "outputs": [
    {
     "name": "stdout",
     "output_type": "stream",
     "text": [
      "Model: \"sequential_8\"\n",
      "_________________________________________________________________\n",
      "Layer (type)                 Output Shape              Param #   \n",
      "=================================================================\n",
      "dense_19 (Dense)             (None, 64)                192       \n",
      "_________________________________________________________________\n",
      "dense_20 (Dense)             (None, 32)                2080      \n",
      "_________________________________________________________________\n",
      "dense_21 (Dense)             (None, 1)                 33        \n",
      "=================================================================\n",
      "Total params: 2,305\n",
      "Trainable params: 2,305\n",
      "Non-trainable params: 0\n",
      "_________________________________________________________________\n"
     ]
    }
   ],
   "source": [
    "modelB = keras.Sequential([\n",
    "    Dense(64, activation='relu', input_shape=[xTrain.shape[1],]),\n",
    "    Dense(32, activation='relu'),\n",
    "    Dense(1),\n",
    "])\n",
    "modelB.compile(optimizer='adam', \n",
    "             loss='mse',\n",
    "              metrics=['mae'])\n",
    "modelB.summary()"
   ]
  },
  {
   "cell_type": "code",
   "execution_count": 111,
   "metadata": {},
   "outputs": [],
   "source": [
    "historyA = modelA.fit(xTrain, yTrain, epochs=2000, verbose=0) #, validation_split = 0.3)\n",
    "historyB = modelB.fit(xTrain, yTrain, epochs=2000, verbose=0) #, validation_split = 0.3)"
   ]
  },
  {
   "cell_type": "code",
   "execution_count": 112,
   "metadata": {},
   "outputs": [
    {
     "data": {
      "text/plain": [
       "dict_keys(['loss', 'mae', 'mse'])"
      ]
     },
     "execution_count": 112,
     "metadata": {},
     "output_type": "execute_result"
    }
   ],
   "source": [
    "historyA.history.keys()"
   ]
  },
  {
   "cell_type": "code",
   "execution_count": 113,
   "metadata": {},
   "outputs": [],
   "source": [
    "index = [] \n",
    "for i in historyA.history.keys():\n",
    "    index.append(i)\n"
   ]
  },
  {
   "cell_type": "code",
   "execution_count": 114,
   "metadata": {},
   "outputs": [
    {
     "data": {
      "image/png": "[encoded data removed]",
      "text/plain": [
       "<Figure size 432x288 with 1 Axes>"
      ]
     },
     "metadata": {
      "needs_background": "light"
     },
     "output_type": "display_data"
    }
   ],
   "source": [
    "plt.title(\"loss vs loss\")\n",
    "plt.xlabel('Epoch Number')\n",
    "plt.ylabel(\"Loss\")\n",
    "plt.plot(historyA.history[index[0]])\n",
    "plt.show()"
   ]
  },
  {
   "cell_type": "code",
   "execution_count": 115,
   "metadata": {},
   "outputs": [
    {
     "data": {
      "image/png": "[encoded data removed]",
      "text/plain": [
       "<Figure size 432x288 with 1 Axes>"
      ]
     },
     "metadata": {
      "needs_background": "light"
     },
     "output_type": "display_data"
    }
   ],
   "source": [
    "plt.title(\"loss vs loss\")\n",
    "plt.xlabel('Epoch Number')\n",
    "plt.ylabel(\"Loss\")\n",
    "plt.plot(historyB.history[index[0]])\n",
    "plt.show()"
   ]
  },
  {
   "cell_type": "code",
   "execution_count": 116,
   "metadata": {},
   "outputs": [
    {
     "name": "stdout",
     "output_type": "stream",
     "text": [
      "[[15.261203]]\n",
      "[[27.864462]]\n",
      "[[47.708183]]\n",
      "[[14.885669]]\n",
      "[[12.790909]]\n",
      "[[41.80343]]\n"
     ]
    }
   ],
   "source": [
    "print(modelA.predict([[3,3]])) # 9\n",
    "print(modelA.predict([[8,3]])) # 24\n",
    "print(modelA.predict([[8,8]])) # 64\n",
    "print(modelA.predict([[6,1]])) # 6\n",
    "print(modelA.predict([[3.5, 2.06]])) # 7.21\n",
    "print(modelA.predict([[5.5, 8.1]])) # 44.55"
   ]
  },
  {
   "cell_type": "code",
   "execution_count": 117,
   "metadata": {},
   "outputs": [
    {
     "name": "stdout",
     "output_type": "stream",
     "text": [
      "[[9.440005]]\n",
      "[[23.73311]]\n",
      "[[65.1224]]\n",
      "[[5.729328]]\n",
      "[[7.892415]]\n",
      "[[44.85818]]\n"
     ]
    }
   ],
   "source": [
    "print(modelB.predict([[3,3]])) # 9\n",
    "print(modelB.predict([[8,3]])) # 24\n",
    "print(modelB.predict([[8,8]])) # 64\n",
    "print(modelB.predict([[6,1]])) # 6\n",
    "print(modelB.predict([[3.5, 2.06]])) # 7.21\n",
    "print(modelB.predict([[5.5, 8.1]])) # 44.55"
   ]
  },
  {
   "cell_type": "code",
   "execution_count": null,
   "metadata": {},
   "outputs": [],
   "source": [
    "# split test and validation set\n",
    "# Tuning the Hyperparameters and Layers of Neural Network"
   ]
  },
  {
   "cell_type": "code",
   "execution_count": null,
   "metadata": {},
   "outputs": [],
   "source": []
  }
 ],
 "metadata": {
  "interpreter": {
   "hash": "013cb43bc82c93deec78737468eebf90940d36d7ac13c74e2434686121b8a692"
  },
  "kernelspec": {
   "display_name": "Python 3.9.9 ('tf-gpu-2021')",
   "language": "python",
   "name": "python3"
  },
  "language_info": {
   "codemirror_mode": {
    "name": "ipython",
    "version": 3
   },
   "file_extension": ".py",
   "mimetype": "text/x-python",
   "name": "python",
   "nbconvert_exporter": "python",
   "pygments_lexer": "ipython3",
   "version": "3.9.9"
  },
  "orig_nbformat": 4
 },
 "nbformat": 4,
 "nbformat_minor": 2
}
